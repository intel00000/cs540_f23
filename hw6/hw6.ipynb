{
 "cells": [
  {
   "cell_type": "code",
   "execution_count": 1,
   "metadata": {},
   "outputs": [],
   "source": [
    "import torch\n",
    "import torch.nn as nn\n",
    "import torch.nn.functional as F\n",
    "import torch.optim as optim\n",
    "from torchvision import datasets, transforms\n",
    "\n",
    "def get_data_loader(training = True):\n",
    "    \"\"\"\n",
    "\n",
    "    INPUT: \n",
    "        An optional boolean argument (default value is True for training dataset)\n",
    "\n",
    "    RETURNS:\n",
    "        Dataloader for the training set (if training = True) or the test set (if training = False)\n",
    "    \"\"\"\n",
    "    custom_transform =transforms.Compose([\n",
    "        transforms.ToTensor(),\n",
    "        transforms.Normalize((0.1307,), (0.3081,))\n",
    "        ])\n",
    "    \n",
    "    train_set = datasets.FashionMNIST('./data',train = True, download = True,transform=custom_transform)\n",
    "\n",
    "    test_set = datasets.FashionMNIST('./data', train = False, transform = custom_transform)\n",
    "\n",
    "    if training == True:\n",
    "        return torch.utils.data.DataLoader(train_set, batch_size = 64)\n",
    "    else:\n",
    "        return torch.utils.data.DataLoader(test_set, batch_size = 64)\n",
    "\n",
    "\n",
    "\n",
    "def build_model():\n",
    "    \"\"\"\n",
    "\n",
    "    INPUT: \n",
    "        None\n",
    "\n",
    "    RETURNS:\n",
    "        An untrained neural network model\n",
    "    \"\"\"\n",
    "\n",
    "    model = nn.Sequential(\n",
    "        nn.Flatten(),\n",
    "        # A Dense layer with 128 nodes and a ReLU activation.\n",
    "        nn.Linear(784, 128),\n",
    "        nn.ReLU(),\n",
    "        # A Dense layer with 64 nodes and a ReLU activation.\n",
    "        nn.Linear(128, 64),\n",
    "        nn.ReLU(),\n",
    "        # A Dense layer with 10 nodes\n",
    "        nn.Linear(64, 10),\n",
    "        )\n",
    "    \n",
    "    return model\n",
    "\n",
    "\n",
    "\n",
    "def train_model(model, train_loader, criterion, T):\n",
    "    \"\"\"\n",
    "\n",
    "    INPUT: \n",
    "        model - the model produced by the previous function\n",
    "        train_loader  - the train DataLoader produced by the first function\n",
    "        criterion   - cross-entropy \n",
    "        T - number of epochs for training\n",
    "\n",
    "    RETURNS:\n",
    "        None\n",
    "    \"\"\"\n",
    "\n",
    "    optimizer = optim.SGD(model.parameters(), lr=0.001, momentum=0.9)\n",
    "\n",
    "    model.train()\n",
    "    \n",
    "\n",
    "    for epoch in range(T):\n",
    "        correct = 0\n",
    "        for images, labels in train_loader:\n",
    "            # zero the parameter gradients\n",
    "            optimizer.zero_grad()\n",
    "            \n",
    "            result = model(images)\n",
    "            # get the max possibility\n",
    "            predicted = torch.argmax(result, dim=1)\n",
    "            # get the number of correct predictions\n",
    "            correct += (predicted == labels).sum().item()\n",
    "            \n",
    "            loss = criterion(result, labels)\n",
    "            loss.backward()\n",
    "            optimizer.step()\n",
    "            \n",
    "        # print statistics in following format: Train Epoch: ? Accuracy: ?/?(??.??%) Loss: ?.???\n",
    "        print('Train Epoch: {} Accuracy: {}/{}({:.2f}%) Loss: {:.3f}'.format(\n",
    "            epoch, correct, len(train_loader.dataset),\n",
    "            correct / len(train_loader.dataset) * 100, loss.item()))\n",
    "    \n",
    "\n",
    "\n",
    "def evaluate_model(model, test_loader, criterion, show_loss = True):\n",
    "    \"\"\"\n",
    "\n",
    "    INPUT: \n",
    "        model - the the trained model produced by the previous function\n",
    "        test_loader    - the test DataLoader\n",
    "        criterion   - cropy-entropy \n",
    "\n",
    "    RETURNS:\n",
    "        None\n",
    "    \"\"\"\n",
    "\n",
    "    model.eval()\n",
    "    correct = 0\n",
    "    average_loss = 0\n",
    "\n",
    "    with torch.no_grad():\n",
    "        for images, labels in test_loader:\n",
    "            result = model(images)\n",
    "            predicted = torch.argmax(result, dim=1)\n",
    "            correct += (predicted == labels).sum().item()\n",
    "\n",
    "            # get the average loss, not sure\n",
    "            average_loss += criterion(result, labels).item() * len(images) / len(test_loader.dataset)\n",
    "\n",
    "    if show_loss == False:\n",
    "        print('Accuracy: {:.2f}%'.format(correct / len(test_loader.dataset) * 100))\n",
    "    else:\n",
    "        print('Average loss: {:.4f}\\nAccuracy: {:.2f}%'.format(average_loss, correct / len(test_loader.dataset) * 100))\n",
    "\n",
    "def predict_label(model, test_images, index):\n",
    "    \"\"\"\n",
    "\n",
    "    INPUT: \n",
    "        model - the trained model\n",
    "        test_images   -  a tensor. test image set of shape Nx1x28x28\n",
    "        index   -  specific index  i of the image to be tested: 0 <= i <= N - 1\n",
    "\n",
    "\n",
    "    RETURNS:\n",
    "        None\n",
    "    \"\"\"\n",
    "    class_names = ['T-shirt/top','Trouser','Pullover','Dress','Coat','Sandal','Shirt'\n",
    ",'Sneaker','Bag','Ankle Boot']\n",
    "    # pick the image at the specific index\n",
    "    result = model(test_images[index])\n",
    "    # convert from logit to probability\n",
    "    probability = F.softmax(result, dim=1)\n",
    "\n",
    "    # return the index of the top 3 classes in tensor\n",
    "    values,indices = probability.topk(3, largest=True, sorted=True, dim=1)\n",
    "\n",
    "    print('Top 3 classes: {}, {}, {}'.format(class_names[indices[0][0]], class_names[indices[0][1]], class_names[indices[0][2]]))\n",
    "\n",
    "    # extract top 3 classes and their probabilities\n",
    "    top_3_classes = [class_names[indices[0][0]], class_names[indices[0][1]], class_names[indices[0][2]]]\n",
    "    top_3_probabilities = [values[0][0].item(), values[0][1].item(), values[0][2].item()]"
   ]
  },
  {
   "cell_type": "code",
   "execution_count": 2,
   "metadata": {},
   "outputs": [
    {
     "name": "stdout",
     "output_type": "stream",
     "text": [
      "Sequential(\n",
      "  (0): Flatten(start_dim=1, end_dim=-1)\n",
      "  (1): Linear(in_features=784, out_features=128, bias=True)\n",
      "  (2): ReLU()\n",
      "  (3): Linear(in_features=128, out_features=64, bias=True)\n",
      "  (4): ReLU()\n",
      "  (5): Linear(in_features=64, out_features=10, bias=True)\n",
      ")\n"
     ]
    }
   ],
   "source": [
    "criterion = nn.CrossEntropyLoss()\n",
    "\n",
    "model = build_model()\n",
    "print(model)      "
   ]
  },
  {
   "cell_type": "code",
   "execution_count": 3,
   "metadata": {},
   "outputs": [
    {
     "name": "stdout",
     "output_type": "stream",
     "text": [
      "Train Epoch: 0 Accuracy: 42925/60000(71.54%) Loss: 0.705\n",
      "Train Epoch: 1 Accuracy: 49256/60000(82.09%) Loss: 0.582\n",
      "Train Epoch: 2 Accuracy: 50378/60000(83.96%) Loss: 0.493\n",
      "Train Epoch: 3 Accuracy: 50990/60000(84.98%) Loss: 0.435\n",
      "Train Epoch: 4 Accuracy: 51470/60000(85.78%) Loss: 0.394\n"
     ]
    }
   ],
   "source": [
    "train_model(model, get_data_loader(), criterion, 5)"
   ]
  },
  {
   "cell_type": "code",
   "execution_count": 4,
   "metadata": {},
   "outputs": [
    {
     "name": "stdout",
     "output_type": "stream",
     "text": [
      "Average loss: 0.4335\n",
      "Accuracy: 84.58%\n"
     ]
    }
   ],
   "source": [
    "evaluate_model(model, get_data_loader(False), criterion, show_loss = True)"
   ]
  },
  {
   "cell_type": "code",
   "execution_count": 5,
   "metadata": {},
   "outputs": [],
   "source": [
    "images, labels = next(iter(get_data_loader(False)))"
   ]
  },
  {
   "cell_type": "code",
   "execution_count": 6,
   "metadata": {},
   "outputs": [],
   "source": [
    "def predict_label(model, test_images, index):\n",
    "    \"\"\"\n",
    "\n",
    "    INPUT: \n",
    "        model - the trained model\n",
    "        test_images   -  a tensor. test image set of shape Nx1x28x28\n",
    "        index   -  specific index  i of the image to be tested: 0 <= i <= N - 1\n",
    "\n",
    "\n",
    "    RETURNS:\n",
    "        None\n",
    "    \"\"\"\n",
    "    class_names = ['T-shirt/top','Trouser','Pullover','Dress','Coat','Sandal','Shirt'\n",
    ",'Sneaker','Bag','Ankle Boot']\n",
    "    # pick the image at the specific index\n",
    "    result = model(test_images[index])\n",
    "    # convert from logit to probability\n",
    "    probability = F.softmax(result, dim=1)\n",
    "\n",
    "    # return the index of the top n classes in tensor\n",
    "    n = 3\n",
    "    values,indices = probability.topk(n, largest=True, sorted=True, dim=1)\n",
    "\n",
    "    top_n_classes = []\n",
    "    top_n_probabilities = []\n",
    "\n",
    "    for i in range(n):\n",
    "        top_n_classes.append(class_names[indices[0][i]])\n",
    "        top_n_probabilities.append(values[0][i].item())\n",
    "\n",
    "    for i in range(n):\n",
    "        print('{}: {:.2f}%'.format(top_n_classes[i], top_n_probabilities[i] * 100))"
   ]
  },
  {
   "cell_type": "code",
   "execution_count": 7,
   "metadata": {},
   "outputs": [
    {
     "name": "stdout",
     "output_type": "stream",
     "text": [
      "Pullover: 92.64%\n",
      "Shirt: 6.42%\n",
      "Coat: 0.87%\n"
     ]
    }
   ],
   "source": [
    "predict_label(model, images, 1)"
   ]
  }
 ],
 "metadata": {
  "kernelspec": {
   "display_name": "Python 3",
   "language": "python",
   "name": "python3"
  },
  "language_info": {
   "codemirror_mode": {
    "name": "ipython",
    "version": 3
   },
   "file_extension": ".py",
   "mimetype": "text/x-python",
   "name": "python",
   "nbconvert_exporter": "python",
   "pygments_lexer": "ipython3",
   "version": "3.10.2"
  }
 },
 "nbformat": 4,
 "nbformat_minor": 2
}
