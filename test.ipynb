{
 "cells": [
  {
   "cell_type": "code",
   "execution_count": 1,
   "metadata": {},
   "outputs": [],
   "source": [
    "import random\n",
    "import requests\n",
    "import pandas as pd\n",
    "\n",
    "r = requests.get(\"https://pages.cs.wisc.edu/~harter/cs544/data/wi-stations/stations.txt\")\n",
    "r.raise_for_status()\n",
    "stations = r.text.strip().split(\"\\n\")\n",
    "stations = random.sample(stations, k=10)\n",
    "workload = random.choices(stations, k=1000, weights=[0.3, 0.2] + [0.5/8]*8)"
   ]
  },
  {
   "cell_type": "code",
   "execution_count": 2,
   "metadata": {},
   "outputs": [
    {
     "name": "stderr",
     "output_type": "stream",
     "text": [
      "C:\\Users\\R9000P\\AppData\\Local\\Temp\\ipykernel_30144\\265008605.py:2: DtypeWarning: Columns (6) have mixed types. Specify dtype option on import or set low_memory=False.\n",
      "  df = pd.read_csv(f\"https://pages.cs.wisc.edu/~harter/cs544/data/wi-stations/{station}.csv.gz\",\n"
     ]
    },
    {
     "data": {
      "text/html": [
       "<div>\n",
       "<style scoped>\n",
       "    .dataframe tbody tr th:only-of-type {\n",
       "        vertical-align: middle;\n",
       "    }\n",
       "\n",
       "    .dataframe tbody tr th {\n",
       "        vertical-align: top;\n",
       "    }\n",
       "\n",
       "    .dataframe thead th {\n",
       "        text-align: right;\n",
       "    }\n",
       "</style>\n",
       "<table border=\"1\" class=\"dataframe\">\n",
       "  <thead>\n",
       "    <tr style=\"text-align: right;\">\n",
       "      <th></th>\n",
       "      <th>station</th>\n",
       "      <th>date</th>\n",
       "      <th>element</th>\n",
       "      <th>value</th>\n",
       "      <th>m</th>\n",
       "      <th>q</th>\n",
       "      <th>s</th>\n",
       "      <th>obs</th>\n",
       "    </tr>\n",
       "  </thead>\n",
       "  <tbody>\n",
       "    <tr>\n",
       "      <th>0</th>\n",
       "      <td>USC00478267</td>\n",
       "      <td>19050301</td>\n",
       "      <td>PRCP</td>\n",
       "      <td>0</td>\n",
       "      <td>NaN</td>\n",
       "      <td>NaN</td>\n",
       "      <td>0</td>\n",
       "      <td>NaN</td>\n",
       "    </tr>\n",
       "    <tr>\n",
       "      <th>1</th>\n",
       "      <td>USC00478267</td>\n",
       "      <td>19050302</td>\n",
       "      <td>PRCP</td>\n",
       "      <td>0</td>\n",
       "      <td>NaN</td>\n",
       "      <td>NaN</td>\n",
       "      <td>0</td>\n",
       "      <td>NaN</td>\n",
       "    </tr>\n",
       "    <tr>\n",
       "      <th>2</th>\n",
       "      <td>USC00478267</td>\n",
       "      <td>19050303</td>\n",
       "      <td>PRCP</td>\n",
       "      <td>0</td>\n",
       "      <td>T</td>\n",
       "      <td>NaN</td>\n",
       "      <td>0</td>\n",
       "      <td>NaN</td>\n",
       "    </tr>\n",
       "  </tbody>\n",
       "</table>\n",
       "</div>"
      ],
      "text/plain": [
       "       station      date element  value    m    q  s  obs\n",
       "0  USC00478267  19050301    PRCP      0  NaN  NaN  0  NaN\n",
       "1  USC00478267  19050302    PRCP      0  NaN  NaN  0  NaN\n",
       "2  USC00478267  19050303    PRCP      0    T  NaN  0  NaN"
      ]
     },
     "execution_count": 2,
     "metadata": {},
     "output_type": "execute_result"
    }
   ],
   "source": [
    "station = 'USC00478267'\n",
    "df = pd.read_csv(f\"https://pages.cs.wisc.edu/~harter/cs544/data/wi-stations/{station}.csv.gz\",\n",
    "                         names=[\"station\", \"date\", \"element\", \"value\", \"m\", \"q\", \"s\", \"obs\"])\n",
    "df.head(3)"
   ]
  },
  {
   "cell_type": "code",
   "execution_count": 3,
   "metadata": {},
   "outputs": [],
   "source": [
    "import time\n",
    "# FIFO\n",
    "\n",
    "cache_size = 16\n",
    "cache = {}   # key=station name, value=DataFrame for that station\n",
    "evict_order = []     # start of list contains items to be evicted (end of list is freshest)\n",
    "# TODO: use a faster data struct for evict_order than is not O(N) for pop(0)\n",
    "\n",
    "# stats\n",
    "hits = [] # True(hit), False(miss)\n",
    "ms_latencies = []\n",
    "\n",
    "def get_station(station):\n",
    "    start = time.time()\n",
    "    if station in cache:\n",
    "        print(\"hit\", end=\", \")\n",
    "        hits.append(True)\n",
    "        df = cache[station]\n",
    "    else:\n",
    "        print(\"miss\", end=\", \")\n",
    "        hits.append(False)\n",
    "        df = pd.read_csv(f\"https://pages.cs.wisc.edu/~harter/cs544/data/wi-stations/{station}.csv.gz\",\n",
    "                             names=[\"station\", \"date\", \"element\", \"value\", \"m\", \"q\", \"s\", \"obs\"], low_memory=False)\n",
    "\n",
    "        cache[station] = df\n",
    "        evict_order.append(station)\n",
    "        \n",
    "        # should we evict?\n",
    "        if len(cache) > cache_size:\n",
    "            victim = evict_order.pop(0)  # pop from the front\n",
    "            cache.pop(victim)\n",
    "\n",
    "    end = time.time()\n",
    "    ms = (end-start) * 1000\n",
    "    ms_latencies.append(ms)\n",
    "\n",
    "    return df"
   ]
  },
  {
   "cell_type": "code",
   "execution_count": 4,
   "metadata": {},
   "outputs": [
    {
     "name": "stdout",
     "output_type": "stream",
     "text": [
      "miss, miss, hit, miss, miss, miss, hit, hit, hit, miss, miss, hit, hit, hit, hit, hit, hit, miss, hit, hit, hit, hit, hit, hit, hit, hit, miss, hit, hit, hit, hit, hit, hit, hit, hit, hit, hit, hit, hit, hit, hit, hit, hit, hit, hit, hit, hit, hit, hit, hit, hit, hit, hit, hit, hit, hit, hit, hit, hit, hit, hit, hit, hit, hit, hit, hit, hit, hit, hit, hit, hit, miss, hit, hit, hit, hit, hit, hit, hit, hit, hit, hit, hit, hit, hit, hit, hit, hit, hit, hit, hit, hit, hit, hit, hit, hit, hit, hit, hit, hit, hit, hit, hit, hit, hit, hit, hit, hit, hit, hit, hit, hit, hit, hit, hit, hit, hit, hit, hit, hit, hit, hit, hit, hit, hit, hit, hit, hit, hit, hit, hit, hit, hit, hit, hit, hit, hit, hit, hit, hit, hit, hit, hit, hit, hit, hit, hit, hit, hit, hit, hit, hit, hit, hit, hit, hit, hit, hit, hit, hit, hit, hit, hit, hit, hit, hit, hit, hit, hit, hit, hit, hit, hit, hit, hit, hit, hit, hit, hit, hit, hit, hit, hit, hit, hit, hit, hit, hit, hit, hit, hit, hit, hit, hit, hit, hit, hit, hit, hit, hit, hit, hit, hit, hit, hit, hit, hit, hit, hit, hit, hit, hit, hit, hit, hit, hit, hit, hit, hit, hit, hit, hit, hit, hit, hit, hit, hit, hit, hit, hit, hit, hit, hit, hit, hit, hit, hit, hit, hit, hit, hit, hit, hit, hit, hit, hit, hit, hit, hit, hit, hit, hit, hit, hit, hit, hit, hit, hit, hit, hit, hit, hit, hit, hit, hit, hit, hit, hit, hit, hit, hit, hit, hit, hit, hit, hit, hit, hit, hit, hit, hit, hit, hit, hit, hit, hit, hit, hit, hit, hit, hit, hit, hit, hit, hit, hit, hit, hit, hit, hit, hit, hit, hit, hit, hit, hit, hit, hit, hit, hit, hit, hit, hit, hit, hit, hit, hit, hit, hit, hit, hit, hit, hit, hit, hit, hit, hit, hit, hit, hit, hit, hit, hit, hit, hit, hit, hit, hit, hit, hit, hit, hit, hit, hit, hit, hit, hit, hit, hit, hit, hit, hit, hit, hit, hit, hit, hit, hit, hit, hit, hit, hit, hit, hit, hit, hit, hit, hit, hit, hit, hit, hit, hit, hit, hit, hit, hit, hit, hit, hit, hit, hit, hit, hit, hit, hit, hit, hit, hit, hit, hit, hit, hit, hit, hit, hit, hit, hit, hit, hit, hit, hit, hit, hit, hit, hit, hit, hit, hit, hit, hit, hit, hit, hit, hit, hit, hit, hit, hit, hit, hit, hit, hit, hit, hit, hit, hit, hit, hit, hit, hit, hit, hit, hit, hit, hit, hit, hit, hit, hit, hit, hit, hit, hit, hit, hit, hit, hit, hit, hit, hit, hit, hit, hit, hit, hit, hit, hit, hit, hit, hit, hit, hit, hit, hit, hit, hit, hit, hit, hit, hit, hit, hit, hit, hit, hit, hit, hit, hit, hit, hit, hit, hit, hit, hit, hit, hit, hit, hit, hit, hit, hit, hit, hit, hit, hit, hit, hit, hit, hit, hit, hit, hit, hit, hit, hit, hit, hit, hit, hit, hit, hit, hit, hit, hit, hit, hit, hit, hit, hit, hit, hit, hit, hit, hit, hit, hit, hit, hit, hit, hit, hit, hit, hit, hit, hit, hit, hit, hit, hit, hit, hit, hit, hit, hit, hit, hit, hit, hit, hit, hit, hit, hit, hit, hit, hit, hit, hit, hit, hit, hit, hit, hit, hit, hit, hit, hit, hit, hit, hit, hit, hit, hit, hit, hit, hit, hit, hit, hit, hit, hit, hit, hit, hit, hit, hit, hit, hit, hit, hit, hit, hit, hit, hit, hit, hit, hit, hit, hit, hit, hit, hit, hit, hit, hit, hit, hit, hit, hit, hit, hit, hit, hit, hit, hit, hit, hit, hit, hit, hit, hit, hit, hit, hit, hit, hit, hit, hit, hit, hit, hit, hit, hit, hit, hit, hit, hit, hit, hit, hit, hit, hit, hit, hit, hit, hit, hit, hit, hit, hit, hit, hit, hit, hit, hit, hit, hit, hit, hit, hit, hit, hit, hit, hit, hit, hit, hit, hit, hit, hit, hit, hit, hit, hit, hit, hit, hit, hit, hit, hit, hit, hit, hit, hit, hit, hit, hit, hit, hit, hit, hit, hit, hit, hit, hit, hit, hit, hit, hit, hit, hit, hit, hit, hit, hit, hit, hit, hit, hit, hit, hit, hit, hit, hit, hit, hit, hit, hit, hit, hit, hit, hit, hit, hit, hit, hit, hit, hit, hit, hit, hit, hit, hit, hit, hit, hit, hit, hit, hit, hit, hit, hit, hit, hit, hit, hit, hit, hit, hit, hit, hit, hit, hit, hit, hit, hit, hit, hit, hit, hit, hit, hit, hit, hit, hit, hit, hit, hit, hit, hit, hit, hit, hit, hit, hit, hit, hit, hit, hit, hit, hit, hit, hit, hit, hit, hit, hit, hit, hit, hit, hit, hit, hit, hit, hit, hit, hit, hit, hit, hit, hit, hit, hit, hit, hit, hit, hit, hit, hit, hit, hit, hit, hit, hit, hit, hit, hit, hit, hit, hit, hit, hit, hit, hit, hit, hit, hit, hit, hit, hit, hit, hit, hit, hit, hit, hit, hit, hit, hit, hit, hit, hit, hit, hit, hit, hit, hit, hit, hit, hit, hit, hit, hit, hit, hit, hit, hit, hit, hit, hit, hit, hit, hit, hit, hit, hit, hit, hit, hit, hit, hit, hit, hit, hit, hit, hit, hit, hit, hit, hit, hit, hit, hit, hit, hit, hit, hit, hit, hit, hit, hit, hit, hit, hit, hit, hit, hit, hit, hit, hit, hit, hit, hit, hit, hit, hit, hit, hit, hit, hit, hit, hit, hit, hit, hit, hit, hit, hit, hit, hit, hit, hit, hit, hit, hit, hit, hit, hit, hit, hit, hit, hit, hit, hit, hit, hit, hit, hit, hit, hit, hit, hit, hit, hit, hit, hit, hit, hit, hit, hit, hit, hit, hit, hit, hit, hit, hit, hit, hit, hit, hit, hit, hit, hit, hit, hit, hit, hit, hit, hit, hit, hit, hit, hit, hit, hit, hit, hit, hit, hit, hit, hit, hit, hit, hit, hit, hit, hit, hit, hit, hit, hit, hit, hit, hit, hit, hit, hit, hit, hit, "
     ]
    }
   ],
   "source": [
    "# clear cache\n",
    "cache = {}\n",
    "evict_order = []\n",
    "\n",
    "i = 0\n",
    "\n",
    "while i < len(workload):\n",
    "    station = workload[i]\n",
    "    df = get_station(station)\n",
    "    i += 1"
   ]
  },
  {
   "cell_type": "code",
   "execution_count": 5,
   "metadata": {},
   "outputs": [
    {
     "data": {
      "text/plain": [
       "1959.8579406738281"
      ]
     },
     "execution_count": 5,
     "metadata": {},
     "output_type": "execute_result"
    }
   ],
   "source": [
    "sum(ms_latencies)"
   ]
  },
  {
   "cell_type": "code",
   "execution_count": 6,
   "metadata": {},
   "outputs": [
    {
     "name": "stdout",
     "output_type": "stream",
     "text": [
      "hit, hit, hit, hit, hit, hit, hit, hit, hit, hit, hit, hit, hit, hit, hit, hit, hit, hit, hit, hit, hit, hit, hit, hit, hit, hit, hit, hit, hit, hit, hit, hit, hit, hit, hit, hit, hit, hit, hit, hit, hit, hit, hit, hit, hit, hit, hit, hit, hit, hit, hit, hit, hit, hit, hit, hit, hit, hit, hit, hit, hit, hit, hit, hit, hit, hit, hit, hit, hit, hit, hit, hit, hit, hit, hit, hit, hit, hit, hit, hit, hit, hit, hit, hit, hit, hit, hit, hit, hit, hit, hit, hit, hit, hit, hit, hit, hit, hit, hit, hit, hit, hit, hit, hit, hit, hit, hit, hit, hit, hit, hit, hit, hit, hit, hit, hit, hit, hit, hit, hit, hit, hit, hit, hit, hit, hit, hit, hit, hit, hit, hit, hit, hit, hit, hit, hit, hit, hit, hit, hit, hit, hit, hit, hit, hit, hit, hit, hit, hit, hit, hit, hit, hit, hit, hit, hit, hit, hit, hit, hit, hit, hit, hit, hit, hit, hit, hit, hit, hit, hit, hit, hit, hit, hit, hit, hit, hit, hit, hit, hit, hit, hit, hit, hit, hit, hit, hit, hit, hit, hit, hit, hit, hit, hit, hit, hit, hit, hit, hit, hit, hit, hit, hit, hit, hit, hit, hit, hit, hit, hit, hit, hit, hit, hit, hit, hit, hit, hit, hit, hit, hit, hit, hit, hit, hit, hit, hit, hit, hit, hit, hit, hit, hit, hit, hit, hit, hit, hit, hit, hit, hit, hit, hit, hit, hit, hit, hit, hit, hit, hit, hit, hit, hit, hit, hit, hit, hit, hit, hit, hit, hit, hit, hit, hit, hit, hit, hit, hit, hit, hit, hit, hit, hit, hit, hit, hit, hit, hit, hit, hit, hit, hit, hit, hit, hit, hit, hit, hit, hit, hit, hit, hit, hit, hit, hit, hit, hit, hit, hit, hit, hit, hit, hit, hit, hit, hit, hit, hit, hit, hit, hit, hit, hit, hit, hit, hit, hit, hit, hit, hit, hit, hit, hit, hit, hit, hit, hit, hit, hit, hit, hit, hit, hit, hit, hit, hit, hit, hit, hit, hit, hit, hit, hit, hit, hit, hit, hit, hit, hit, hit, hit, hit, hit, hit, hit, hit, hit, hit, hit, hit, hit, hit, hit, hit, hit, hit, hit, hit, hit, hit, hit, hit, hit, hit, hit, hit, hit, hit, hit, hit, hit, hit, hit, hit, hit, hit, hit, hit, hit, hit, hit, hit, hit, hit, hit, hit, hit, hit, hit, hit, hit, hit, hit, hit, hit, hit, hit, hit, hit, hit, hit, hit, hit, hit, hit, hit, hit, hit, hit, hit, hit, hit, hit, hit, hit, hit, hit, hit, hit, hit, hit, hit, hit, hit, hit, hit, hit, hit, hit, hit, hit, hit, hit, hit, hit, hit, hit, hit, hit, hit, hit, hit, hit, hit, hit, hit, hit, hit, hit, hit, hit, hit, hit, hit, hit, hit, hit, hit, hit, hit, hit, hit, hit, hit, hit, hit, hit, hit, hit, hit, hit, hit, hit, hit, hit, hit, hit, hit, hit, hit, hit, hit, hit, hit, hit, hit, hit, hit, hit, hit, "
     ]
    }
   ],
   "source": [
    "i = 0\n",
    "\n",
    "while i < len(workload):\n",
    "    station = workload[i]\n",
    "    df = get_station(station)\n",
    "    i += 2"
   ]
  },
  {
   "cell_type": "code",
   "execution_count": 7,
   "metadata": {},
   "outputs": [
    {
     "data": {
      "text/plain": [
       "1961.2934589385986"
      ]
     },
     "execution_count": 7,
     "metadata": {},
     "output_type": "execute_result"
    }
   ],
   "source": [
    "sum(ms_latencies)"
   ]
  },
  {
   "cell_type": "code",
   "execution_count": 8,
   "metadata": {},
   "outputs": [
    {
     "name": "stdout",
     "output_type": "stream",
     "text": [
      "hit, hit, hit, hit, hit, hit, hit, hit, hit, hit, hit, hit, hit, hit, hit, hit, hit, hit, hit, hit, hit, hit, hit, hit, hit, hit, hit, hit, hit, hit, hit, hit, hit, hit, hit, hit, hit, hit, hit, hit, hit, hit, hit, hit, hit, hit, hit, hit, hit, hit, hit, hit, hit, hit, hit, hit, hit, hit, hit, hit, hit, hit, hit, hit, hit, hit, hit, hit, hit, hit, hit, hit, hit, hit, hit, hit, hit, hit, hit, hit, hit, hit, hit, hit, hit, hit, hit, hit, hit, hit, hit, hit, hit, hit, hit, hit, hit, hit, hit, hit, hit, hit, hit, hit, hit, hit, hit, hit, hit, hit, hit, hit, hit, hit, hit, hit, hit, hit, hit, hit, hit, hit, hit, hit, hit, hit, hit, hit, hit, hit, hit, hit, hit, hit, hit, hit, hit, hit, hit, hit, hit, hit, hit, hit, hit, hit, hit, hit, hit, hit, hit, hit, hit, hit, hit, hit, hit, hit, hit, hit, hit, hit, hit, hit, hit, hit, hit, hit, hit, hit, hit, hit, hit, hit, hit, hit, hit, hit, hit, hit, hit, hit, hit, hit, hit, hit, hit, hit, hit, hit, hit, hit, hit, hit, hit, hit, hit, hit, hit, hit, hit, hit, hit, hit, hit, hit, hit, hit, hit, hit, hit, hit, hit, hit, hit, hit, hit, hit, hit, hit, hit, hit, hit, hit, hit, hit, hit, hit, hit, hit, hit, hit, hit, hit, hit, hit, hit, hit, hit, hit, hit, hit, hit, hit, hit, hit, hit, hit, hit, hit, "
     ]
    }
   ],
   "source": [
    "i = 0\n",
    "\n",
    "while i < len(workload):\n",
    "    station = workload[i]\n",
    "    df = get_station(station)\n",
    "    i += 4"
   ]
  },
  {
   "cell_type": "code",
   "execution_count": 9,
   "metadata": {},
   "outputs": [
    {
     "data": {
      "text/plain": [
       "1.1213106427873885"
      ]
     },
     "execution_count": 9,
     "metadata": {},
     "output_type": "execute_result"
    }
   ],
   "source": [
    "sum(ms_latencies) / len(ms_latencies)"
   ]
  },
  {
   "cell_type": "code",
   "execution_count": 10,
   "metadata": {},
   "outputs": [
    {
     "name": "stdout",
     "output_type": "stream",
     "text": [
      "hit, hit, hit, hit, hit, hit, hit, hit, hit, hit, hit, hit, hit, hit, hit, hit, hit, hit, hit, hit, hit, hit, hit, hit, hit, hit, hit, hit, hit, hit, hit, hit, hit, hit, hit, hit, hit, hit, hit, hit, hit, hit, hit, hit, hit, hit, hit, hit, hit, hit, hit, hit, hit, hit, hit, hit, hit, hit, hit, hit, hit, hit, hit, hit, hit, hit, hit, hit, hit, hit, hit, hit, hit, hit, hit, hit, hit, hit, hit, hit, hit, hit, hit, hit, hit, hit, hit, hit, hit, hit, hit, hit, hit, hit, hit, hit, hit, hit, hit, hit, hit, hit, hit, hit, hit, hit, hit, hit, hit, hit, hit, hit, hit, hit, hit, hit, hit, hit, hit, hit, hit, hit, hit, hit, hit, "
     ]
    }
   ],
   "source": [
    "i = 0\n",
    "\n",
    "while i < len(workload):\n",
    "    station = workload[i]\n",
    "    df = get_station(station)\n",
    "    i += 8"
   ]
  },
  {
   "cell_type": "code",
   "execution_count": 11,
   "metadata": {},
   "outputs": [
    {
     "data": {
      "text/plain": [
       "1.0465565999348958"
      ]
     },
     "execution_count": 11,
     "metadata": {},
     "output_type": "execute_result"
    }
   ],
   "source": [
    "sum(ms_latencies) / len(ms_latencies)"
   ]
  },
  {
   "cell_type": "code",
   "execution_count": 12,
   "metadata": {},
   "outputs": [
    {
     "name": "stdout",
     "output_type": "stream",
     "text": [
      "hit, hit, hit, hit, hit, hit, hit, hit, hit, hit, hit, hit, hit, hit, hit, hit, hit, hit, hit, hit, hit, hit, hit, hit, hit, hit, hit, hit, hit, hit, hit, hit, hit, hit, hit, hit, hit, hit, hit, hit, hit, hit, hit, hit, hit, hit, hit, hit, hit, hit, hit, hit, hit, hit, hit, hit, hit, hit, hit, hit, hit, hit, hit, "
     ]
    }
   ],
   "source": [
    "i = 0\n",
    "\n",
    "while i < len(workload):\n",
    "    station = workload[i]\n",
    "    df = get_station(station)\n",
    "    i += 16"
   ]
  },
  {
   "cell_type": "code",
   "execution_count": 13,
   "metadata": {},
   "outputs": [
    {
     "data": {
      "text/plain": [
       "1.013052967925805"
      ]
     },
     "execution_count": 13,
     "metadata": {},
     "output_type": "execute_result"
    }
   ],
   "source": [
    "sum(ms_latencies) / len(ms_latencies)"
   ]
  },
  {
   "cell_type": "code",
   "execution_count": 14,
   "metadata": {},
   "outputs": [
    {
     "name": "stdout",
     "output_type": "stream",
     "text": [
      "hit, hit, hit, hit, hit, hit, hit, hit, hit, hit, hit, hit, hit, hit, hit, hit, hit, hit, hit, hit, hit, hit, hit, hit, hit, hit, hit, hit, hit, hit, hit, hit, "
     ]
    }
   ],
   "source": [
    "i = 0\n",
    "\n",
    "while i < len(workload):\n",
    "    station = workload[i]\n",
    "    df = get_station(station)\n",
    "    i += 32"
   ]
  },
  {
   "cell_type": "code",
   "execution_count": 15,
   "metadata": {},
   "outputs": [
    {
     "data": {
      "text/plain": [
       "0.9965972851980761"
      ]
     },
     "execution_count": 15,
     "metadata": {},
     "output_type": "execute_result"
    }
   ],
   "source": [
    "sum(ms_latencies) / len(ms_latencies)"
   ]
  },
  {
   "cell_type": "code",
   "execution_count": 16,
   "metadata": {},
   "outputs": [],
   "source": [
    "strides_average_access_time = {1: 0, 2: 0, 4: 0, 8: 0, 16: 0, 32: 0}\n",
    "strides_total_access_time = {1: 0, 2: 0, 4: 0, 8: 0, 16: 0, 32: 0}\n",
    "\n",
    "for stride in strides_average_access_time.keys():\n",
    "    # initialize random array, limit to the largest possible integer\n",
    "    arr = [random.randint(0, 2**32) for i in range(2*1024*1024)]\n",
    "\n",
    "    average_access_time = 0\n",
    "    total_access_time = 0\n",
    "    i = 0\n",
    "    count = 0\n",
    "\n",
    "    while i < len(arr):\n",
    "        start = time.time()\n",
    "        arr[i] *= 3\n",
    "        end = time.time()\n",
    "        ns = (end-start) * 1000000000\n",
    "        total_access_time += ns\n",
    "        i += stride\n",
    "        count += 1\n",
    "\n",
    "    strides_average_access_time[stride] = total_access_time / count\n",
    "    strides_total_access_time[stride] = total_access_time / 1000000000"
   ]
  },
  {
   "cell_type": "code",
   "execution_count": 17,
   "metadata": {},
   "outputs": [
    {
     "data": {
      "text/plain": [
       "{1: 136.45694707520306,\n",
       " 2: 132.7555310126627,\n",
       " 4: 144.18765204027295,\n",
       " 8: 221.32644517114386,\n",
       " 16: 282.33989723958075,\n",
       " 32: 349.82076613232493}"
      ]
     },
     "execution_count": 17,
     "metadata": {},
     "output_type": "execute_result"
    }
   ],
   "source": [
    "strides_average_access_time"
   ]
  },
  {
   "cell_type": "code",
   "execution_count": 18,
   "metadata": {},
   "outputs": [
    {
     "data": {
      "text/plain": [
       "{1: 0.28617095947265625,\n",
       " 2: 0.1392042636871338,\n",
       " 4: 0.07559585571289062,\n",
       " 8: 0.058019399642944336,\n",
       " 16: 0.03700685501098633,\n",
       " 32: 0.022925853729248047}"
      ]
     },
     "execution_count": 18,
     "metadata": {},
     "output_type": "execute_result"
    }
   ],
   "source": [
    "strides_total_access_time"
   ]
  },
  {
   "cell_type": "code",
   "execution_count": 19,
   "metadata": {},
   "outputs": [
    {
     "name": "stderr",
     "output_type": "stream",
     "text": [
      "C:\\Users\\R9000P\\AppData\\Local\\Temp\\ipykernel_30144\\2809229313.py:21: FutureWarning: The geopandas.dataset module is deprecated and will be removed in GeoPandas 1.0. You can get the original 'naturalearth_lowres' data from https://www.naturalearthdata.com/downloads/110m-cultural-vectors/.\n",
      "  map_data = gpd.read_file(gpd.datasets.get_path('naturalearth_lowres'))\n"
     ]
    },
    {
     "data": {
      "image/png": "[encoded data removed]",
      "text/plain": [
       "<Figure size 1500x1000 with 1 Axes>"
      ]
     },
     "metadata": {},
     "output_type": "display_data"
    }
   ],
   "source": [
    "import geopandas as gpd\n",
    "import matplotlib.pyplot as plt\n",
    "\n",
    "# Predefined coordinates of the universities\n",
    "coordinates = {\n",
    "    \"Caltech\": (34.1377, -118.1253),\n",
    "    \"University of California, Berkeley\": (37.8719, -122.2585),\n",
    "    \"MIT\": (42.3601, -71.0942),\n",
    "    \"UCLA\": (34.0689, -118.4452),\n",
    "    \"Scripps Research Institute\": (32.8938, -117.2413),\n",
    "    \"Cornell University\": (42.4534, -76.4735),\n",
    "    \"Yale University\": (41.3163, -72.9223),\n",
    "    \"Princeton University\": (40.3430, -74.6514),\n",
    "    \"University of Chicago\": (41.7897, -87.5995),\n",
    "    \"University of Utah\": (40.7649, -111.8421),\n",
    "    \"University of Michigan\": (42.2780, -83.7382),\n",
    "    \"University of Illinois at Urbana-Champaign\": (40.1018, -88.2272)\n",
    "}\n",
    "\n",
    "# Read the U.S. map (excluding Alaska and Hawaii)\n",
    "map_data = gpd.read_file(gpd.datasets.get_path('naturalearth_lowres'))\n",
    "map_data = map_data[(map_data.pop_est > 0) & (map_data.name == \"United States of America\")]\n",
    "# exclude Alaska and Hawaii in the multi-polygon\n",
    "map_data = map_data[~map_data.name.isin([\"Alaska\", \"Hawaii\"])]\n",
    "\n",
    "\n",
    "\n",
    "# Plotting\n",
    "fig, ax = plt.subplots(figsize=(15, 10))\n",
    "map_data.plot(ax=ax, color='white', edgecolor='black')\n",
    "\n",
    "# Add university locations, labels with guiding lines, and state names\n",
    "for university, (lat, lon) in coordinates.items():\n",
    "    ax.plot(lon, lat, marker='o', color='red', markersize=5)\n",
    "    # Adjusting label position to avoid overlap\n",
    "    label_x_offset = 0.3\n",
    "    label_y_offset = 0.3\n",
    "    ax.text(lon + label_x_offset, lat + label_y_offset, university, fontsize=8, ha='right')\n",
    "    ax.plot([lon, lon + label_x_offset], [lat, lat + label_y_offset], color='red', linestyle='-', linewidth=0.5)\n",
    "\n",
    "ax.set_title(\"Locations of Selected Universities in the Contiguous United States\")\n",
    "plt.show()"
   ]
  },
  {
   "cell_type": "code",
   "execution_count": 22,
   "metadata": {},
   "outputs": [
    {
     "name": "stderr",
     "output_type": "stream",
     "text": [
      "c:\\Program Files\\Python311\\Lib\\site-packages\\matplotlib\\text.py:757: FutureWarning: Calling float on a single element Series is deprecated and will raise a TypeError in the future. Use float(ser.iloc[0]) instead\n",
      "  posx = float(self.convert_xunits(self._x))\n",
      "c:\\Program Files\\Python311\\Lib\\site-packages\\matplotlib\\text.py:758: FutureWarning: Calling float on a single element Series is deprecated and will raise a TypeError in the future. Use float(ser.iloc[0]) instead\n",
      "  posy = float(self.convert_yunits(self._y))\n",
      "c:\\Program Files\\Python311\\Lib\\site-packages\\matplotlib\\text.py:897: FutureWarning: Calling float on a single element Series is deprecated and will raise a TypeError in the future. Use float(ser.iloc[0]) instead\n",
      "  x = float(self.convert_xunits(self._x))\n",
      "c:\\Program Files\\Python311\\Lib\\site-packages\\matplotlib\\text.py:898: FutureWarning: Calling float on a single element Series is deprecated and will raise a TypeError in the future. Use float(ser.iloc[0]) instead\n",
      "  y = float(self.convert_yunits(self._y))\n"
     ]
    },
    {
     "data": {
      "image/png": "[encoded data removed]",
      "text/plain": [
       "<Figure size 1500x1000 with 1 Axes>"
      ]
     },
     "metadata": {},
     "output_type": "display_data"
    }
   ],
   "source": [
    "import matplotlib.pyplot as plt\n",
    "import geopandas as gpd\n",
    "import pandas as pd\n",
    "from shapely.geometry import box\n",
    "from shapely.geometry import Polygon\n",
    "import os\n",
    "\n",
    "# Predefined coordinates for the universities\n",
    "coordinates = {\n",
    "    \"Caltech\": (34.1377, -118.1253),\n",
    "    \"UC Berkeley\": (37.8715, -122.2730),\n",
    "    \"MIT\": (42.3601, -71.0942),\n",
    "    \"UCLA\": (34.0689, -118.4452),\n",
    "    \"Scripps Research\": (32.8938, -117.2413),\n",
    "    \"Cornell University\": (42.4534, -76.4735),\n",
    "    \"Yale University\": (41.3163, -72.9223),\n",
    "    \"Princeton University\": (40.3430, -74.6514),\n",
    "    \"University of Chicago\": (41.7886, -87.5987),\n",
    "    \"University of Utah\": (40.7649, -111.8421),\n",
    "    \"University of Michigan\": (42.2780, -83.7382),\n",
    "    \"University of Illinois at Urbana-Champaign\": (40.1018, -88.2272),\n",
    "    \"University of Wisconsin-Madison\": (43.0760, -89.4125)\n",
    "}\n",
    "\n",
    "# Convert to DataFrame\n",
    "df = pd.DataFrame.from_dict(coordinates, orient='index', columns=['Latitude', 'Longitude'])\n",
    "df.reset_index(inplace=True)\n",
    "df.rename(columns={'index': 'University'}, inplace=True)\n",
    "\n",
    "# Load the USA map excluding Alaska and Hawaii\n",
    "usa = gpd.read_file('cb_2022_us_state_500k.shp')\n",
    "# exclude Alaska and Hawaii in the multi-polygon\n",
    "# add bounding box for the contiguous USA\n",
    "usa = usa.clip(box(-125, 20, -65, 50))\n",
    "\n",
    "# Plotting\n",
    "fig, ax = plt.subplots(figsize=(15, 10))\n",
    "# less transparent\n",
    "usa.plot(ax=ax, color='white', edgecolor='black', alpha=0.5)\n",
    "plt.scatter(df['Longitude'], df['Latitude'], color='red', marker='o', s=15)\n",
    "\n",
    "# Adding annotations for each point\n",
    "for idx, row in df.iterrows():\n",
    "    if row['University'] == \"Caltech\":\n",
    "        # plot on left side, bold font\n",
    "        label_x_offset = 0.5\n",
    "        label_y_offset = 0.5\n",
    "        plt.text(row['Longitude'] + label_x_offset, row['Latitude'] + label_y_offset, row['University'], fontsize=12, color='blue', ha='left', fontdict={'weight': 'bold'})\n",
    "        # plot a line to the point\n",
    "        plt.plot([row['Longitude'], row['Longitude'] + label_x_offset], [row['Latitude'], row['Latitude'] + label_y_offset], color='blue', linestyle='-', linewidth=0.5)\n",
    "    else:\n",
    "        label_x_offset = -0.5\n",
    "        label_y_offset = 0.5\n",
    "        plt.text(row['Longitude'] + label_x_offset, row['Latitude'] + label_y_offset, row['University'], fontsize=12, color='blue', ha='right',  fontdict={'weight': 'bold'})\n",
    "        plt.plot([row['Longitude'], row['Longitude'] + label_x_offset], [row['Latitude'], row['Latitude'] + label_y_offset], color='blue', linestyle='-', linewidth=1)\n",
    "    \n",
    "\n",
    "# plot each state name in the center of the state polygon using centroid\n",
    "for idx, row in usa.iterrows():\n",
    "    g = gpd.GeoSeries(row['geometry'])\n",
    "    centroid = g.centroid\n",
    "    plt.text(centroid.x, centroid.y, row['NAME'], fontsize=9, ha='center')\n",
    "\n",
    "plt.title(\"Location of Universities on US Map\")\n",
    "plt.xlabel(\"Longitude\")\n",
    "plt.ylabel(\"Latitude\")\n",
    "# set font to Arial\n",
    "plt.show()"
   ]
  },
  {
   "cell_type": "code",
   "execution_count": 21,
   "metadata": {},
   "outputs": [
    {
     "ename": "DefaultCredentialsError",
     "evalue": "Your default credentials were not found. To set up Application Default Credentials, see https://cloud.google.com/docs/authentication/external/set-up-adc for more information.",
     "output_type": "error",
     "traceback": [
      "\u001b[1;31m---------------------------------------------------------------------------\u001b[0m",
      "\u001b[1;31mDefaultCredentialsError\u001b[0m                   Traceback (most recent call last)",
      "Cell \u001b[1;32mIn[21], line 8\u001b[0m\n\u001b[0;32m      5\u001b[0m \u001b[38;5;28;01mimport\u001b[39;00m \u001b[38;5;21;01mmatplotlib\u001b[39;00m\u001b[38;5;21;01m.\u001b[39;00m\u001b[38;5;21;01mpyplot\u001b[39;00m \u001b[38;5;28;01mas\u001b[39;00m \u001b[38;5;21;01mplt\u001b[39;00m\n\u001b[0;32m      7\u001b[0m \u001b[38;5;66;03m# Initialize a BigQuery client\u001b[39;00m\n\u001b[1;32m----> 8\u001b[0m client \u001b[38;5;241m=\u001b[39m \u001b[43mbigquery\u001b[49m\u001b[38;5;241;43m.\u001b[39;49m\u001b[43mClient\u001b[49m\u001b[43m(\u001b[49m\u001b[43m)\u001b[49m\n\u001b[0;32m     10\u001b[0m \u001b[38;5;66;03m# Query to get state boundaries\u001b[39;00m\n\u001b[0;32m     11\u001b[0m query \u001b[38;5;241m=\u001b[39m \u001b[38;5;124m\"\"\"\u001b[39m\n\u001b[0;32m     12\u001b[0m \u001b[38;5;124mSELECT geo_id, state_name, ST_AsText(geometry) as geometry\u001b[39m\n\u001b[0;32m     13\u001b[0m \u001b[38;5;124mFROM `bigquery-public-data.geo_us_boundaries.states`\u001b[39m\n\u001b[0;32m     14\u001b[0m \u001b[38;5;124m\"\"\"\u001b[39m\n",
      "File \u001b[1;32m~\\AppData\\Roaming\\Python\\Python311\\site-packages\\google\\cloud\\bigquery\\client.py:237\u001b[0m, in \u001b[0;36mClient.__init__\u001b[1;34m(self, project, credentials, _http, location, default_query_job_config, default_load_job_config, client_info, client_options)\u001b[0m\n\u001b[0;32m    226\u001b[0m \u001b[38;5;28;01mdef\u001b[39;00m \u001b[38;5;21m__init__\u001b[39m(\n\u001b[0;32m    227\u001b[0m     \u001b[38;5;28mself\u001b[39m,\n\u001b[0;32m    228\u001b[0m     project\u001b[38;5;241m=\u001b[39m\u001b[38;5;28;01mNone\u001b[39;00m,\n\u001b[1;32m   (...)\u001b[0m\n\u001b[0;32m    235\u001b[0m     client_options\u001b[38;5;241m=\u001b[39m\u001b[38;5;28;01mNone\u001b[39;00m,\n\u001b[0;32m    236\u001b[0m ) \u001b[38;5;241m-\u001b[39m\u001b[38;5;241m>\u001b[39m \u001b[38;5;28;01mNone\u001b[39;00m:\n\u001b[1;32m--> 237\u001b[0m     \u001b[38;5;28;43msuper\u001b[39;49m\u001b[43m(\u001b[49m\u001b[43mClient\u001b[49m\u001b[43m,\u001b[49m\u001b[43m \u001b[49m\u001b[38;5;28;43mself\u001b[39;49m\u001b[43m)\u001b[49m\u001b[38;5;241;43m.\u001b[39;49m\u001b[38;5;21;43m__init__\u001b[39;49m\u001b[43m(\u001b[49m\n\u001b[0;32m    238\u001b[0m \u001b[43m        \u001b[49m\u001b[43mproject\u001b[49m\u001b[38;5;241;43m=\u001b[39;49m\u001b[43mproject\u001b[49m\u001b[43m,\u001b[49m\n\u001b[0;32m    239\u001b[0m \u001b[43m        \u001b[49m\u001b[43mcredentials\u001b[49m\u001b[38;5;241;43m=\u001b[39;49m\u001b[43mcredentials\u001b[49m\u001b[43m,\u001b[49m\n\u001b[0;32m    240\u001b[0m \u001b[43m        \u001b[49m\u001b[43mclient_options\u001b[49m\u001b[38;5;241;43m=\u001b[39;49m\u001b[43mclient_options\u001b[49m\u001b[43m,\u001b[49m\n\u001b[0;32m    241\u001b[0m \u001b[43m        \u001b[49m\u001b[43m_http\u001b[49m\u001b[38;5;241;43m=\u001b[39;49m\u001b[43m_http\u001b[49m\u001b[43m,\u001b[49m\n\u001b[0;32m    242\u001b[0m \u001b[43m    \u001b[49m\u001b[43m)\u001b[49m\n\u001b[0;32m    244\u001b[0m     kw_args \u001b[38;5;241m=\u001b[39m {\u001b[38;5;124m\"\u001b[39m\u001b[38;5;124mclient_info\u001b[39m\u001b[38;5;124m\"\u001b[39m: client_info}\n\u001b[0;32m    245\u001b[0m     bq_host \u001b[38;5;241m=\u001b[39m _get_bigquery_host()\n",
      "File \u001b[1;32m~\\AppData\\Roaming\\Python\\Python311\\site-packages\\google\\cloud\\client\\__init__.py:320\u001b[0m, in \u001b[0;36mClientWithProject.__init__\u001b[1;34m(self, project, credentials, client_options, _http)\u001b[0m\n\u001b[0;32m    319\u001b[0m \u001b[38;5;28;01mdef\u001b[39;00m \u001b[38;5;21m__init__\u001b[39m(\u001b[38;5;28mself\u001b[39m, project\u001b[38;5;241m=\u001b[39m\u001b[38;5;28;01mNone\u001b[39;00m, credentials\u001b[38;5;241m=\u001b[39m\u001b[38;5;28;01mNone\u001b[39;00m, client_options\u001b[38;5;241m=\u001b[39m\u001b[38;5;28;01mNone\u001b[39;00m, _http\u001b[38;5;241m=\u001b[39m\u001b[38;5;28;01mNone\u001b[39;00m):\n\u001b[1;32m--> 320\u001b[0m     \u001b[43m_ClientProjectMixin\u001b[49m\u001b[38;5;241;43m.\u001b[39;49m\u001b[38;5;21;43m__init__\u001b[39;49m\u001b[43m(\u001b[49m\u001b[38;5;28;43mself\u001b[39;49m\u001b[43m,\u001b[49m\u001b[43m \u001b[49m\u001b[43mproject\u001b[49m\u001b[38;5;241;43m=\u001b[39;49m\u001b[43mproject\u001b[49m\u001b[43m,\u001b[49m\u001b[43m \u001b[49m\u001b[43mcredentials\u001b[49m\u001b[38;5;241;43m=\u001b[39;49m\u001b[43mcredentials\u001b[49m\u001b[43m)\u001b[49m\n\u001b[0;32m    321\u001b[0m     Client\u001b[38;5;241m.\u001b[39m\u001b[38;5;21m__init__\u001b[39m(\n\u001b[0;32m    322\u001b[0m         \u001b[38;5;28mself\u001b[39m, credentials\u001b[38;5;241m=\u001b[39mcredentials, client_options\u001b[38;5;241m=\u001b[39mclient_options, _http\u001b[38;5;241m=\u001b[39m_http\n\u001b[0;32m    323\u001b[0m     )\n",
      "File \u001b[1;32m~\\AppData\\Roaming\\Python\\Python311\\site-packages\\google\\cloud\\client\\__init__.py:268\u001b[0m, in \u001b[0;36m_ClientProjectMixin.__init__\u001b[1;34m(self, project, credentials)\u001b[0m\n\u001b[0;32m    265\u001b[0m     project \u001b[38;5;241m=\u001b[39m \u001b[38;5;28mgetattr\u001b[39m(credentials, \u001b[38;5;124m\"\u001b[39m\u001b[38;5;124mproject_id\u001b[39m\u001b[38;5;124m\"\u001b[39m, \u001b[38;5;28;01mNone\u001b[39;00m)\n\u001b[0;32m    267\u001b[0m \u001b[38;5;28;01mif\u001b[39;00m project \u001b[38;5;129;01mis\u001b[39;00m \u001b[38;5;28;01mNone\u001b[39;00m:\n\u001b[1;32m--> 268\u001b[0m     project \u001b[38;5;241m=\u001b[39m \u001b[38;5;28;43mself\u001b[39;49m\u001b[38;5;241;43m.\u001b[39;49m\u001b[43m_determine_default\u001b[49m\u001b[43m(\u001b[49m\u001b[43mproject\u001b[49m\u001b[43m)\u001b[49m\n\u001b[0;32m    270\u001b[0m \u001b[38;5;28;01mif\u001b[39;00m project \u001b[38;5;129;01mis\u001b[39;00m \u001b[38;5;28;01mNone\u001b[39;00m:\n\u001b[0;32m    271\u001b[0m     \u001b[38;5;28;01mraise\u001b[39;00m \u001b[38;5;167;01mEnvironmentError\u001b[39;00m(\n\u001b[0;32m    272\u001b[0m         \u001b[38;5;124m\"\u001b[39m\u001b[38;5;124mProject was not passed and could not be \u001b[39m\u001b[38;5;124m\"\u001b[39m\n\u001b[0;32m    273\u001b[0m         \u001b[38;5;124m\"\u001b[39m\u001b[38;5;124mdetermined from the environment.\u001b[39m\u001b[38;5;124m\"\u001b[39m\n\u001b[0;32m    274\u001b[0m     )\n",
      "File \u001b[1;32m~\\AppData\\Roaming\\Python\\Python311\\site-packages\\google\\cloud\\client\\__init__.py:287\u001b[0m, in \u001b[0;36m_ClientProjectMixin._determine_default\u001b[1;34m(project)\u001b[0m\n\u001b[0;32m    284\u001b[0m \u001b[38;5;129m@staticmethod\u001b[39m\n\u001b[0;32m    285\u001b[0m \u001b[38;5;28;01mdef\u001b[39;00m \u001b[38;5;21m_determine_default\u001b[39m(project):\n\u001b[0;32m    286\u001b[0m \u001b[38;5;250m    \u001b[39m\u001b[38;5;124;03m\"\"\"Helper:  use default project detection.\"\"\"\u001b[39;00m\n\u001b[1;32m--> 287\u001b[0m     \u001b[38;5;28;01mreturn\u001b[39;00m \u001b[43m_determine_default_project\u001b[49m\u001b[43m(\u001b[49m\u001b[43mproject\u001b[49m\u001b[43m)\u001b[49m\n",
      "File \u001b[1;32m~\\AppData\\Roaming\\Python\\Python311\\site-packages\\google\\cloud\\_helpers\\__init__.py:152\u001b[0m, in \u001b[0;36m_determine_default_project\u001b[1;34m(project)\u001b[0m\n\u001b[0;32m    140\u001b[0m \u001b[38;5;250m\u001b[39m\u001b[38;5;124;03m\"\"\"Determine default project ID explicitly or implicitly as fall-back.\u001b[39;00m\n\u001b[0;32m    141\u001b[0m \n\u001b[0;32m    142\u001b[0m \u001b[38;5;124;03mSee :func:`google.auth.default` for details on how the default project\u001b[39;00m\n\u001b[1;32m   (...)\u001b[0m\n\u001b[0;32m    149\u001b[0m \u001b[38;5;124;03m:returns: Default project if it can be determined.\u001b[39;00m\n\u001b[0;32m    150\u001b[0m \u001b[38;5;124;03m\"\"\"\u001b[39;00m\n\u001b[0;32m    151\u001b[0m \u001b[38;5;28;01mif\u001b[39;00m project \u001b[38;5;129;01mis\u001b[39;00m \u001b[38;5;28;01mNone\u001b[39;00m:\n\u001b[1;32m--> 152\u001b[0m     _, project \u001b[38;5;241m=\u001b[39m \u001b[43mgoogle\u001b[49m\u001b[38;5;241;43m.\u001b[39;49m\u001b[43mauth\u001b[49m\u001b[38;5;241;43m.\u001b[39;49m\u001b[43mdefault\u001b[49m\u001b[43m(\u001b[49m\u001b[43m)\u001b[49m\n\u001b[0;32m    153\u001b[0m \u001b[38;5;28;01mreturn\u001b[39;00m project\n",
      "File \u001b[1;32m~\\AppData\\Roaming\\Python\\Python311\\site-packages\\google\\auth\\_default.py:691\u001b[0m, in \u001b[0;36mdefault\u001b[1;34m(scopes, request, quota_project_id, default_scopes)\u001b[0m\n\u001b[0;32m    683\u001b[0m             _LOGGER\u001b[38;5;241m.\u001b[39mwarning(\n\u001b[0;32m    684\u001b[0m                 \u001b[38;5;124m\"\u001b[39m\u001b[38;5;124mNo project ID could be determined. Consider running \u001b[39m\u001b[38;5;124m\"\u001b[39m\n\u001b[0;32m    685\u001b[0m                 \u001b[38;5;124m\"\u001b[39m\u001b[38;5;124m`gcloud config set project` or setting the \u001b[39m\u001b[38;5;132;01m%s\u001b[39;00m\u001b[38;5;124m \u001b[39m\u001b[38;5;124m\"\u001b[39m\n\u001b[0;32m    686\u001b[0m                 \u001b[38;5;124m\"\u001b[39m\u001b[38;5;124menvironment variable\u001b[39m\u001b[38;5;124m\"\u001b[39m,\n\u001b[0;32m    687\u001b[0m                 environment_vars\u001b[38;5;241m.\u001b[39mPROJECT,\n\u001b[0;32m    688\u001b[0m             )\n\u001b[0;32m    689\u001b[0m         \u001b[38;5;28;01mreturn\u001b[39;00m credentials, effective_project_id\n\u001b[1;32m--> 691\u001b[0m \u001b[38;5;28;01mraise\u001b[39;00m exceptions\u001b[38;5;241m.\u001b[39mDefaultCredentialsError(_CLOUD_SDK_MISSING_CREDENTIALS)\n",
      "\u001b[1;31mDefaultCredentialsError\u001b[0m: Your default credentials were not found. To set up Application Default Credentials, see https://cloud.google.com/docs/authentication/external/set-up-adc for more information."
     ]
    }
   ],
   "source": [
    "# gcloud auth application-default login --scopes=openid,https://www.googleapis.com/auth/cloud-platform,https://www.googleapis.com/auth/drive.readonly\n",
    "from google.cloud import bigquery\n",
    "import geopandas as gpd\n",
    "import pandas as pd\n",
    "import matplotlib.pyplot as plt\n",
    "\n",
    "# Initialize a BigQuery client\n",
    "client = bigquery.Client()\n",
    "\n",
    "# Query to get state boundaries\n",
    "query = \"\"\"\n",
    "SELECT geo_id, state_name, ST_AsText(geometry) as geometry\n",
    "FROM `bigquery-public-data.geo_us_boundaries.states`\n",
    "\"\"\"\n",
    "query_job = client.query(query)\n",
    "results = query_job.result()\n",
    "\n",
    "# Convert query results to DataFrame\n",
    "data = []\n",
    "for row in results:\n",
    "    data.append({\n",
    "        'geo_id': row['geo_id'],\n",
    "        'state_name': row['state_name'],\n",
    "        'geometry': row['geometry']\n",
    "    })\n",
    "\n",
    "state_df = pd.DataFrame(data)\n",
    "\n",
    "# Convert WKT to Geopandas GeoDataFrame\n",
    "state_df['geometry'] = gpd.GeoSeries.from_wkt(state_df['geometry'])\n",
    "gdf_states = gpd.GeoDataFrame(state_df, geometry='geometry')\n",
    "\n",
    "# Predefined coordinates for universities\n",
    "universities = {\n",
    "    # Add your university data here, similar to the previous examples\n",
    "}\n",
    "\n",
    "# Convert university data to DataFrame\n",
    "df_universities = pd.DataFrame(universities).T.reset_index()\n",
    "df_universities.columns = ['University', 'Latitude', 'Longitude']\n",
    "\n",
    "# Plotting\n",
    "fig, ax = plt.subplots(figsize=(15, 10))\n",
    "gdf_states.plot(ax=ax, color='white', edgecolor='black')\n",
    "plt.scatter(df_universities['Longitude'], df_universities['Latitude'], color='red', marker='o')\n",
    "\n",
    "# Adding annotations for each university\n",
    "for idx, row in df_universities.iterrows():\n",
    "    plt.text(row['Longitude'], row['Latitude'], row['University'], fontsize=9)\n",
    "\n",
    "plt.title(\"Location of Universities on US Map with State Lines\")\n",
    "plt.xlabel(\"Longitude\")\n",
    "plt.ylabel(\"Latitude\")\n",
    "plt.show()"
   ]
  },
  {
   "cell_type": "code",
   "execution_count": 1,
   "metadata": {
    "tags": []
   },
   "outputs": [],
   "source": [
    "import requests\n",
    "import pandas as pd\n",
    "from bs4 import BeautifulSoup\n",
    "\n",
    "# grep this webpage\n",
    "url = 'https://gflclan.com/topic/2368-csgo-ze-map-list/'\n",
    "r = requests.get(url)\n",
    "soup = BeautifulSoup(r.text, 'html.parser')\n",
    "\n",
    "# find hyperlink with Download in the text\n",
    "links = soup.find_all('a', string='Download')\n",
    "\n",
    "# parse the hyperlink into a list of urls\n",
    "urls = []\n",
    "path = 'csgo_zombie_maps'\n",
    "error_urls = []\n",
    "for link in links:\n",
    "    urls.append(link['href'])"
   ]
  },
  {
   "cell_type": "code",
   "execution_count": 2,
   "metadata": {},
   "outputs": [
    {
     "name": "stdout",
     "output_type": "stream",
     "text": [
      "Downloading https://fastdlv2.gflclan.com/file/gflfastdlv2/csgo/maps/ze_20_seconds_v6.bsp.bz2\n"
     ]
    },
    {
     "name": "stderr",
     "output_type": "stream",
     "text": [
      "100%|██████████| 1.21M/1.21M [00:00<00:00, 5.07MiB/s]\n"
     ]
    },
    {
     "name": "stdout",
     "output_type": "stream",
     "text": [
      "Downloading https://fastdlv2.gflclan.com/file/gflfastdlv2/csgo/maps/ze_2012_p3.bsp.bz2\n"
     ]
    },
    {
     "name": "stderr",
     "output_type": "stream",
     "text": [
      "100%|██████████| 27.9M/27.9M [00:03<00:00, 9.25MiB/s]\n"
     ]
    },
    {
     "name": "stdout",
     "output_type": "stream",
     "text": [
      "Downloading https://fastdlv2.gflclan.com/file/gflfastdlv2/csgo/maps/ze_2021_xmas_world.bsp.bz2\n"
     ]
    },
    {
     "name": "stderr",
     "output_type": "stream",
     "text": [
      "100%|██████████| 41.7M/41.7M [00:04<00:00, 9.49MiB/s]\n"
     ]
    },
    {
     "name": "stdout",
     "output_type": "stream",
     "text": [
      "Downloading https://fastdlv2.gflclan.com/file/gflfastdlv2/csgo/maps/ze_2049_v1_1.bsp.bz2\n"
     ]
    },
    {
     "name": "stderr",
     "output_type": "stream",
     "text": [
      "100%|██████████| 73.6M/73.6M [00:08<00:00, 9.01MiB/s]\n"
     ]
    },
    {
     "name": "stdout",
     "output_type": "stream",
     "text": [
      "Downloading https://fastdlv2.gflclan.com/file/gflfastdlv2/csgo/maps/ze_30_seconds__b21_p2.bsp.bz2\n"
     ]
    },
    {
     "name": "stderr",
     "output_type": "stream",
     "text": [
      "100%|██████████| 10.0M/10.0M [00:01<00:00, 6.56MiB/s]\n"
     ]
    },
    {
     "name": "stdout",
     "output_type": "stream",
     "text": [
      "Downloading https://fastdlv2.gflclan.com/file/gflfastdlv2/csgo/maps/ze_666_crazy_escape_v2_4.bsp.bz2\n"
     ]
    },
    {
     "name": "stderr",
     "output_type": "stream",
     "text": [
      "100%|██████████| 46.8M/46.8M [00:05<00:00, 8.38MiB/s]\n"
     ]
    },
    {
     "name": "stdout",
     "output_type": "stream",
     "text": [
      "Downloading https://fastdlv2.gflclan.com/file/gflfastdlv2/csgo/maps/ze_8bit_csgo3.bsp.bz2\n"
     ]
    },
    {
     "name": "stderr",
     "output_type": "stream",
     "text": [
      "100%|██████████| 57.0M/57.0M [00:05<00:00, 9.75MiB/s]\n"
     ]
    },
    {
     "name": "stdout",
     "output_type": "stream",
     "text": [
      "Downloading https://fastdlv2.gflclan.com/file/gflfastdlv2/csgo/maps/ze_A_E_S_T_H_E_T_I_C_v1_1.bsp.bz2\n"
     ]
    },
    {
     "name": "stderr",
     "output_type": "stream",
     "text": [
      "100%|██████████| 47.3M/47.3M [00:05<00:00, 8.83MiB/s]\n"
     ]
    },
    {
     "name": "stdout",
     "output_type": "stream",
     "text": [
      "Downloading https://fastdlv2.gflclan.com/file/gflfastdlv2/csgo/maps/ze_aaa_grand_line_x3.bsp.bz2\n"
     ]
    },
    {
     "name": "stderr",
     "output_type": "stream",
     "text": [
      "100%|██████████| 91.7M/91.7M [00:09<00:00, 9.62MiB/s]\n"
     ]
    },
    {
     "name": "stdout",
     "output_type": "stream",
     "text": [
      "Downloading https://fastdlv2.gflclan.com/file/gflfastdlv2/csgo/maps/ze_AAA_oh_final_Final_FINAL.bsp.bz2\n"
     ]
    },
    {
     "name": "stderr",
     "output_type": "stream",
     "text": [
      "100%|██████████| 15.4M/15.4M [00:01<00:00, 8.23MiB/s]\n"
     ]
    },
    {
     "name": "stdout",
     "output_type": "stream",
     "text": [
      "Downloading https://fastdlv2.gflclan.com/file/gflfastdlv2/csgo/maps/ze_AAA_santartika_baseum_v2_1.bsp.bz2\n"
     ]
    },
    {
     "name": "stderr",
     "output_type": "stream",
     "text": [
      "100%|██████████| 63.8M/63.8M [00:06<00:00, 9.30MiB/s]\n"
     ]
    },
    {
     "name": "stdout",
     "output_type": "stream",
     "text": [
      "Downloading https://fastdlv2.gflclan.com/file/gflfastdlv2/csgo/maps/ze_abandoned_industry_va2.bsp.bz2\n"
     ]
    },
    {
     "name": "stderr",
     "output_type": "stream",
     "text": [
      "100%|██████████| 13.1M/13.1M [00:01<00:00, 7.95MiB/s]\n"
     ]
    },
    {
     "name": "stdout",
     "output_type": "stream",
     "text": [
      "Downloading https://fastdlv2.gflclan.com/file/gflfastdlv2/csgo/maps/ze_abandoned_project_v1_2_csgo.bsp.bz2\n"
     ]
    },
    {
     "name": "stderr",
     "output_type": "stream",
     "text": [
      "100%|██████████| 74.6M/74.6M [00:08<00:00, 9.32MiB/s]\n"
     ]
    },
    {
     "name": "stdout",
     "output_type": "stream",
     "text": [
      "Downloading https://fastdlv2.gflclan.com/file/gflfastdlv2/csgo/maps/ze_aepp_nano_grid2_v1h.bsp.bz2\n"
     ]
    },
    {
     "name": "stderr",
     "output_type": "stream",
     "text": [
      "100%|██████████| 20.7M/20.7M [00:02<00:00, 8.04MiB/s]\n"
     ]
    },
    {
     "name": "stdout",
     "output_type": "stream",
     "text": [
      "Downloading https://fastdlv2.gflclan.com/file/gflfastdlv2/csgo/maps/ze_alchemy_b7.bsp.bz2\n"
     ]
    },
    {
     "name": "stderr",
     "output_type": "stream",
     "text": [
      "100%|██████████| 58.7M/58.7M [00:06<00:00, 9.05MiB/s]\n"
     ]
    },
    {
     "name": "stdout",
     "output_type": "stream",
     "text": [
      "Downloading https://fastdlv2.gflclan.com/file/gflfastdlv2/csgo/maps/ze_ALIEN_mountain_escape_p3_fix.bsp.bz2\n"
     ]
    },
    {
     "name": "stderr",
     "output_type": "stream",
     "text": [
      "100%|██████████| 5.91M/5.91M [00:01<00:00, 5.43MiB/s]\n"
     ]
    },
    {
     "name": "stdout",
     "output_type": "stream",
     "text": [
      "Downloading https://fastdlv2.gflclan.com/file/gflfastdlv2/csgo/maps/ze_alien_shooter_gp1_3.bsp.bz2\n"
     ]
    },
    {
     "name": "stderr",
     "output_type": "stream",
     "text": [
      "100%|██████████| 13.9M/13.9M [00:02<00:00, 5.26MiB/s]\n"
     ]
    },
    {
     "name": "stdout",
     "output_type": "stream",
     "text": [
      "Downloading https://fastdlv2.gflclan.com/file/gflfastdlv2/csgo/maps/ze_alien_vs_predator_v6go_fix.bsp.bz2\n"
     ]
    },
    {
     "name": "stderr",
     "output_type": "stream",
     "text": [
      "100%|██████████| 61.3M/61.3M [00:07<00:00, 8.70MiB/s]\n"
     ]
    },
    {
     "name": "stdout",
     "output_type": "stream",
     "text": [
      "Downloading https://fastdlv2.gflclan.com/file/gflfastdlv2/csgo/maps/ze_amalgamation_v1_1.bsp.bz2\n"
     ]
    },
    {
     "name": "stderr",
     "output_type": "stream",
     "text": [
      "100%|██████████| 68.6M/68.6M [00:07<00:00, 9.44MiB/s]\n"
     ]
    },
    {
     "name": "stdout",
     "output_type": "stream",
     "text": [
      "Downloading https://fastdlv2.gflclan.com/file/gflfastdlv2/csgo/maps/ze_ancient_wrath_v2_test27_m5.bsp.bz2\n"
     ]
    },
    {
     "name": "stderr",
     "output_type": "stream",
     "text": [
      "100%|██████████| 89.5M/89.5M [00:09<00:00, 9.04MiB/s]\n"
     ]
    },
    {
     "name": "stdout",
     "output_type": "stream",
     "text": [
      "Downloading https://fastdlv2.gflclan.com/file/gflfastdlv2/csgo/maps/ze_animu_v2_final.bsp.bz2\n"
     ]
    },
    {
     "name": "stderr",
     "output_type": "stream",
     "text": [
      "100%|██████████| 69.0M/69.0M [00:10<00:00, 6.54MiB/s]\n"
     ]
    },
    {
     "name": "stdout",
     "output_type": "stream",
     "text": [
      "Downloading https://fastdlv2.gflclan.com/file/gflfastdlv2/csgo/maps/ze_antartika_p3.bsp.bz2\n"
     ]
    },
    {
     "name": "stderr",
     "output_type": "stream",
     "text": [
      "100%|██████████| 58.6M/58.6M [00:06<00:00, 8.90MiB/s]\n"
     ]
    },
    {
     "name": "stdout",
     "output_type": "stream",
     "text": [
      "Downloading https://fastdlv2.gflclan.com/file/gflfastdlv2/csgo/maps/ze_Aooka_v3_t6.bsp.bz2\n"
     ]
    },
    {
     "name": "stderr",
     "output_type": "stream",
     "text": [
      "100%|██████████| 70.5M/70.5M [00:07<00:00, 9.29MiB/s]\n"
     ]
    },
    {
     "name": "stdout",
     "output_type": "stream",
     "text": [
      "Downloading https://fastdlv2.gflclan.com/file/gflfastdlv2/csgo/maps/ze_aot_trost_v8_3.bsp.bz2\n"
     ]
    },
    {
     "name": "stderr",
     "output_type": "stream",
     "text": [
      "100%|██████████| 65.6M/65.6M [00:06<00:00, 9.66MiB/s]\n"
     ]
    },
    {
     "name": "stdout",
     "output_type": "stream",
     "text": [
      "Downloading https://fastdlv2.gflclan.com/file/gflfastdlv2/csgo/maps/ze_ApertureScience_p2.bsp.bz2\n"
     ]
    },
    {
     "name": "stderr",
     "output_type": "stream",
     "text": [
      "100%|██████████| 18.7M/18.7M [00:02<00:00, 6.76MiB/s]\n"
     ]
    },
    {
     "name": "stdout",
     "output_type": "stream",
     "text": [
      "Downloading https://fastdlv2.gflclan.com/file/gflfastdlv2/csgo/maps/ze_apocatastasis_v1_2.bsp.bz2\n"
     ]
    },
    {
     "name": "stderr",
     "output_type": "stream",
     "text": [
      "100%|██████████| 11.6M/11.6M [00:02<00:00, 5.59MiB/s]\n"
     ]
    },
    {
     "name": "stdout",
     "output_type": "stream",
     "text": [
      "Downloading https://fastdlv2.gflclan.com/file/gflfastdlv2/csgo/maps/ze_Apollo_p2.bsp.bz2\n"
     ]
    },
    {
     "name": "stderr",
     "output_type": "stream",
     "text": [
      "100%|██████████| 22.0M/22.0M [00:02<00:00, 7.38MiB/s]\n"
     ]
    },
    {
     "name": "stdout",
     "output_type": "stream",
     "text": [
      "Downloading https://fastdlv2.gflclan.com/file/gflfastdlv2/csgo/maps/ze_aragami_v1_1.bsp.bz2\n"
     ]
    },
    {
     "name": "stderr",
     "output_type": "stream",
     "text": [
      "100%|██████████| 40.5M/40.5M [00:04<00:00, 8.45MiB/s]\n"
     ]
    },
    {
     "name": "stdout",
     "output_type": "stream",
     "text": [
      "Downloading https://fastdlv2.gflclan.com/file/gflfastdlv2/csgo/maps/ze_arcade_parade_b6.bsp.bz2\n"
     ]
    },
    {
     "name": "stderr",
     "output_type": "stream",
     "text": [
      "100%|██████████| 5.52M/5.52M [00:00<00:00, 6.60MiB/s]\n"
     ]
    },
    {
     "name": "stdout",
     "output_type": "stream",
     "text": [
      "Downloading https://fastdlv2.gflclan.com/file/gflfastdlv2/csgo/maps/ze_arctic_escape_p2.bsp.bz2\n"
     ]
    },
    {
     "name": "stderr",
     "output_type": "stream",
     "text": [
      "100%|██████████| 17.8M/17.8M [00:01<00:00, 9.47MiB/s]\n"
     ]
    },
    {
     "name": "stdout",
     "output_type": "stream",
     "text": [
      "Downloading https://fastdlv2.gflclan.com/file/gflfastdlv2/csgo/maps/ze_artika_base_v1_4.bsp.bz2\n"
     ]
    },
    {
     "name": "stderr",
     "output_type": "stream",
     "text": [
      "100%|██████████| 33.0M/33.0M [00:03<00:00, 8.77MiB/s]\n"
     ]
    },
    {
     "name": "stdout",
     "output_type": "stream",
     "text": [
      "Downloading https://fastdlv2.gflclan.com/file/gflfastdlv2/csgo/maps/ze_asd_v2.bsp.bz2\n"
     ]
    },
    {
     "name": "stderr",
     "output_type": "stream",
     "text": [
      "100%|██████████| 5.75M/5.75M [00:00<00:00, 8.25MiB/s]\n"
     ]
    },
    {
     "name": "stdout",
     "output_type": "stream",
     "text": [
      "Downloading https://fastdlv2.gflclan.com/file/gflfastdlv2/csgo/maps/ze_ashen_keep_p.bsp.bz2\n"
     ]
    },
    {
     "name": "stderr",
     "output_type": "stream",
     "text": [
      "100%|██████████| 75.7M/75.7M [00:08<00:00, 9.26MiB/s]\n"
     ]
    },
    {
     "name": "stdout",
     "output_type": "stream",
     "text": [
      "Downloading https://fastdlv2.gflclan.com/file/gflfastdlv2/csgo/maps/ze_asiangirl_mm11el4nu4cp2io1yv7_r_v6_3_1.bsp.bz2\n"
     ]
    },
    {
     "name": "stderr",
     "output_type": "stream",
     "text": [
      "100%|██████████| 87.7M/87.7M [00:09<00:00, 9.40MiB/s]\n"
     ]
    },
    {
     "name": "stdout",
     "output_type": "stream",
     "text": [
      "Downloading https://fastdlv2.gflclan.com/file/gflfastdlv2/csgo/maps/ze_atix_apocalypse_p3.bsp.bz2\n"
     ]
    },
    {
     "name": "stderr",
     "output_type": "stream",
     "text": [
      "100%|██████████| 41.4M/41.4M [00:04<00:00, 9.24MiB/s]\n"
     ]
    },
    {
     "name": "stdout",
     "output_type": "stream",
     "text": [
      "Downloading https://fastdlv2.gflclan.com/file/gflfastdlv2/csgo/maps/ze_ATIX_panic_b3t_p3.bsp.bz2\n"
     ]
    },
    {
     "name": "stderr",
     "output_type": "stream",
     "text": [
      "100%|██████████| 6.95M/6.95M [00:00<00:00, 7.88MiB/s]\n"
     ]
    },
    {
     "name": "stdout",
     "output_type": "stream",
     "text": [
      "Downloading https://fastdlv2.gflclan.com/file/gflfastdlv2/csgo/maps/ze_atix_panic_v1.bsp.bz2\n"
     ]
    },
    {
     "name": "stderr",
     "output_type": "stream",
     "text": [
      "100%|██████████| 26.8M/26.8M [00:03<00:00, 8.83MiB/s]\n"
     ]
    },
    {
     "name": "stdout",
     "output_type": "stream",
     "text": [
      "Downloading https://fastdlv2.gflclan.com/file/gflfastdlv2/csgo/maps/ze_atos_v2_3.bsp.bz2\n"
     ]
    },
    {
     "name": "stderr",
     "output_type": "stream",
     "text": [
      "100%|██████████| 60.2M/60.2M [00:06<00:00, 9.57MiB/s]\n"
     ]
    },
    {
     "name": "stdout",
     "output_type": "stream",
     "text": [
      "Downloading https://fastdlv2.gflclan.com/file/gflfastdlv2/csgo/maps/ze_Aurora_tower_v6_6.bsp.bz2\n"
     ]
    },
    {
     "name": "stderr",
     "output_type": "stream",
     "text": [
      "100%|██████████| 84.2M/84.2M [00:08<00:00, 9.45MiB/s]\n"
     ]
    },
    {
     "name": "stdout",
     "output_type": "stream",
     "text": [
      "Downloading https://fastdlv2.gflclan.com/file/gflfastdlv2/csgo/maps/ze_avalanche_reboot_k1.bsp.bz2\n"
     ]
    },
    {
     "name": "stderr",
     "output_type": "stream",
     "text": [
      "100%|██████████| 105M/105M [00:11<00:00, 9.05MiB/s] \n"
     ]
    },
    {
     "name": "stdout",
     "output_type": "stream",
     "text": [
      "Downloading https://fastdlv2.gflclan.com/file/gflfastdlv2/csgo/maps/ze_aware_v1_2a.bsp.bz2\n"
     ]
    },
    {
     "name": "stderr",
     "output_type": "stream",
     "text": [
      "100%|██████████| 50.6M/50.6M [00:05<00:00, 9.39MiB/s]\n"
     ]
    },
    {
     "name": "stdout",
     "output_type": "stream",
     "text": [
      "Downloading https://fastdlv2.gflclan.com/file/gflfastdlv2/csgo/maps/ze_aztec_temple_p.bsp.bz2\n"
     ]
    },
    {
     "name": "stderr",
     "output_type": "stream",
     "text": [
      "100%|██████████| 14.2M/14.2M [00:01<00:00, 7.55MiB/s]\n"
     ]
    },
    {
     "name": "stdout",
     "output_type": "stream",
     "text": [
      "Downloading https://fastdlv2.gflclan.com/file/gflfastdlv2/csgo/maps/ze_aztecnoob_p2.bsp.bz2\n"
     ]
    },
    {
     "name": "stderr",
     "output_type": "stream",
     "text": [
      "100%|██████████| 12.2M/12.2M [00:01<00:00, 7.04MiB/s]\n"
     ]
    },
    {
     "name": "stdout",
     "output_type": "stream",
     "text": [
      "Downloading https://fastdlv2.gflclan.com/file/gflfastdlv2/csgo/maps/ze_aztecorum_hc1.bsp.bz2\n"
     ]
    },
    {
     "name": "stderr",
     "output_type": "stream",
     "text": [
      "100%|██████████| 51.3M/51.3M [00:05<00:00, 9.28MiB/s]\n"
     ]
    },
    {
     "name": "stdout",
     "output_type": "stream",
     "text": [
      "Downloading https://fastdlv2.gflclan.com/file/gflfastdlv2/csgo/maps/ze_babylon_v1.bsp.bz2\n"
     ]
    },
    {
     "name": "stderr",
     "output_type": "stream",
     "text": [
      "100%|██████████| 7.80M/7.80M [00:01<00:00, 6.84MiB/s]\n"
     ]
    },
    {
     "name": "stdout",
     "output_type": "stream",
     "text": [
      "Downloading https://fastdlv2.gflclan.com/file/gflfastdlv2/csgo/maps/ze_backrooms_deathbed_t1f.bsp.bz2\n"
     ]
    },
    {
     "name": "stderr",
     "output_type": "stream",
     "text": [
      "100%|██████████| 51.6M/51.6M [00:05<00:00, 9.17MiB/s]\n"
     ]
    },
    {
     "name": "stdout",
     "output_type": "stream",
     "text": [
      "Downloading https://fastdlv2.gflclan.com/file/gflfastdlv2/csgo/maps/ze_backrooms_p3.bsp.bz2\n"
     ]
    },
    {
     "name": "stderr",
     "output_type": "stream",
     "text": [
      "100%|██████████| 52.0M/52.0M [00:05<00:00, 9.31MiB/s]\n"
     ]
    },
    {
     "name": "stdout",
     "output_type": "stream",
     "text": [
      "Downloading https://fastdlv2.gflclan.com/file/gflfastdlv2/csgo/maps/ze_barrage_p2.bsp.bz2\n"
     ]
    },
    {
     "name": "stderr",
     "output_type": "stream",
     "text": [
      "100%|██████████| 35.9M/35.9M [00:03<00:00, 9.33MiB/s]\n"
     ]
    },
    {
     "name": "stdout",
     "output_type": "stream",
     "text": [
      "Downloading https://fastdlv2.gflclan.com/file/gflfastdlv2/csgo/maps/ze_Bathroom_v2_5.bsp.bz2\n"
     ]
    },
    {
     "name": "stderr",
     "output_type": "stream",
     "text": [
      "100%|██████████| 60.3M/60.3M [00:06<00:00, 9.08MiB/s]\n"
     ]
    },
    {
     "name": "stdout",
     "output_type": "stream",
     "text": [
      "Downloading https://fastdlv2.gflclan.com/file/gflfastdlv2/csgo/maps/ze_best_korea_v1.bsp.bz2\n"
     ]
    },
    {
     "name": "stderr",
     "output_type": "stream",
     "text": [
      "100%|██████████| 98.7M/98.7M [00:10<00:00, 9.06MiB/s]\n"
     ]
    },
    {
     "name": "stdout",
     "output_type": "stream",
     "text": [
      "Downloading https://fastdlv2.gflclan.com/file/gflfastdlv2/csgo/maps/ze_beyond_the_boundary_v1_5.bsp.bz2\n"
     ]
    },
    {
     "name": "stderr",
     "output_type": "stream",
     "text": [
      "100%|██████████| 44.2M/44.2M [00:04<00:00, 9.18MiB/s]\n"
     ]
    },
    {
     "name": "stdout",
     "output_type": "stream",
     "text": [
      "Downloading https://fastdlv2.gflclan.com/file/gflfastdlv2/csgo/maps/ze_Bible_Adventure_OT_v1_5.bsp.bz2\n"
     ]
    },
    {
     "name": "stderr",
     "output_type": "stream",
     "text": [
      "100%|██████████| 38.5M/38.5M [00:04<00:00, 9.25MiB/s]\n"
     ]
    },
    {
     "name": "stdout",
     "output_type": "stream",
     "text": [
      "Downloading https://fastdlv2.gflclan.com/file/gflfastdlv2/csgo/maps/ze_bigfoot_escapeica_v3_4.bsp.bz2\n"
     ]
    },
    {
     "name": "stderr",
     "output_type": "stream",
     "text": [
      "100%|██████████| 42.3M/42.3M [00:04<00:00, 9.35MiB/s]\n"
     ]
    },
    {
     "name": "stdout",
     "output_type": "stream",
     "text": [
      "Downloading https://fastdlv2.gflclan.com/file/gflfastdlv2/csgo/maps/ze_binary_z4_1.bsp.bz2\n"
     ]
    },
    {
     "name": "stderr",
     "output_type": "stream",
     "text": [
      "100%|██████████| 54.2M/54.2M [00:05<00:00, 9.32MiB/s]\n"
     ]
    },
    {
     "name": "stdout",
     "output_type": "stream",
     "text": [
      "Downloading https://fastdlv2.gflclan.com/file/gflfastdlv2/csgo/maps/ze_biohazard_manor_004_p4.bsp.bz2\n"
     ]
    },
    {
     "name": "stderr",
     "output_type": "stream",
     "text": [
      "100%|██████████| 65.6M/65.6M [00:07<00:00, 8.65MiB/s]\n"
     ]
    },
    {
     "name": "stdout",
     "output_type": "stream",
     "text": [
      "Downloading https://fastdlv2.gflclan.com/file/gflfastdlv2/csgo/maps/ze_biohazard2_rpd_004_p3.bsp.bz2\n"
     ]
    },
    {
     "name": "stderr",
     "output_type": "stream",
     "text": [
      "100%|██████████| 54.0M/54.0M [00:06<00:00, 8.87MiB/s]\n"
     ]
    },
    {
     "name": "stdout",
     "output_type": "stream",
     "text": [
      "Downloading https://fastdlv2.gflclan.com/file/gflfastdlv2/csgo/maps/ze_biohazard2_sewer_j2_004.bsp.bz2\n"
     ]
    },
    {
     "name": "stderr",
     "output_type": "stream",
     "text": [
      "100%|██████████| 43.8M/43.8M [00:05<00:00, 7.94MiB/s]\n"
     ]
    },
    {
     "name": "stdout",
     "output_type": "stream",
     "text": [
      "Downloading https://fastdlv2.gflclan.com/file/gflfastdlv2/csgo/maps/ze_biohazard3_nemesis_b6_2.bsp.bz2\n"
     ]
    },
    {
     "name": "stderr",
     "output_type": "stream",
     "text": [
      "100%|██████████| 60.5M/60.5M [00:06<00:00, 9.47MiB/s]\n"
     ]
    },
    {
     "name": "stdout",
     "output_type": "stream",
     "text": [
      "Downloading https://fastdlv2.gflclan.com/file/gflfastdlv2/csgo/maps/ze_bioluminescent_k1.bsp.bz2\n"
     ]
    },
    {
     "name": "stderr",
     "output_type": "stream",
     "text": [
      "100%|██████████| 89.5M/89.5M [00:09<00:00, 9.28MiB/s]\n"
     ]
    },
    {
     "name": "stdout",
     "output_type": "stream",
     "text": [
      "Downloading https://fastdlv2.gflclan.com/file/gflfastdlv2/csgo/maps/ze_bioshock_v6_2_csgo7.bsp.bz2\n"
     ]
    },
    {
     "name": "stderr",
     "output_type": "stream",
     "text": [
      "100%|██████████| 57.6M/57.6M [00:06<00:00, 8.50MiB/s]\n"
     ]
    },
    {
     "name": "stdout",
     "output_type": "stream",
     "text": [
      "Downloading https://fastdlv2.gflclan.com/file/gflfastdlv2/csgo/maps/ze_bisounours_party_p2.bsp.bz2\n"
     ]
    },
    {
     "name": "stderr",
     "output_type": "stream",
     "text": [
      "100%|██████████| 35.4M/35.4M [00:04<00:00, 8.04MiB/s]\n"
     ]
    },
    {
     "name": "stdout",
     "output_type": "stream",
     "text": [
      "Downloading https://fastdlv2.gflclan.com/file/gflfastdlv2/csgo/maps/ze_blackmesa_remix_p2.bsp.bz2\n"
     ]
    },
    {
     "name": "stderr",
     "output_type": "stream",
     "text": [
      "100%|██████████| 53.3M/53.3M [00:05<00:00, 9.44MiB/s]\n"
     ]
    },
    {
     "name": "stdout",
     "output_type": "stream",
     "text": [
      "Downloading https://fastdlv2.gflclan.com/file/gflfastdlv2/csgo/maps/ze_blue_magic_castle_v3_1.bsp.bz2\n"
     ]
    },
    {
     "name": "stderr",
     "output_type": "stream",
     "text": [
      "100%|██████████| 84.0M/84.0M [00:10<00:00, 8.36MiB/s]\n"
     ]
    },
    {
     "name": "stdout",
     "output_type": "stream",
     "text": [
      "Downloading https://fastdlv2.gflclan.com/file/gflfastdlv2/csgo/maps/ze_blue_zenith_v0_2.bsp.bz2\n"
     ]
    },
    {
     "name": "stderr",
     "output_type": "stream",
     "text": [
      "100%|██████████| 44.4M/44.4M [00:06<00:00, 7.17MiB/s]\n"
     ]
    },
    {
     "name": "stdout",
     "output_type": "stream",
     "text": [
      "Downloading https://fastdlv2.gflclan.com/file/gflfastdlv2/csgo/maps/ze_boacceho_p4.bsp.bz2\n"
     ]
    },
    {
     "name": "stderr",
     "output_type": "stream",
     "text": [
      "100%|██████████| 5.87M/5.87M [00:01<00:00, 4.95MiB/s]\n"
     ]
    },
    {
     "name": "stdout",
     "output_type": "stream",
     "text": [
      "Downloading https://fastdlv2.gflclan.com/file/gflfastdlv2/csgo/maps/ze_boatescape101_p.bsp.bz2\n"
     ]
    },
    {
     "name": "stderr",
     "output_type": "stream",
     "text": [
      "100%|██████████| 4.43M/4.43M [00:00<00:00, 5.27MiB/s]\n"
     ]
    },
    {
     "name": "stdout",
     "output_type": "stream",
     "text": [
      "Downloading https://fastdlv2.gflclan.com/file/gflfastdlv2/csgo/maps/ze_BoatEscapeX_b8.bsp.bz2\n"
     ]
    },
    {
     "name": "stderr",
     "output_type": "stream",
     "text": [
      "100%|██████████| 67.7M/67.7M [00:07<00:00, 9.30MiB/s]\n"
     ]
    },
    {
     "name": "stdout",
     "output_type": "stream",
     "text": [
      "Downloading https://fastdlv2.gflclan.com/file/gflfastdlv2/csgo/maps/ze_boatescape_extendido_p4.bsp.bz2\n"
     ]
    },
    {
     "name": "stderr",
     "output_type": "stream",
     "text": [
      "100%|██████████| 4.97M/4.97M [00:00<00:00, 6.24MiB/s]\n"
     ]
    },
    {
     "name": "stdout",
     "output_type": "stream",
     "text": [
      "Downloading https://fastdlv2.gflclan.com/file/gflfastdlv2/csgo/maps/ze_border_b2_fix.bsp.bz2\n"
     ]
    },
    {
     "name": "stderr",
     "output_type": "stream",
     "text": [
      "100%|██████████| 44.0M/44.0M [00:04<00:00, 8.97MiB/s]\n"
     ]
    },
    {
     "name": "stdout",
     "output_type": "stream",
     "text": [
      "Downloading https://fastdlv2.gflclan.com/file/gflfastdlv2/csgo/maps/ze_boredom_p.bsp.bz2\n"
     ]
    },
    {
     "name": "stderr",
     "output_type": "stream",
     "text": [
      "100%|██████████| 85.1M/85.1M [00:09<00:00, 9.05MiB/s]\n"
     ]
    },
    {
     "name": "stdout",
     "output_type": "stream",
     "text": [
      "Downloading https://fastdlv2.gflclan.com/file/gflfastdlv2/csgo/maps/ze_bp-infested-prison_p2.bsp.bz2\n"
     ]
    },
    {
     "name": "stderr",
     "output_type": "stream",
     "text": [
      "100%|██████████| 21.7M/21.7M [00:03<00:00, 6.78MiB/s]\n"
     ]
    },
    {
     "name": "stdout",
     "output_type": "stream",
     "text": [
      "Downloading https://fastdlv2.gflclan.com/file/gflfastdlv2/csgo/maps/ze_Breakable_p3.bsp.bz2\n"
     ]
    },
    {
     "name": "stderr",
     "output_type": "stream",
     "text": [
      "100%|██████████| 27.9M/27.9M [00:03<00:00, 9.00MiB/s]\n"
     ]
    },
    {
     "name": "stdout",
     "output_type": "stream",
     "text": [
      "Downloading https://fastdlv2.gflclan.com/file/gflfastdlv2/csgo/maps/ze_breezy_v6.bsp.bz2\n"
     ]
    },
    {
     "name": "stderr",
     "output_type": "stream",
     "text": [
      "100%|██████████| 65.0M/65.0M [00:07<00:00, 9.04MiB/s]\n"
     ]
    },
    {
     "name": "stdout",
     "output_type": "stream",
     "text": [
      "Downloading https://fastdlv2.gflclan.com/file/gflfastdlv2/csgo/maps/ze_bulhufas_a1_1.bsp.bz2\n"
     ]
    },
    {
     "name": "stderr",
     "output_type": "stream",
     "text": [
      "100%|██████████| 41.2M/41.2M [00:04<00:00, 8.95MiB/s]\n"
     ]
    },
    {
     "name": "stdout",
     "output_type": "stream",
     "text": [
      "Downloading https://fastdlv2.gflclan.com/file/gflfastdlv2/csgo/maps/ze_cancer_gopnik_escape_v8.bsp.bz2\n"
     ]
    },
    {
     "name": "stderr",
     "output_type": "stream",
     "text": [
      "100%|██████████| 30.7M/30.7M [00:04<00:00, 6.16MiB/s]\n"
     ]
    },
    {
     "name": "stdout",
     "output_type": "stream",
     "text": [
      "Downloading https://fastdlv2.gflclan.com/file/gflfastdlv2/csgo/maps/ze_candy_star_a3.bsp.bz2\n"
     ]
    },
    {
     "name": "stderr",
     "output_type": "stream",
     "text": [
      "100%|██████████| 19.6M/19.6M [00:02<00:00, 8.57MiB/s]\n"
     ]
    },
    {
     "name": "stdout",
     "output_type": "stream",
     "text": [
      "Downloading https://fastdlv2.gflclan.com/file/gflfastdlv2/csgo/maps/ze_castlevania_64_v1_3_b9_go.bsp.bz2\n"
     ]
    },
    {
     "name": "stderr",
     "output_type": "stream",
     "text": [
      "100%|██████████| 57.0M/57.0M [00:06<00:00, 8.82MiB/s]\n"
     ]
    },
    {
     "name": "stdout",
     "output_type": "stream",
     "text": [
      "Downloading https://fastdlv2.gflclan.com/file/gflfastdlv2/csgo/maps/ze_castlevania_p1_7.bsp.bz2\n"
     ]
    },
    {
     "name": "stderr",
     "output_type": "stream",
     "text": [
      "100%|██████████| 79.5M/79.5M [00:08<00:00, 9.42MiB/s]\n"
     ]
    },
    {
     "name": "stdout",
     "output_type": "stream",
     "text": [
      "Downloading https://fastdlv2.gflclan.com/file/gflfastdlv2/csgo/maps/ze_castle_bridge_v1_4.bsp.bz2\n"
     ]
    },
    {
     "name": "stderr",
     "output_type": "stream",
     "text": [
      "100%|██████████| 46.2M/46.2M [00:05<00:00, 9.25MiB/s]\n"
     ]
    },
    {
     "name": "stdout",
     "output_type": "stream",
     "text": [
      "Downloading https://fastdlv2.gflclan.com/file/gflfastdlv2/csgo/maps/ze_ccc_floator_mislands_timantetrix_v2.bsp.bz2\n"
     ]
    },
    {
     "name": "stderr",
     "output_type": "stream",
     "text": [
      "100%|██████████| 42.1M/42.1M [00:04<00:00, 8.71MiB/s]\n"
     ]
    },
    {
     "name": "stdout",
     "output_type": "stream",
     "text": [
      "Downloading https://fastdlv2.gflclan.com/file/gflfastdlv2/csgo/maps/ze_ccc_toastersand_v2.bsp.bz2\n"
     ]
    },
    {
     "name": "stderr",
     "output_type": "stream",
     "text": [
      "100%|██████████| 26.0M/26.0M [00:02<00:00, 8.96MiB/s]\n"
     ]
    },
    {
     "name": "stdout",
     "output_type": "stream",
     "text": [
      "Downloading https://fastdlv2.gflclan.com/file/gflfastdlv2/csgo/maps/ze_chaos_v7_7.bsp.bz2\n"
     ]
    },
    {
     "name": "stderr",
     "output_type": "stream",
     "text": [
      "100%|██████████| 51.8M/51.8M [00:05<00:00, 9.39MiB/s]\n"
     ]
    },
    {
     "name": "stdout",
     "output_type": "stream",
     "text": [
      "Downloading https://fastdlv2.gflclan.com/file/gflfastdlv2/csgo/maps/ze_check_b1_1f.bsp.bz2\n"
     ]
    },
    {
     "name": "stderr",
     "output_type": "stream",
     "text": [
      "100%|██████████| 41.2M/41.2M [00:04<00:00, 8.66MiB/s]\n"
     ]
    },
    {
     "name": "stdout",
     "output_type": "stream",
     "text": [
      "Downloading https://fastdlv2.gflclan.com/file/gflfastdlv2/csgo/maps/ze_Chicken_Lords_Tower_ig1.bsp.bz2\n"
     ]
    },
    {
     "name": "stderr",
     "output_type": "stream",
     "text": [
      "100%|██████████| 7.13M/7.13M [00:01<00:00, 5.29MiB/s]\n"
     ]
    },
    {
     "name": "stdout",
     "output_type": "stream",
     "text": [
      "Downloading https://fastdlv2.gflclan.com/file/gflfastdlv2/csgo/maps/ze_chicken_ranch_v2_2.bsp.bz2\n"
     ]
    },
    {
     "name": "stderr",
     "output_type": "stream",
     "text": [
      "100%|██████████| 53.2M/53.2M [00:06<00:00, 7.91MiB/s]\n"
     ]
    },
    {
     "name": "stdout",
     "output_type": "stream",
     "text": [
      "Downloading https://fastdlv2.gflclan.com/file/gflfastdlv2/csgo/maps/ze_christmas_infection_p2.bsp.bz2\n"
     ]
    },
    {
     "name": "stderr",
     "output_type": "stream",
     "text": [
      "100%|██████████| 67.8M/67.8M [00:07<00:00, 9.16MiB/s]\n"
     ]
    },
    {
     "name": "stdout",
     "output_type": "stream",
     "text": [
      "Downloading https://fastdlv2.gflclan.com/file/gflfastdlv2/csgo/maps/ze_chronus_a1.bsp.bz2\n"
     ]
    },
    {
     "name": "stderr",
     "output_type": "stream",
     "text": [
      "100%|██████████| 43.8M/43.8M [00:04<00:00, 9.32MiB/s]\n"
     ]
    },
    {
     "name": "stdout",
     "output_type": "stream",
     "text": [
      "Downloading https://fastdlv2.gflclan.com/file/gflfastdlv2/csgo/maps/ze_coastalcity_b10.bsp.bz2\n"
     ]
    },
    {
     "name": "stderr",
     "output_type": "stream",
     "text": [
      "100%|██████████| 39.4M/39.4M [00:04<00:00, 9.08MiB/s]\n"
     ]
    },
    {
     "name": "stdout",
     "output_type": "stream",
     "text": [
      "Downloading https://fastdlv2.gflclan.com/file/gflfastdlv2/csgo/maps/ze_collective_v1_9.bsp.bz2\n"
     ]
    },
    {
     "name": "stderr",
     "output_type": "stream",
     "text": [
      "100%|██████████| 115M/115M [00:12<00:00, 9.44MiB/s] \n"
     ]
    },
    {
     "name": "stdout",
     "output_type": "stream",
     "text": [
      "Downloading https://fastdlv2.gflclan.com/file/gflfastdlv2/csgo/maps/ze_colorlicouspilar_p4.bsp.bz2\n"
     ]
    },
    {
     "name": "stderr",
     "output_type": "stream",
     "text": [
      "100%|██████████| 8.24M/8.24M [00:01<00:00, 7.26MiB/s]\n"
     ]
    },
    {
     "name": "stdout",
     "output_type": "stream",
     "text": [
      "Downloading https://fastdlv2.gflclan.com/file/gflfastdlv2/csgo/maps/ze_colors_p3.bsp.bz2\n"
     ]
    },
    {
     "name": "stderr",
     "output_type": "stream",
     "text": [
      "100%|██████████| 29.0M/29.0M [00:03<00:00, 8.48MiB/s]\n"
     ]
    },
    {
     "name": "stdout",
     "output_type": "stream",
     "text": [
      "Downloading https://fastdlv2.gflclan.com/file/gflfastdlv2/csgo/maps/ze_complex_va3.bsp.bz2\n"
     ]
    },
    {
     "name": "stderr",
     "output_type": "stream",
     "text": [
      "100%|██████████| 36.9M/36.9M [00:04<00:00, 8.88MiB/s]\n"
     ]
    },
    {
     "name": "stdout",
     "output_type": "stream",
     "text": [
      "Downloading https://fastdlv2.gflclan.com/file/gflfastdlv2/csgo/maps/ze_core_v2b.bsp.bz2\n"
     ]
    },
    {
     "name": "stderr",
     "output_type": "stream",
     "text": [
      "100%|██████████| 59.2M/59.2M [00:06<00:00, 9.05MiB/s]\n"
     ]
    },
    {
     "name": "stdout",
     "output_type": "stream",
     "text": [
      "Downloading https://fastdlv2.gflclan.com/file/gflfastdlv2/csgo/maps/ze_crashbandicoot_p3.bsp.bz2\n"
     ]
    },
    {
     "name": "stderr",
     "output_type": "stream",
     "text": [
      "100%|██████████| 56.9M/56.9M [00:07<00:00, 7.81MiB/s]\n"
     ]
    },
    {
     "name": "stdout",
     "output_type": "stream",
     "text": [
      "Downloading https://fastdlv2.gflclan.com/file/gflfastdlv2/csgo/maps/ze_crazy_christmas_v1_1.bsp.bz2\n"
     ]
    },
    {
     "name": "stderr",
     "output_type": "stream",
     "text": [
      "100%|██████████| 43.0M/43.0M [00:04<00:00, 9.49MiB/s]\n"
     ]
    },
    {
     "name": "stdout",
     "output_type": "stream",
     "text": [
      "Downloading https://fastdlv2.gflclan.com/file/gflfastdlv2/csgo/maps/ze_crazykart_v4.bsp.bz2\n"
     ]
    },
    {
     "name": "stderr",
     "output_type": "stream",
     "text": [
      "100%|██████████| 82.6M/82.6M [00:09<00:00, 8.60MiB/s]\n"
     ]
    },
    {
     "name": "stdout",
     "output_type": "stream",
     "text": [
      "Downloading https://fastdlv2.gflclan.com/file/gflfastdlv2/csgo/maps/ze_cruelty_squad_v1_12.bsp.bz2\n"
     ]
    },
    {
     "name": "stderr",
     "output_type": "stream",
     "text": [
      "100%|██████████| 77.7M/77.7M [00:09<00:00, 7.91MiB/s]\n"
     ]
    },
    {
     "name": "stdout",
     "output_type": "stream",
     "text": [
      "Downloading https://fastdlv2.gflclan.com/file/gflfastdlv2/csgo/maps/ze_crypt_v1_4.bsp.bz2\n"
     ]
    },
    {
     "name": "stderr",
     "output_type": "stream",
     "text": [
      "100%|██████████| 41.8M/41.8M [00:04<00:00, 8.95MiB/s]\n"
     ]
    },
    {
     "name": "stdout",
     "output_type": "stream",
     "text": [
      "Downloading https://fastdlv2.gflclan.com/file/gflfastdlv2/csgo/maps/ze_cursed_bear_tales_v1_2.bsp.bz2\n"
     ]
    },
    {
     "name": "stderr",
     "output_type": "stream",
     "text": [
      "100%|██████████| 70.1M/70.1M [00:08<00:00, 8.17MiB/s]\n"
     ]
    },
    {
     "name": "stdout",
     "output_type": "stream",
     "text": [
      "Downloading https://fastdlv2.gflclan.com/file/gflfastdlv2/csgo/maps/ze_cursed_ruins_gf1_1.bsp.bz2\n"
     ]
    },
    {
     "name": "stderr",
     "output_type": "stream",
     "text": [
      "100%|██████████| 7.31M/7.31M [00:01<00:00, 5.22MiB/s]\n"
     ]
    },
    {
     "name": "stdout",
     "output_type": "stream",
     "text": [
      "Downloading https://fastdlv2.gflclan.com/file/gflfastdlv2/csgo/maps/ze_CV_LOSII_Castle_Siege_b4.bsp.bz2\n"
     ]
    },
    {
     "name": "stderr",
     "output_type": "stream",
     "text": [
      "100%|██████████| 65.5M/65.5M [00:06<00:00, 9.62MiB/s]\n"
     ]
    },
    {
     "name": "stdout",
     "output_type": "stream",
     "text": [
      "Downloading https://fastdlv2.gflclan.com/file/gflfastdlv2/csgo/maps/ze_cyberderp_p4.bsp.bz2\n"
     ]
    },
    {
     "name": "stderr",
     "output_type": "stream",
     "text": [
      "100%|██████████| 59.0M/59.0M [00:06<00:00, 8.89MiB/s]\n"
     ]
    },
    {
     "name": "stdout",
     "output_type": "stream",
     "text": [
      "Downloading https://fastdlv2.gflclan.com/file/gflfastdlv2/csgo/maps/ze_cyberia_v1.bsp.bz2\n"
     ]
    },
    {
     "name": "stderr",
     "output_type": "stream",
     "text": [
      "100%|██████████| 63.9M/63.9M [00:06<00:00, 9.26MiB/s]\n"
     ]
    },
    {
     "name": "stdout",
     "output_type": "stream",
     "text": [
      "Downloading https://fastdlv2.gflclan.com/file/gflfastdlv2/csgo/maps/ze_cyberpunk_x_a07.bsp.bz2\n"
     ]
    },
    {
     "name": "stderr",
     "output_type": "stream",
     "text": [
      "100%|██████████| 58.7M/58.7M [00:07<00:00, 8.11MiB/s]\n"
     ]
    },
    {
     "name": "stdout",
     "output_type": "stream",
     "text": [
      "Downloading https://fastdlv2.gflclan.com/file/gflfastdlv2/csgo/maps/ze_Cyberspace_v1.bsp.bz2\n"
     ]
    },
    {
     "name": "stderr",
     "output_type": "stream",
     "text": [
      "100%|██████████| 41.8M/41.8M [00:04<00:00, 9.27MiB/s]\n"
     ]
    },
    {
     "name": "stdout",
     "output_type": "stream",
     "text": [
      "Downloading https://fastdlv2.gflclan.com/file/gflfastdlv2/csgo/maps/ze_dangerous_waters_v2_Final.bsp.bz2\n"
     ]
    },
    {
     "name": "stderr",
     "output_type": "stream",
     "text": [
      "100%|██████████| 25.8M/25.8M [00:03<00:00, 8.26MiB/s]\n"
     ]
    },
    {
     "name": "stdout",
     "output_type": "stream",
     "text": [
      "Downloading https://fastdlv2.gflclan.com/file/gflfastdlv2/csgo/maps/ze_dark_souls_ptd_csgo2.bsp.bz2\n"
     ]
    },
    {
     "name": "stderr",
     "output_type": "stream",
     "text": [
      "100%|██████████| 95.9M/95.9M [00:09<00:00, 9.60MiB/s]\n"
     ]
    },
    {
     "name": "stdout",
     "output_type": "stream",
     "text": [
      "Downloading https://fastdlv2.gflclan.com/file/gflfastdlv2/csgo/maps/ze_deadcore_k3.bsp.bz2\n"
     ]
    },
    {
     "name": "stderr",
     "output_type": "stream",
     "text": [
      "100%|██████████| 65.6M/65.6M [00:07<00:00, 8.95MiB/s]\n"
     ]
    },
    {
     "name": "stdout",
     "output_type": "stream",
     "text": [
      "Downloading https://fastdlv2.gflclan.com/file/gflfastdlv2/csgo/maps/ze_dear_v1.bsp.bz2\n"
     ]
    },
    {
     "name": "stderr",
     "output_type": "stream",
     "text": [
      "100%|██████████| 41.8M/41.8M [00:04<00:00, 8.45MiB/s]\n"
     ]
    },
    {
     "name": "stdout",
     "output_type": "stream",
     "text": [
      "Downloading https://fastdlv2.gflclan.com/file/gflfastdlv2/csgo/maps/ze_death_star_escape_v4_3_p2.bsp.bz2\n"
     ]
    },
    {
     "name": "stderr",
     "output_type": "stream",
     "text": [
      "100%|██████████| 19.8M/19.8M [00:02<00:00, 8.75MiB/s]\n"
     ]
    },
    {
     "name": "stdout",
     "output_type": "stream",
     "text": [
      "Downloading https://fastdlv2.gflclan.com/file/gflfastdlv2/csgo/maps/ze_death_wish_gf1_1.bsp.bz2\n"
     ]
    },
    {
     "name": "stderr",
     "output_type": "stream",
     "text": [
      "100%|██████████| 9.28M/9.28M [00:01<00:00, 6.85MiB/s]\n"
     ]
    },
    {
     "name": "stdout",
     "output_type": "stream",
     "text": [
      "Downloading https://fastdlv2.gflclan.com/file/gflfastdlv2/csgo/maps/ze_deathinvain_palace_v2.bsp.bz2\n"
     ]
    },
    {
     "name": "stderr",
     "output_type": "stream",
     "text": [
      "100%|██████████| 65.4M/65.4M [00:07<00:00, 9.08MiB/s]\n"
     ]
    },
    {
     "name": "stdout",
     "output_type": "stream",
     "text": [
      "Downloading https://fastdlv2.gflclan.com/file/gflfastdlv2/csgo/maps/ze_deepice_p3.bsp.bz2\n"
     ]
    },
    {
     "name": "stderr",
     "output_type": "stream",
     "text": [
      "100%|██████████| 16.7M/16.7M [00:03<00:00, 5.15MiB/s]\n"
     ]
    },
    {
     "name": "stdout",
     "output_type": "stream",
     "text": [
      "Downloading https://fastdlv2.gflclan.com/file/gflfastdlv2/csgo/maps/ze_defense3002.bsp.bz2\n"
     ]
    },
    {
     "name": "stderr",
     "output_type": "stream",
     "text": [
      "100%|██████████| 14.5M/14.5M [00:01<00:00, 8.46MiB/s]\n"
     ]
    },
    {
     "name": "stdout",
     "output_type": "stream",
     "text": [
      "Downloading https://fastdlv2.gflclan.com/file/gflfastdlv2/csgo/maps/ze_depths_b2.bsp.bz2\n"
     ]
    },
    {
     "name": "stderr",
     "output_type": "stream",
     "text": [
      "100%|██████████| 63.1M/63.1M [00:06<00:00, 9.39MiB/s]\n"
     ]
    },
    {
     "name": "stdout",
     "output_type": "stream",
     "text": [
      "Downloading https://fastdlv2.gflclan.com/file/gflfastdlv2/csgo/maps/ze_descent_into_cerberon_v1.bsp.bz2\n"
     ]
    },
    {
     "name": "stderr",
     "output_type": "stream",
     "text": [
      "100%|██████████| 70.4M/70.4M [00:07<00:00, 9.14MiB/s]\n"
     ]
    },
    {
     "name": "stdout",
     "output_type": "stream",
     "text": [
      "Downloading https://fastdlv2.gflclan.com/file/gflfastdlv2/csgo/maps/ze_desert_fox_v7_6f.bsp.bz2\n"
     ]
    },
    {
     "name": "stderr",
     "output_type": "stream",
     "text": [
      "100%|██████████| 17.0M/17.0M [00:02<00:00, 7.15MiB/s]\n"
     ]
    },
    {
     "name": "stdout",
     "output_type": "stream",
     "text": [
      "Downloading https://fastdlv2.gflclan.com/file/gflfastdlv2/csgo/maps/ze_Desperate_Soul_a10.bsp.bz2\n"
     ]
    },
    {
     "name": "stderr",
     "output_type": "stream",
     "text": [
      "100%|██████████| 86.5M/86.5M [00:10<00:00, 8.08MiB/s]\n"
     ]
    },
    {
     "name": "stdout",
     "output_type": "stream",
     "text": [
      "Downloading https://fastdlv2.gflclan.com/file/gflfastdlv2/csgo/maps/ze_destruction_of_exorath_v4_lite.bsp.bz2\n"
     ]
    },
    {
     "name": "stderr",
     "output_type": "stream",
     "text": [
      "100%|██████████| 73.9M/73.9M [00:07<00:00, 9.51MiB/s]\n"
     ]
    },
    {
     "name": "stdout",
     "output_type": "stream",
     "text": [
      "Downloading https://fastdlv2.gflclan.com/file/gflfastdlv2/csgo/maps/ze_diddle_v3.bsp.bz2\n"
     ]
    },
    {
     "name": "stderr",
     "output_type": "stream",
     "text": [
      "100%|██████████| 101M/101M [00:10<00:00, 9.79MiB/s] \n"
     ]
    },
    {
     "name": "stdout",
     "output_type": "stream",
     "text": [
      "Downloading https://fastdlv2.gflclan.com/file/gflfastdlv2/csgo/maps/ze_diverted_destiny_c2f3.bsp.bz2\n"
     ]
    },
    {
     "name": "stderr",
     "output_type": "stream",
     "text": [
      "100%|██████████| 61.5M/61.5M [00:06<00:00, 9.28MiB/s]\n"
     ]
    },
    {
     "name": "stdout",
     "output_type": "stream",
     "text": [
      "Downloading https://fastdlv2.gflclan.com/file/gflfastdlv2/csgo/maps/ze_djinn_go1.bsp.bz2\n"
     ]
    },
    {
     "name": "stderr",
     "output_type": "stream",
     "text": [
      "100%|██████████| 77.1M/77.1M [00:07<00:00, 9.66MiB/s]\n"
     ]
    },
    {
     "name": "stdout",
     "output_type": "stream",
     "text": [
      "Downloading https://fastdlv2.gflclan.com/file/gflfastdlv2/csgo/maps/ze_DOOM_p2.bsp.bz2\n"
     ]
    },
    {
     "name": "stderr",
     "output_type": "stream",
     "text": [
      "100%|██████████| 23.9M/23.9M [00:02<00:00, 9.06MiB/s]\n"
     ]
    },
    {
     "name": "stdout",
     "output_type": "stream",
     "text": [
      "Downloading https://fastdlv2.gflclan.com/file/gflfastdlv2/csgo/maps/ze_doom3_v2.bsp.bz2\n"
     ]
    },
    {
     "name": "stderr",
     "output_type": "stream",
     "text": [
      "100%|██████████| 82.3M/82.3M [00:08<00:00, 9.70MiB/s]\n"
     ]
    },
    {
     "name": "stdout",
     "output_type": "stream",
     "text": [
      "Downloading https://fastdlv2.gflclan.com/file/gflfastdlv2/csgo/maps/ze_draco_accidere_v4_final.bsp.bz2\n"
     ]
    },
    {
     "name": "stderr",
     "output_type": "stream",
     "text": [
      "100%|██████████| 85.4M/85.4M [00:09<00:00, 8.70MiB/s]\n"
     ]
    },
    {
     "name": "stdout",
     "output_type": "stream",
     "text": [
      "Downloading https://fastdlv2.gflclan.com/file/gflfastdlv2/csgo/maps/ze_dragonball_snakeway_neox2.bsp.bz2\n"
     ]
    },
    {
     "name": "stderr",
     "output_type": "stream",
     "text": [
      "100%|██████████| 49.5M/49.5M [00:05<00:00, 9.22MiB/s]\n"
     ]
    },
    {
     "name": "stdout",
     "output_type": "stream",
     "text": [
      "Downloading https://fastdlv2.gflclan.com/file/gflfastdlv2/csgo/maps/ze_dreamin_v3_3.bsp.bz2\n"
     ]
    },
    {
     "name": "stderr",
     "output_type": "stream",
     "text": [
      "100%|██████████| 76.9M/76.9M [00:07<00:00, 9.70MiB/s]\n"
     ]
    },
    {
     "name": "stdout",
     "output_type": "stream",
     "text": [
      "Downloading https://fastdlv2.gflclan.com/file/gflfastdlv2/csgo/maps/ze_dungeon_of_ignorance_a1_2.bsp.bz2\n"
     ]
    },
    {
     "name": "stderr",
     "output_type": "stream",
     "text": [
      "100%|██████████| 14.5M/14.5M [00:01<00:00, 9.42MiB/s]\n"
     ]
    },
    {
     "name": "stdout",
     "output_type": "stream",
     "text": [
      "Downloading https://fastdlv2.gflclan.com/file/gflfastdlv2/csgo/maps/ze_dust_escape_p3.bsp.bz2\n"
     ]
    },
    {
     "name": "stderr",
     "output_type": "stream",
     "text": [
      "100%|██████████| 5.28M/5.28M [00:00<00:00, 6.11MiB/s]\n"
     ]
    },
    {
     "name": "stdout",
     "output_type": "stream",
     "text": [
      "Downloading https://fastdlv2.gflclan.com/file/gflfastdlv2/csgo/maps/ze_DYSTOPIA_a4.bsp.bz2\n"
     ]
    },
    {
     "name": "stderr",
     "output_type": "stream",
     "text": [
      "100%|██████████| 55.4M/55.4M [00:06<00:00, 8.24MiB/s]\n"
     ]
    },
    {
     "name": "stdout",
     "output_type": "stream",
     "text": [
      "Downloading https://fastdlv2.gflclan.com/file/gflfastdlv2/csgo/maps/ze_easy_escape_r.bsp.bz2\n"
     ]
    },
    {
     "name": "stderr",
     "output_type": "stream",
     "text": [
      "100%|██████████| 41.2M/41.2M [00:04<00:00, 9.42MiB/s]\n"
     ]
    },
    {
     "name": "stdout",
     "output_type": "stream",
     "text": [
      "Downloading https://fastdlv2.gflclan.com/file/gflfastdlv2/csgo/maps/ze_earrape_escape_v1_5_supreme_seizure_edition.bsp.bz2\n"
     ]
    },
    {
     "name": "stderr",
     "output_type": "stream",
     "text": [
      "100%|██████████| 49.9M/49.9M [00:05<00:00, 9.72MiB/s]\n"
     ]
    },
    {
     "name": "stdout",
     "output_type": "stream",
     "text": [
      "Downloading https://fastdlv2.gflclan.com/file/gflfastdlv2/csgo/maps/ze_eden_a3.bsp.bz2\n"
     ]
    },
    {
     "name": "stderr",
     "output_type": "stream",
     "text": [
      "100%|██████████| 16.2M/16.2M [00:01<00:00, 8.65MiB/s]\n"
     ]
    },
    {
     "name": "stdout",
     "output_type": "stream",
     "text": [
      "Downloading https://fastdlv2.gflclan.com/file/gflfastdlv2/csgo/maps/ze_ELEVATOR_escape_p3.bsp.bz2\n"
     ]
    },
    {
     "name": "stderr",
     "output_type": "stream",
     "text": [
      "100%|██████████| 13.4M/13.4M [00:01<00:00, 8.30MiB/s]\n"
     ]
    },
    {
     "name": "stdout",
     "output_type": "stream",
     "text": [
      "Downloading https://fastdlv2.gflclan.com/file/gflfastdlv2/csgo/maps/ze_elork_ok3ng3se5_v1_3.bsp.bz2\n"
     ]
    },
    {
     "name": "stderr",
     "output_type": "stream",
     "text": [
      "100%|██████████| 55.1M/55.1M [00:05<00:00, 9.84MiB/s]\n"
     ]
    },
    {
     "name": "stdout",
     "output_type": "stream",
     "text": [
      "Downloading https://fastdlv2.gflclan.com/file/gflfastdlv2/csgo/maps/ze_el_salto_del_angel_p.bsp.bz2\n"
     ]
    },
    {
     "name": "stderr",
     "output_type": "stream",
     "text": [
      "100%|██████████| 5.48M/5.48M [00:00<00:00, 5.52MiB/s]\n"
     ]
    },
    {
     "name": "stdout",
     "output_type": "stream",
     "text": [
      "Downloading https://fastdlv2.gflclan.com/file/gflfastdlv2/csgo/maps/ze_endemic_v1_3.bsp.bz2\n"
     ]
    },
    {
     "name": "stderr",
     "output_type": "stream",
     "text": [
      "100%|██████████| 34.8M/34.8M [00:03<00:00, 9.14MiB/s]\n"
     ]
    },
    {
     "name": "stdout",
     "output_type": "stream",
     "text": [
      "Downloading https://fastdlv2.gflclan.com/file/gflfastdlv2/csgo/maps/ze_endless_dream_v1_2.bsp.bz2\n"
     ]
    },
    {
     "name": "stderr",
     "output_type": "stream",
     "text": [
      "100%|██████████| 74.9M/74.9M [00:07<00:00, 9.51MiB/s]\n"
     ]
    },
    {
     "name": "stdout",
     "output_type": "stream",
     "text": [
      "Downloading https://fastdlv2.gflclan.com/file/gflfastdlv2/csgo/maps/ze_epic_escape_v2_1.bsp.bz2\n"
     ]
    },
    {
     "name": "stderr",
     "output_type": "stream",
     "text": [
      "100%|██████████| 29.0M/29.0M [00:03<00:00, 8.70MiB/s]\n"
     ]
    },
    {
     "name": "stdout",
     "output_type": "stream",
     "text": [
      "Downloading https://fastdlv2.gflclan.com/file/gflfastdlv2/csgo/maps/ze_escapetheworld_a33.bsp.bz2\n"
     ]
    },
    {
     "name": "stderr",
     "output_type": "stream",
     "text": [
      "100%|██████████| 54.3M/54.3M [00:06<00:00, 8.38MiB/s]\n"
     ]
    },
    {
     "name": "stdout",
     "output_type": "stream",
     "text": [
      "Downloading https://fastdlv2.gflclan.com/file/gflfastdlv2/csgo/maps/ze_escape_horizon_p3.bsp.bz2\n"
     ]
    },
    {
     "name": "stderr",
     "output_type": "stream",
     "text": [
      "100%|██████████| 29.5M/29.5M [00:03<00:00, 8.90MiB/s]\n"
     ]
    },
    {
     "name": "stdout",
     "output_type": "stream",
     "text": [
      "Downloading https://fastdlv2.gflclan.com/file/gflfastdlv2/csgo/maps/ze_escape_origine_p2.bsp.bz2\n"
     ]
    },
    {
     "name": "stderr",
     "output_type": "stream",
     "text": [
      "100%|██████████| 9.73M/9.73M [00:01<00:00, 7.56MiB/s]\n"
     ]
    },
    {
     "name": "stdout",
     "output_type": "stream",
     "text": [
      "Downloading https://fastdlv2.gflclan.com/file/gflfastdlv2/csgo/maps/ze_escape_stroggos_p2.bsp.bz2\n"
     ]
    },
    {
     "name": "stderr",
     "output_type": "stream",
     "text": [
      "100%|██████████| 16.6M/16.6M [00:02<00:00, 8.00MiB/s]\n"
     ]
    },
    {
     "name": "stdout",
     "output_type": "stream",
     "text": [
      "Downloading https://fastdlv2.gflclan.com/file/gflfastdlv2/csgo/maps/ze_escape_the_eye_p3.bsp.bz2\n"
     ]
    },
    {
     "name": "stderr",
     "output_type": "stream",
     "text": [
      "100%|██████████| 18.2M/18.2M [00:02<00:00, 8.24MiB/s]\n"
     ]
    },
    {
     "name": "stdout",
     "output_type": "stream",
     "text": [
      "Downloading https://fastdlv2.gflclan.com/file/gflfastdlv2/csgo/maps/ze_escape_together_v2_xx.bsp.bz2\n"
     ]
    },
    {
     "name": "stderr",
     "output_type": "stream",
     "text": [
      "100%|██████████| 24.5M/24.5M [00:02<00:00, 8.74MiB/s]\n"
     ]
    },
    {
     "name": "stdout",
     "output_type": "stream",
     "text": [
      "Downloading https://fastdlv2.gflclan.com/file/gflfastdlv2/csgo/maps/ze_eschaton_a3_1.bsp.bz2\n"
     ]
    },
    {
     "name": "stderr",
     "output_type": "stream",
     "text": [
      "100%|██████████| 60.0M/60.0M [00:06<00:00, 9.87MiB/s]\n"
     ]
    },
    {
     "name": "stdout",
     "output_type": "stream",
     "text": [
      "Downloading https://fastdlv2.gflclan.com/file/gflfastdlv2/csgo/maps/ze_eternal_grove_v3.bsp.bz2\n"
     ]
    },
    {
     "name": "stderr",
     "output_type": "stream",
     "text": [
      "100%|██████████| 110M/110M [00:11<00:00, 9.37MiB/s] \n"
     ]
    },
    {
     "name": "stdout",
     "output_type": "stream",
     "text": [
      "Downloading https://fastdlv2.gflclan.com/file/gflfastdlv2/csgo/maps/ze_eternal_journey_go_v1_4t11.bsp.bz2\n"
     ]
    },
    {
     "name": "stderr",
     "output_type": "stream",
     "text": [
      "100%|██████████| 81.8M/81.8M [00:08<00:00, 9.28MiB/s]\n"
     ]
    },
    {
     "name": "stdout",
     "output_type": "stream",
     "text": [
      "Downloading https://fastdlv2.gflclan.com/file/gflfastdlv2/csgo/maps/ze_eternal_void_p3.bsp.bz2\n"
     ]
    },
    {
     "name": "stderr",
     "output_type": "stream",
     "text": [
      "100%|██████████| 27.7M/27.7M [00:02<00:00, 9.74MiB/s]\n"
     ]
    },
    {
     "name": "stdout",
     "output_type": "stream",
     "text": [
      "Downloading https://fastdlv2.gflclan.com/file/gflfastdlv2/csgo/maps/ze_evernight_a3_4.bsp.bz2\n"
     ]
    },
    {
     "name": "stderr",
     "output_type": "stream",
     "text": [
      "100%|██████████| 78.3M/78.3M [00:10<00:00, 7.29MiB/s]\n"
     ]
    },
    {
     "name": "stdout",
     "output_type": "stream",
     "text": [
      "Downloading https://fastdlv2.gflclan.com/file/gflfastdlv2/csgo/maps/ze_evil_mansion_v1_finalf.bsp.bz2\n"
     ]
    },
    {
     "name": "stderr",
     "output_type": "stream",
     "text": [
      "100%|██████████| 19.8M/19.8M [00:02<00:00, 8.34MiB/s]\n"
     ]
    },
    {
     "name": "stdout",
     "output_type": "stream",
     "text": [
      "Downloading https://fastdlv2.gflclan.com/file/gflfastdlv2/csgo/maps/ze_exchange_innovation_v1b.bsp.bz2\n"
     ]
    },
    {
     "name": "stderr",
     "output_type": "stream",
     "text": [
      "100%|██████████| 66.0M/66.0M [00:07<00:00, 9.14MiB/s]\n"
     ]
    },
    {
     "name": "stdout",
     "output_type": "stream",
     "text": [
      "Downloading https://fastdlv2.gflclan.com/file/gflfastdlv2/csgo/maps/ze_facility_overload_final2.bsp.bz2\n"
     ]
    },
    {
     "name": "stderr",
     "output_type": "stream",
     "text": [
      "100%|██████████| 41.3M/41.3M [00:04<00:00, 9.08MiB/s]\n"
     ]
    },
    {
     "name": "stdout",
     "output_type": "stream",
     "text": [
      "Downloading https://fastdlv2.gflclan.com/file/gflfastdlv2/csgo/maps/ze_fapescape_katrina_v1_7.bsp.bz2\n"
     ]
    },
    {
     "name": "stderr",
     "output_type": "stream",
     "text": [
      "100%|██████████| 67.7M/67.7M [00:07<00:00, 9.48MiB/s]\n"
     ]
    },
    {
     "name": "stdout",
     "output_type": "stream",
     "text": [
      "Downloading https://fastdlv2.gflclan.com/file/gflfastdlv2/csgo/maps/ze_fapescape_p5.bsp.bz2\n"
     ]
    },
    {
     "name": "stderr",
     "output_type": "stream",
     "text": [
      "100%|██████████| 51.6M/51.6M [00:05<00:00, 9.34MiB/s]\n"
     ]
    },
    {
     "name": "stdout",
     "output_type": "stream",
     "text": [
      "Downloading https://fastdlv2.gflclan.com/file/gflfastdlv2/csgo/maps/ze_fapescape_rote_v1_3.bsp.bz2\n"
     ]
    },
    {
     "name": "stderr",
     "output_type": "stream",
     "text": [
      "100%|██████████| 70.9M/70.9M [00:07<00:00, 9.61MiB/s]\n"
     ]
    },
    {
     "name": "stdout",
     "output_type": "stream",
     "text": [
      "Downloading https://fastdlv2.gflclan.com/file/gflfastdlv2/csgo/maps/ze_fast_escape_p2.bsp.bz2\n"
     ]
    },
    {
     "name": "stderr",
     "output_type": "stream",
     "text": [
      "100%|██████████| 17.4M/17.4M [00:02<00:00, 7.84MiB/s]\n"
     ]
    },
    {
     "name": "stdout",
     "output_type": "stream",
     "text": [
      "Downloading https://fastdlv2.gflclan.com/file/gflfastdlv2/csgo/maps/ze_ffuxx_demon_naramina_a2.bsp.bz2\n"
     ]
    },
    {
     "name": "stderr",
     "output_type": "stream",
     "text": [
      "100%|██████████| 60.0M/60.0M [00:06<00:00, 8.94MiB/s]\n"
     ]
    },
    {
     "name": "stdout",
     "output_type": "stream",
     "text": [
      "Downloading https://fastdlv2.gflclan.com/file/gflfastdlv2/csgo/maps/ze_ffvii_boku_no_pico_v1_b2.bsp.bz2\n"
     ]
    },
    {
     "name": "stderr",
     "output_type": "stream",
     "text": [
      "100%|██████████| 64.3M/64.3M [00:06<00:00, 9.68MiB/s]\n"
     ]
    },
    {
     "name": "stdout",
     "output_type": "stream",
     "text": [
      "Downloading https://fastdlv2.gflclan.com/file/gflfastdlv2/csgo/maps/ze_FFVII_Cosmo_Canyon_v5k_fix.bsp.bz2\n"
     ]
    },
    {
     "name": "stderr",
     "output_type": "stream",
     "text": [
      "100%|██████████| 75.7M/75.7M [00:08<00:00, 9.15MiB/s]\n"
     ]
    },
    {
     "name": "stdout",
     "output_type": "stream",
     "text": [
      "Downloading https://fastdlv2.gflclan.com/file/gflfastdlv2/csgo/maps/ze_ffvii_cosmo_canyon_v6test5.bsp\n",
      "Error downloading https://fastdlv2.gflclan.com/file/gflfastdlv2/csgo/maps/ze_ffvii_cosmo_canyon_v6test5.bsp\n"
     ]
    },
    {
     "name": "stderr",
     "output_type": "stream",
     "text": [
      "94.0iB [00:00, 1.82kiB/s]"
     ]
    },
    {
     "name": "stdout",
     "output_type": "stream",
     "text": [
      "Downloading https://fastdlv2.gflclan.com/file/gflfastdlv2/csgo/maps/ze_FFVII_Mako_Reactor_v5_3_Kia5.bsp.bz2\n"
     ]
    },
    {
     "name": "stderr",
     "output_type": "stream",
     "text": [
      "\n",
      "100%|██████████| 73.3M/73.3M [00:08<00:00, 8.86MiB/s]\n"
     ]
    },
    {
     "name": "stdout",
     "output_type": "stream",
     "text": [
      "Downloading https://fastdlv2.gflclan.com/file/gflfastdlv2/csgo/maps/ze_FFVII_Mako_Reactor_v6_b09k2.bsp.bz2\n"
     ]
    },
    {
     "name": "stderr",
     "output_type": "stream",
     "text": [
      "100%|██████████| 96.6M/96.6M [00:10<00:00, 9.56MiB/s]\n"
     ]
    },
    {
     "name": "stdout",
     "output_type": "stream",
     "text": [
      "Downloading https://fastdlv2.gflclan.com/file/gflfastdlv2/csgo/maps/ze_FFVII_Temple_Ancient_v4_3.bsp.bz2\n"
     ]
    },
    {
     "name": "stderr",
     "output_type": "stream",
     "text": [
      "100%|██████████| 77.8M/77.8M [00:08<00:00, 8.96MiB/s]\n"
     ]
    },
    {
     "name": "stdout",
     "output_type": "stream",
     "text": [
      "Downloading https://fastdlv2.gflclan.com/file/gflfastdlv2/csgo/maps/ze_FFXII_Feywood_b6_3k.bsp.bz2\n"
     ]
    },
    {
     "name": "stderr",
     "output_type": "stream",
     "text": [
      "100%|██████████| 68.8M/68.8M [00:07<00:00, 9.52MiB/s]\n"
     ]
    },
    {
     "name": "stdout",
     "output_type": "stream",
     "text": [
      "Downloading https://fastdlv2.gflclan.com/file/gflfastdlv2/csgo/maps/ze_ffxii_mt_bur_omisace_v5_k3.bsp.bz2\n"
     ]
    },
    {
     "name": "stderr",
     "output_type": "stream",
     "text": [
      "100%|██████████| 92.2M/92.2M [00:10<00:00, 9.11MiB/s]\n"
     ]
    },
    {
     "name": "stdout",
     "output_type": "stream",
     "text": [
      "Downloading https://fastdlv2.gflclan.com/file/gflfastdlv2/csgo/maps/ze_FFXII_Paramina_Rift_r4.bsp.bz2\n"
     ]
    },
    {
     "name": "stderr",
     "output_type": "stream",
     "text": [
      "100%|██████████| 68.0M/68.0M [00:07<00:00, 9.58MiB/s]\n"
     ]
    },
    {
     "name": "stdout",
     "output_type": "stream",
     "text": [
      "Downloading https://fastdlv2.gflclan.com/file/gflfastdlv2/csgo/maps/ze_FFXII_Ridorana_Cataract_t5_3_w6.bsp.bz2\n"
     ]
    },
    {
     "name": "stderr",
     "output_type": "stream",
     "text": [
      "100%|██████████| 85.5M/85.5M [00:08<00:00, 9.59MiB/s]\n"
     ]
    },
    {
     "name": "stdout",
     "output_type": "stream",
     "text": [
      "Downloading https://fastdlv2.gflclan.com/file/gflfastdlv2/csgo/maps/ze_FFXII_Salikawood_v1_6f.bsp.bz2\n"
     ]
    },
    {
     "name": "stderr",
     "output_type": "stream",
     "text": [
      "100%|██████████| 88.3M/88.3M [00:09<00:00, 9.63MiB/s]\n"
     ]
    },
    {
     "name": "stdout",
     "output_type": "stream",
     "text": [
      "Downloading https://fastdlv2.gflclan.com/file/gflfastdlv2/csgo/maps/ze_FFXII_Westersand_v7_z9.bsp.bz2\n"
     ]
    },
    {
     "name": "stderr",
     "output_type": "stream",
     "text": [
      "100%|██████████| 63.5M/63.5M [00:06<00:00, 9.30MiB/s]\n"
     ]
    },
    {
     "name": "stdout",
     "output_type": "stream",
     "text": [
      "Downloading https://fastdlv2.gflclan.com/file/gflfastdlv2/csgo/maps/ze_FFXII_Westersand_v8zeta1k.bsp.bz2\n"
     ]
    },
    {
     "name": "stderr",
     "output_type": "stream",
     "text": [
      "100%|██████████| 86.0M/86.0M [00:09<00:00, 9.45MiB/s]\n"
     ]
    },
    {
     "name": "stdout",
     "output_type": "stream",
     "text": [
      "Downloading https://fastdlv2.gflclan.com/file/gflfastdlv2/csgo/maps/ze_FFXIV_Pharos_Sirius_v1_6.bsp.bz2\n"
     ]
    },
    {
     "name": "stderr",
     "output_type": "stream",
     "text": [
      "100%|██████████| 73.9M/73.9M [00:08<00:00, 9.22MiB/s]\n"
     ]
    },
    {
     "name": "stdout",
     "output_type": "stream",
     "text": [
      "Downloading https://fastdlv2.gflclan.com/file/gflfastdlv2/csgo/maps/ze_FFXIV_Wanderers_Palace_v2_va2.bsp.bz2\n"
     ]
    },
    {
     "name": "stderr",
     "output_type": "stream",
     "text": [
      "100%|██████████| 72.5M/72.5M [00:07<00:00, 9.27MiB/s]\n"
     ]
    },
    {
     "name": "stdout",
     "output_type": "stream",
     "text": [
      "Downloading https://fastdlv2.gflclan.com/file/gflfastdlv2/csgo/maps/ze_FFXIV_Wanderers_Palace_v4_va2.bsp.bz2\n"
     ]
    },
    {
     "name": "stderr",
     "output_type": "stream",
     "text": [
      "100%|██████████| 72.7M/72.7M [00:07<00:00, 9.34MiB/s]\n"
     ]
    },
    {
     "name": "stdout",
     "output_type": "stream",
     "text": [
      "Downloading https://fastdlv2.gflclan.com/file/gflfastdlv2/csgo/maps/ze_FFXIV_Wanderers_Palace_v5_2.bsp.bz2\n"
     ]
    },
    {
     "name": "stderr",
     "output_type": "stream",
     "text": [
      "100%|██████████| 77.2M/77.2M [00:08<00:00, 9.48MiB/s]\n"
     ]
    },
    {
     "name": "stdout",
     "output_type": "stream",
     "text": [
      "Downloading https://fastdlv2.gflclan.com/file/gflfastdlv2/csgo/maps/ze_ffxiv_wanderers_palace_v6_2z1.bsp.bz2\n"
     ]
    },
    {
     "name": "stderr",
     "output_type": "stream",
     "text": [
      "100%|██████████| 80.1M/80.1M [00:08<00:00, 9.23MiB/s]\n"
     ]
    },
    {
     "name": "stdout",
     "output_type": "stream",
     "text": [
      "Downloading https://fastdlv2.gflclan.com/file/gflfastdlv2/csgo/maps/ze_firewall_laboratory_part1_p2.bsp.bz2\n"
     ]
    },
    {
     "name": "stderr",
     "output_type": "stream",
     "text": [
      "100%|██████████| 24.4M/24.4M [00:02<00:00, 8.97MiB/s]\n"
     ]
    },
    {
     "name": "stdout",
     "output_type": "stream",
     "text": [
      "Downloading https://fastdlv2.gflclan.com/file/gflfastdlv2/csgo/maps/ze_firewall_laboratory_part2_p2.bsp.bz2\n"
     ]
    },
    {
     "name": "stderr",
     "output_type": "stream",
     "text": [
      "100%|██████████| 20.2M/20.2M [00:02<00:00, 8.20MiB/s]\n"
     ]
    },
    {
     "name": "stdout",
     "output_type": "stream",
     "text": [
      "Downloading https://fastdlv2.gflclan.com/file/gflfastdlv2/csgo/maps/ze_flex_b4.bsp.bz2\n"
     ]
    },
    {
     "name": "stderr",
     "output_type": "stream",
     "text": [
      "100%|██████████| 44.4M/44.4M [00:05<00:00, 8.81MiB/s]\n"
     ]
    },
    {
     "name": "stdout",
     "output_type": "stream",
     "text": [
      "Downloading https://fastdlv2.gflclan.com/file/gflfastdlv2/csgo/maps/ze_flowering_b10.bsp.bz2\n"
     ]
    },
    {
     "name": "stderr",
     "output_type": "stream",
     "text": [
      "100%|██████████| 45.1M/45.1M [00:04<00:00, 9.07MiB/s]\n"
     ]
    },
    {
     "name": "stdout",
     "output_type": "stream",
     "text": [
      "Downloading https://fastdlv2.gflclan.com/file/gflfastdlv2/csgo/maps/ze_flying_world_p.bsp.bz2\n"
     ]
    },
    {
     "name": "stderr",
     "output_type": "stream",
     "text": [
      "100%|██████████| 29.9M/29.9M [00:03<00:00, 9.02MiB/s]\n"
     ]
    },
    {
     "name": "stdout",
     "output_type": "stream",
     "text": [
      "Downloading https://fastdlv2.gflclan.com/file/gflfastdlv2/csgo/maps/ze_forbidden_repository_a1_4.bsp.bz2\n"
     ]
    },
    {
     "name": "stderr",
     "output_type": "stream",
     "text": [
      "100%|██████████| 32.7M/32.7M [00:04<00:00, 7.86MiB/s]\n"
     ]
    },
    {
     "name": "stdout",
     "output_type": "stream",
     "text": [
      "Downloading https://fastdlv2.gflclan.com/file/gflfastdlv2/csgo/maps/ze_forest_r_v1.bsp.bz2\n"
     ]
    },
    {
     "name": "stderr",
     "output_type": "stream",
     "text": [
      "100%|██████████| 45.5M/45.5M [00:04<00:00, 9.37MiB/s]\n"
     ]
    },
    {
     "name": "stdout",
     "output_type": "stream",
     "text": [
      "Downloading https://fastdlv2.gflclan.com/file/gflfastdlv2/csgo/maps/ze_forgotten_facility_p3.bsp.bz2\n"
     ]
    },
    {
     "name": "stderr",
     "output_type": "stream",
     "text": [
      "100%|██████████| 10.5M/10.5M [00:01<00:00, 7.61MiB/s]\n"
     ]
    },
    {
     "name": "stdout",
     "output_type": "stream",
     "text": [
      "Downloading https://fastdlv2.gflclan.com/file/gflfastdlv2/csgo/maps/ze_forhidden_slicoo_v5.bsp.bz2\n"
     ]
    },
    {
     "name": "stderr",
     "output_type": "stream",
     "text": [
      "100%|██████████| 85.1M/85.1M [00:08<00:00, 9.69MiB/s]\n"
     ]
    },
    {
     "name": "stdout",
     "output_type": "stream",
     "text": [
      "Downloading https://fastdlv2.gflclan.com/file/gflfastdlv2/csgo/maps/ze_forsaken_temple_v3_b5.bsp.bz2\n"
     ]
    },
    {
     "name": "stderr",
     "output_type": "stream",
     "text": [
      "100%|██████████| 77.6M/77.6M [00:08<00:00, 9.58MiB/s]\n"
     ]
    },
    {
     "name": "stdout",
     "output_type": "stream",
     "text": [
      "Downloading https://fastdlv2.gflclan.com/file/gflfastdlv2/csgo/maps/ze_FORiUS_just_RUN_p2.bsp.bz2\n"
     ]
    },
    {
     "name": "stderr",
     "output_type": "stream",
     "text": [
      "100%|██████████| 1.62M/1.62M [00:00<00:00, 3.65MiB/s]\n"
     ]
    },
    {
     "name": "stdout",
     "output_type": "stream",
     "text": [
      "Downloading https://fastdlv2.gflclan.com/file/gflfastdlv2/csgo/maps/ze_fragment_ops_v2_7_fix.bsp.bz2\n"
     ]
    },
    {
     "name": "stderr",
     "output_type": "stream",
     "text": [
      "100%|██████████| 36.2M/36.2M [00:03<00:00, 9.16MiB/s]\n"
     ]
    },
    {
     "name": "stdout",
     "output_type": "stream",
     "text": [
      "Downloading https://fastdlv2.gflclan.com/file/gflfastdlv2/csgo/maps/ze_frostdrake_tower_v1.bsp.bz2\n"
     ]
    },
    {
     "name": "stderr",
     "output_type": "stream",
     "text": [
      "100%|██████████| 48.3M/48.3M [00:05<00:00, 8.70MiB/s]\n"
     ]
    },
    {
     "name": "stdout",
     "output_type": "stream",
     "text": [
      "Downloading https://fastdlv2.gflclan.com/file/gflfastdlv2/csgo/maps/ze_frozentemple_rc1_1.bsp.bz2\n"
     ]
    },
    {
     "name": "stderr",
     "output_type": "stream",
     "text": [
      "100%|██████████| 23.2M/23.2M [00:02<00:00, 8.85MiB/s]\n"
     ]
    },
    {
     "name": "stdout",
     "output_type": "stream",
     "text": [
      "Downloading https://fastdlv2.gflclan.com/file/gflfastdlv2/csgo/maps/ze_frozen_abyss_v1_2.bsp.bz2\n"
     ]
    },
    {
     "name": "stderr",
     "output_type": "stream",
     "text": [
      "100%|██████████| 91.9M/91.9M [00:09<00:00, 9.72MiB/s]\n"
     ]
    },
    {
     "name": "stdout",
     "output_type": "stream",
     "text": [
      "Downloading https://fastdlv2.gflclan.com/file/gflfastdlv2/csgo/maps/ze_funny_runner_v3_1.bsp.bz2\n"
     ]
    },
    {
     "name": "stderr",
     "output_type": "stream",
     "text": [
      "100%|██████████| 67.7M/67.7M [00:07<00:00, 9.19MiB/s]\n"
     ]
    },
    {
     "name": "stdout",
     "output_type": "stream",
     "text": [
      "Downloading https://fastdlv2.gflclan.com/file/gflfastdlv2/csgo/maps/ze_games_v2_1.bsp.bz2\n"
     ]
    },
    {
     "name": "stderr",
     "output_type": "stream",
     "text": [
      "100%|██████████| 15.0M/15.0M [00:01<00:00, 8.22MiB/s]\n"
     ]
    },
    {
     "name": "stdout",
     "output_type": "stream",
     "text": [
      "Downloading https://fastdlv2.gflclan.com/file/gflfastdlv2/csgo/maps/ze_genso_of_last_v3_4_t1.bsp.bz2\n"
     ]
    },
    {
     "name": "stderr",
     "output_type": "stream",
     "text": [
      "100%|██████████| 72.7M/72.7M [00:07<00:00, 9.67MiB/s]\n"
     ]
    },
    {
     "name": "stdout",
     "output_type": "stream",
     "text": [
      "Downloading https://fastdlv2.gflclan.com/file/gflfastdlv2/csgo/maps/ze_gods_wrath_p2.bsp.bz2\n"
     ]
    },
    {
     "name": "stderr",
     "output_type": "stream",
     "text": [
      "100%|██████████| 19.0M/19.0M [00:02<00:00, 8.74MiB/s]\n"
     ]
    },
    {
     "name": "stdout",
     "output_type": "stream",
     "text": [
      "Downloading https://fastdlv2.gflclan.com/file/gflfastdlv2/csgo/maps/ze_golubenkaya_meow_v1_2.bsp.bz2\n"
     ]
    },
    {
     "name": "stderr",
     "output_type": "stream",
     "text": [
      "100%|██████████| 78.8M/78.8M [00:08<00:00, 9.55MiB/s]\n"
     ]
    },
    {
     "name": "stdout",
     "output_type": "stream",
     "text": [
      "Downloading https://fastdlv2.gflclan.com/file/gflfastdlv2/csgo/maps/ze_got_the_north_csgo3.bsp.bz2\n"
     ]
    },
    {
     "name": "stderr",
     "output_type": "stream",
     "text": [
      "100%|██████████| 75.5M/75.5M [00:07<00:00, 9.57MiB/s]\n"
     ]
    },
    {
     "name": "stdout",
     "output_type": "stream",
     "text": [
      "Downloading https://fastdlv2.gflclan.com/file/gflfastdlv2/csgo/maps/ze_grand_boatescape_p3.bsp.bz2\n"
     ]
    },
    {
     "name": "stderr",
     "output_type": "stream",
     "text": [
      "100%|██████████| 26.3M/26.3M [00:02<00:00, 9.35MiB/s]\n"
     ]
    },
    {
     "name": "stdout",
     "output_type": "stream",
     "text": [
      "Downloading https://fastdlv2.gflclan.com/file/gflfastdlv2/csgo/maps/ze_grau_a03_4ff.bsp.bz2\n"
     ]
    },
    {
     "name": "stderr",
     "output_type": "stream",
     "text": [
      "100%|██████████| 33.2M/33.2M [00:04<00:00, 7.89MiB/s]\n"
     ]
    },
    {
     "name": "stdout",
     "output_type": "stream",
     "text": [
      "Downloading https://fastdlv2.gflclan.com/file/gflfastdlv2/csgo/maps/ze_greece_escape_p.bsp.bz2\n"
     ]
    },
    {
     "name": "stderr",
     "output_type": "stream",
     "text": [
      "100%|██████████| 22.4M/22.4M [00:02<00:00, 8.70MiB/s]\n"
     ]
    },
    {
     "name": "stdout",
     "output_type": "stream",
     "text": [
      "Downloading https://fastdlv2.gflclan.com/file/gflfastdlv2/csgo/maps/ze_greencity_fix.bsp.bz2\n"
     ]
    },
    {
     "name": "stderr",
     "output_type": "stream",
     "text": [
      "100%|██████████| 27.0M/27.0M [00:03<00:00, 7.36MiB/s]\n"
     ]
    },
    {
     "name": "stdout",
     "output_type": "stream",
     "text": [
      "Downloading https://fastdlv2.gflclan.com/file/gflfastdlv2/csgo/maps/ze_greyplace_v1_2.bsp.bz2\n"
     ]
    },
    {
     "name": "stderr",
     "output_type": "stream",
     "text": [
      "100%|██████████| 79.7M/79.7M [00:08<00:00, 9.24MiB/s]\n"
     ]
    },
    {
     "name": "stdout",
     "output_type": "stream",
     "text": [
      "Downloading https://fastdlv2.gflclan.com/file/gflfastdlv2/csgo/maps/ze_gris_a4_9_8.bsp.bz2\n"
     ]
    },
    {
     "name": "stderr",
     "output_type": "stream",
     "text": [
      "100%|██████████| 30.1M/30.1M [00:03<00:00, 8.91MiB/s]\n"
     ]
    },
    {
     "name": "stdout",
     "output_type": "stream",
     "text": [
      "Downloading https://fastdlv2.gflclan.com/file/gflfastdlv2/csgo/maps/ze_gris_v1_13.bsp.bz2\n"
     ]
    },
    {
     "name": "stderr",
     "output_type": "stream",
     "text": [
      "100%|██████████| 59.3M/59.3M [00:06<00:00, 9.39MiB/s]\n"
     ]
    },
    {
     "name": "stdout",
     "output_type": "stream",
     "text": [
      "Downloading https://fastdlv2.gflclan.com/file/gflfastdlv2/csgo/maps/ze_Halloween_House_b4.bsp.bz2\n"
     ]
    },
    {
     "name": "stderr",
     "output_type": "stream",
     "text": [
      "100%|██████████| 79.0M/79.0M [00:08<00:00, 9.27MiB/s]\n"
     ]
    },
    {
     "name": "stdout",
     "output_type": "stream",
     "text": [
      "Downloading https://fastdlv2.gflclan.com/file/gflfastdlv2/csgo/maps/ze_halo_ce_p1_c7.bsp.bz2\n"
     ]
    },
    {
     "name": "stderr",
     "output_type": "stream",
     "text": [
      "100%|██████████| 77.7M/77.7M [00:08<00:00, 9.43MiB/s]\n"
     ]
    },
    {
     "name": "stdout",
     "output_type": "stream",
     "text": [
      "Downloading https://fastdlv2.gflclan.com/file/gflfastdlv2/csgo/maps/ze_halo_p3.bsp.bz2\n"
     ]
    },
    {
     "name": "stderr",
     "output_type": "stream",
     "text": [
      "100%|██████████| 27.5M/27.5M [00:03<00:00, 8.95MiB/s]\n"
     ]
    },
    {
     "name": "stdout",
     "output_type": "stream",
     "text": [
      "Downloading https://fastdlv2.gflclan.com/file/gflfastdlv2/csgo/maps/ze_halo_poa_p4.bsp.bz2\n"
     ]
    },
    {
     "name": "stderr",
     "output_type": "stream",
     "text": [
      "100%|██████████| 29.2M/29.2M [00:03<00:00, 7.83MiB/s]\n"
     ]
    },
    {
     "name": "stdout",
     "output_type": "stream",
     "text": [
      "Downloading https://fastdlv2.gflclan.com/file/gflfastdlv2/csgo/maps/ze_halo_quarantine_zone_alpha_v6.bsp.bz2\n"
     ]
    },
    {
     "name": "stderr",
     "output_type": "stream",
     "text": [
      "100%|██████████| 63.6M/63.6M [00:06<00:00, 9.40MiB/s]\n"
     ]
    },
    {
     "name": "stdout",
     "output_type": "stream",
     "text": [
      "Downloading https://fastdlv2.gflclan.com/file/gflfastdlv2/csgo/maps/ze_harry_potter_v2_1_csgo.bsp\n"
     ]
    },
    {
     "name": "stderr",
     "output_type": "stream",
     "text": [
      "100%|██████████| 366M/366M [00:37<00:00, 9.74MiB/s] \n"
     ]
    },
    {
     "name": "stdout",
     "output_type": "stream",
     "text": [
      "Downloading https://fastdlv2.gflclan.com/file/gflfastdlv2/csgo/maps/ze_haunted_lab_escape_p3.bsp.bz2\n"
     ]
    },
    {
     "name": "stderr",
     "output_type": "stream",
     "text": [
      "100%|██████████| 13.0M/13.0M [00:01<00:00, 8.23MiB/s]\n"
     ]
    },
    {
     "name": "stdout",
     "output_type": "stream",
     "text": [
      "Downloading https://fastdlv2.gflclan.com/file/gflfastdlv2/csgo/maps/ze_hazard_escape_p2.bsp.bz2\n"
     ]
    },
    {
     "name": "stderr",
     "output_type": "stream",
     "text": [
      "100%|██████████| 14.0M/14.0M [00:01<00:00, 8.53MiB/s]\n"
     ]
    },
    {
     "name": "stdout",
     "output_type": "stream",
     "text": [
      "Downloading https://fastdlv2.gflclan.com/file/gflfastdlv2/csgo/maps/ze__hell.bsp.bz2\n"
     ]
    },
    {
     "name": "stderr",
     "output_type": "stream",
     "text": [
      "100%|██████████| 2.52M/2.52M [00:00<00:00, 4.62MiB/s]\n"
     ]
    },
    {
     "name": "stdout",
     "output_type": "stream",
     "text": [
      "Downloading https://fastdlv2.gflclan.com/file/gflfastdlv2/csgo/maps/ze_Hell_Escape_p2.bsp.bz2\n"
     ]
    },
    {
     "name": "stderr",
     "output_type": "stream",
     "text": [
      "100%|██████████| 14.6M/14.6M [00:02<00:00, 7.21MiB/s]\n"
     ]
    },
    {
     "name": "stdout",
     "output_type": "stream",
     "text": [
      "Downloading https://fastdlv2.gflclan.com/file/gflfastdlv2/csgo/maps/ze_hidden_fortress_p.bsp.bz2\n"
     ]
    },
    {
     "name": "stderr",
     "output_type": "stream",
     "text": [
      "100%|██████████| 13.2M/13.2M [00:01<00:00, 7.38MiB/s]\n"
     ]
    },
    {
     "name": "stdout",
     "output_type": "stream",
     "text": [
      "Downloading https://fastdlv2.gflclan.com/file/gflfastdlv2/csgo/maps/ze_hidden_temple_v2_5.bsp.bz2\n"
     ]
    },
    {
     "name": "stderr",
     "output_type": "stream",
     "text": [
      "100%|██████████| 44.5M/44.5M [00:04<00:00, 9.38MiB/s]\n"
     ]
    },
    {
     "name": "stdout",
     "output_type": "stream",
     "text": [
      "Downloading https://fastdlv2.gflclan.com/file/gflfastdlv2/csgo/maps/ze_highest_to_lowest_v1_1.bsp.bz2\n"
     ]
    },
    {
     "name": "stderr",
     "output_type": "stream",
     "text": [
      "100%|██████████| 11.2M/11.2M [00:01<00:00, 7.23MiB/s]\n"
     ]
    },
    {
     "name": "stdout",
     "output_type": "stream",
     "text": [
      "Downloading https://fastdlv2.gflclan.com/file/gflfastdlv2/csgo/maps/ze_hold_em_v8.bsp.bz2\n"
     ]
    },
    {
     "name": "stderr",
     "output_type": "stream",
     "text": [
      "100%|██████████| 7.79M/7.79M [00:01<00:00, 6.72MiB/s]\n"
     ]
    },
    {
     "name": "stdout",
     "output_type": "stream",
     "text": [
      "Downloading https://fastdlv2.gflclan.com/file/gflfastdlv2/csgo/maps/ze_honkai_impact_3rd_babel_v1_55.bsp.bz2\n"
     ]
    },
    {
     "name": "stderr",
     "output_type": "stream",
     "text": [
      "100%|██████████| 51.6M/51.6M [00:06<00:00, 8.55MiB/s]\n"
     ]
    },
    {
     "name": "stdout",
     "output_type": "stream",
     "text": [
      "Downloading https://fastdlv2.gflclan.com/file/gflfastdlv2/csgo/maps/ze_hsc_a4_q3.bsp.bz2\n"
     ]
    },
    {
     "name": "stderr",
     "output_type": "stream",
     "text": [
      "100%|██████████| 44.6M/44.6M [00:05<00:00, 8.65MiB/s]\n"
     ]
    },
    {
     "name": "stdout",
     "output_type": "stream",
     "text": [
      "Downloading https://fastdlv2.gflclan.com/file/gflfastdlv2/csgo/maps/ze_huge_labo_escape_b1_3.bsp.bz2\n"
     ]
    },
    {
     "name": "stderr",
     "output_type": "stream",
     "text": [
      "100%|██████████| 26.8M/26.8M [00:03<00:00, 8.69MiB/s]\n"
     ]
    },
    {
     "name": "stdout",
     "output_type": "stream",
     "text": [
      "Downloading https://fastdlv2.gflclan.com/file/gflfastdlv2/csgo/maps/ze_huggy_wuggy_chap4_halloween_rus4.bsp.bz2\n"
     ]
    },
    {
     "name": "stderr",
     "output_type": "stream",
     "text": [
      "100%|██████████| 85.1M/85.1M [00:09<00:00, 9.25MiB/s]\n"
     ]
    },
    {
     "name": "stdout",
     "output_type": "stream",
     "text": [
      "Downloading https://fastdlv2.gflclan.com/file/gflfastdlv2/csgo/maps/ze_hydroponic_garden_v1_1.bsp.bz2\n"
     ]
    },
    {
     "name": "stderr",
     "output_type": "stream",
     "text": [
      "100%|██████████| 52.8M/52.8M [00:05<00:00, 9.28MiB/s]\n"
     ]
    },
    {
     "name": "stdout",
     "output_type": "stream",
     "text": [
      "Downloading https://fastdlv2.gflclan.com/file/gflfastdlv2/csgo/maps/ze_hypernova_p2.bsp.bz2\n"
     ]
    },
    {
     "name": "stderr",
     "output_type": "stream",
     "text": [
      "100%|██████████| 33.5M/33.5M [00:03<00:00, 8.78MiB/s]\n"
     ]
    },
    {
     "name": "stdout",
     "output_type": "stream",
     "text": [
      "Downloading https://fastdlv2.gflclan.com/file/gflfastdlv2/csgo/maps/ze_iamlegend_p3.bsp.bz2\n"
     ]
    },
    {
     "name": "stderr",
     "output_type": "stream",
     "text": [
      "100%|██████████| 28.6M/28.6M [00:03<00:00, 8.95MiB/s]\n"
     ]
    },
    {
     "name": "stdout",
     "output_type": "stream",
     "text": [
      "Downloading https://fastdlv2.gflclan.com/file/gflfastdlv2/csgo/maps/ze_icecap_escape_v5_p.bsp.bz2\n"
     ]
    },
    {
     "name": "stderr",
     "output_type": "stream",
     "text": [
      "100%|██████████| 10.8M/10.8M [00:01<00:00, 7.23MiB/s]\n"
     ]
    },
    {
     "name": "stdout",
     "output_type": "stream",
     "text": [
      "Downloading https://fastdlv2.gflclan.com/file/gflfastdlv2/csgo/maps/ze_iceland_escape_v1_2.bsp.bz2\n"
     ]
    },
    {
     "name": "stderr",
     "output_type": "stream",
     "text": [
      "100%|██████████| 16.4M/16.4M [00:02<00:00, 7.41MiB/s]\n"
     ]
    },
    {
     "name": "stdout",
     "output_type": "stream",
     "text": [
      "Downloading https://fastdlv2.gflclan.com/file/gflfastdlv2/csgo/maps/ze_illya_b4_csgo_a3.bsp.bz2\n"
     ]
    },
    {
     "name": "stderr",
     "output_type": "stream",
     "text": [
      "100%|██████████| 107M/107M [00:11<00:00, 9.31MiB/s] \n"
     ]
    },
    {
     "name": "stdout",
     "output_type": "stream",
     "text": [
      "Downloading https://fastdlv2.gflclan.com/file/gflfastdlv2/csgo/maps/ze_inboxed_final_fix.bsp.bz2\n"
     ]
    },
    {
     "name": "stderr",
     "output_type": "stream",
     "text": [
      "100%|██████████| 19.7M/19.7M [00:02<00:00, 8.78MiB/s]\n"
     ]
    },
    {
     "name": "stdout",
     "output_type": "stream",
     "text": [
      "Downloading https://fastdlv2.gflclan.com/file/gflfastdlv2/csgo/maps/ze_indiana_jones_v4a_004_p4.bsp.bz2\n"
     ]
    },
    {
     "name": "stderr",
     "output_type": "stream",
     "text": [
      "100%|██████████| 39.8M/39.8M [00:04<00:00, 9.31MiB/s]\n"
     ]
    },
    {
     "name": "stdout",
     "output_type": "stream",
     "text": [
      "Downloading https://fastdlv2.gflclan.com/file/gflfastdlv2/csgo/maps/ze_industrial_dejavu_p3.bsp.bz2\n"
     ]
    },
    {
     "name": "stderr",
     "output_type": "stream",
     "text": [
      "100%|██████████| 54.5M/54.5M [00:05<00:00, 9.37MiB/s]\n"
     ]
    },
    {
     "name": "stdout",
     "output_type": "stream",
     "text": [
      "Downloading https://fastdlv2.gflclan.com/file/gflfastdlv2/csgo/maps/ze_infected_lab_v4_1.bsp.bz2\n"
     ]
    },
    {
     "name": "stderr",
     "output_type": "stream",
     "text": [
      "100%|██████████| 33.8M/33.8M [00:03<00:00, 9.10MiB/s]\n"
     ]
    },
    {
     "name": "stdout",
     "output_type": "stream",
     "text": [
      "Downloading https://fastdlv2.gflclan.com/file/gflfastdlv2/csgo/maps/ze_infected_sewers_csgo.bsp.bz2\n"
     ]
    },
    {
     "name": "stderr",
     "output_type": "stream",
     "text": [
      "100%|██████████| 74.4M/74.4M [00:07<00:00, 9.46MiB/s]\n"
     ]
    },
    {
     "name": "stdout",
     "output_type": "stream",
     "text": [
      "Downloading https://fastdlv2.gflclan.com/file/gflfastdlv2/csgo/maps/ze_infernal_spire_p2.bsp.bz2\n"
     ]
    },
    {
     "name": "stderr",
     "output_type": "stream",
     "text": [
      "100%|██████████| 56.1M/56.1M [00:05<00:00, 9.49MiB/s]\n"
     ]
    },
    {
     "name": "stdout",
     "output_type": "stream",
     "text": [
      "Downloading https://fastdlv2.gflclan.com/file/gflfastdlv2/csgo/maps/ze_infected_tramway_csgo1.bsp.bz2\n"
     ]
    },
    {
     "name": "stderr",
     "output_type": "stream",
     "text": [
      "100%|██████████| 35.4M/35.4M [00:03<00:00, 9.13MiB/s]\n"
     ]
    },
    {
     "name": "stdout",
     "output_type": "stream",
     "text": [
      "Downloading https://fastdlv2.gflclan.com/file/gflfastdlv2/csgo/maps/ze_infested-industry_p2.bsp.bz2\n"
     ]
    },
    {
     "name": "stderr",
     "output_type": "stream",
     "text": [
      "100%|██████████| 24.4M/24.4M [00:02<00:00, 8.38MiB/s]\n"
     ]
    },
    {
     "name": "stdout",
     "output_type": "stream",
     "text": [
      "Downloading https://fastdlv2.gflclan.com/file/gflfastdlv2/csgo/maps/ze_infiltration_final_r1.bsp.bz2\n"
     ]
    },
    {
     "name": "stderr",
     "output_type": "stream",
     "text": [
      "100%|██████████| 49.0M/49.0M [00:05<00:00, 9.15MiB/s]\n"
     ]
    },
    {
     "name": "stdout",
     "output_type": "stream",
     "text": [
      "Downloading https://fastdlv2.gflclan.com/file/gflfastdlv2/csgo/maps/ze_insanitycity_va2.bsp.bz2\n"
     ]
    },
    {
     "name": "stderr",
     "output_type": "stream",
     "text": [
      "100%|██████████| 7.10M/7.10M [00:01<00:00, 6.06MiB/s]\n"
     ]
    },
    {
     "name": "stdout",
     "output_type": "stream",
     "text": [
      "Downloading https://fastdlv2.gflclan.com/file/gflfastdlv2/csgo/maps/ze_insensible_sr8gm6yj12hs7_RG_v9_6.bsp.bz2\n"
     ]
    },
    {
     "name": "stderr",
     "output_type": "stream",
     "text": [
      "100%|██████████| 75.2M/75.2M [00:08<00:00, 9.36MiB/s]\n"
     ]
    },
    {
     "name": "stdout",
     "output_type": "stream",
     "text": [
      "Downloading https://fastdlv2.gflclan.com/file/gflfastdlv2/csgo/maps/ze_interception_p2.bsp.bz2\n"
     ]
    },
    {
     "name": "stderr",
     "output_type": "stream",
     "text": [
      "100%|██████████| 34.2M/34.2M [00:03<00:00, 9.17MiB/s]\n"
     ]
    },
    {
     "name": "stdout",
     "output_type": "stream",
     "text": [
      "Downloading https://fastdlv2.gflclan.com/file/gflfastdlv2/csgo/maps/ze_ismellmagicintheair_wg7tw9vm1io1bu7_v3.bsp.bz2\n"
     ]
    },
    {
     "name": "stderr",
     "output_type": "stream",
     "text": [
      "100%|██████████| 55.4M/55.4M [00:05<00:00, 9.50MiB/s]\n"
     ]
    },
    {
     "name": "stdout",
     "output_type": "stream",
     "text": [
      "Downloading https://fastdlv2.gflclan.com/file/gflfastdlv2/csgo/maps/ze_isla_nublar_p3.bsp.bz2\n"
     ]
    },
    {
     "name": "stderr",
     "output_type": "stream",
     "text": [
      "100%|██████████| 45.5M/45.5M [00:05<00:00, 9.06MiB/s]\n"
     ]
    },
    {
     "name": "stdout",
     "output_type": "stream",
     "text": [
      "Downloading https://fastdlv2.gflclan.com/file/gflfastdlv2/csgo/maps/ze_island_escape_p3.bsp.bz2\n"
     ]
    },
    {
     "name": "stderr",
     "output_type": "stream",
     "text": [
      "100%|██████████| 11.3M/11.3M [00:01<00:00, 6.15MiB/s]\n"
     ]
    },
    {
     "name": "stdout",
     "output_type": "stream",
     "text": [
      "Downloading https://fastdlv2.gflclan.com/file/gflfastdlv2/csgo/maps/ze_italy_town_p2.bsp.bz2\n"
     ]
    },
    {
     "name": "stderr",
     "output_type": "stream",
     "text": [
      "100%|██████████| 27.6M/27.6M [00:03<00:00, 8.40MiB/s]\n"
     ]
    },
    {
     "name": "stdout",
     "output_type": "stream",
     "text": [
      "Downloading https://fastdlv2.gflclan.com/file/gflfastdlv2/csgo/maps/ze_jamais_vu_b2.bsp.bz2\n"
     ]
    },
    {
     "name": "stderr",
     "output_type": "stream",
     "text": [
      "100%|██████████| 288k/288k [00:00<00:00, 1.68MiB/s]\n"
     ]
    },
    {
     "name": "stdout",
     "output_type": "stream",
     "text": [
      "Downloading https://fastdlv2.gflclan.com/file/gflfastdlv2/csgo/maps/ze_jiangnan_town_v3.bsp.bz2\n"
     ]
    },
    {
     "name": "stderr",
     "output_type": "stream",
     "text": [
      "100%|██████████| 71.6M/71.6M [00:07<00:00, 9.39MiB/s]\n"
     ]
    },
    {
     "name": "stdout",
     "output_type": "stream",
     "text": [
      "Downloading https://fastdlv2.gflclan.com/file/gflfastdlv2/csgo/maps/ze_jiba_journey_v4_3.bsp.bz2\n"
     ]
    },
    {
     "name": "stderr",
     "output_type": "stream",
     "text": [
      "100%|██████████| 64.5M/64.5M [00:07<00:00, 9.18MiB/s]\n"
     ]
    },
    {
     "name": "stdout",
     "output_type": "stream",
     "text": [
      "Downloading https://fastdlv2.gflclan.com/file/gflfastdlv2/csgo/maps/ze_jjba_v7.bsp.bz2\n"
     ]
    },
    {
     "name": "stderr",
     "output_type": "stream",
     "text": [
      "100%|██████████| 72.3M/72.3M [00:07<00:00, 9.66MiB/s]\n"
     ]
    },
    {
     "name": "stdout",
     "output_type": "stream",
     "text": [
      "Downloading https://fastdlv2.gflclan.com/file/gflfastdlv2/csgo/maps/ze_jjomulwon_v1_1.bsp.bz2\n"
     ]
    },
    {
     "name": "stderr",
     "output_type": "stream",
     "text": [
      "100%|██████████| 36.0M/36.0M [00:04<00:00, 8.80MiB/s]\n"
     ]
    },
    {
     "name": "stdout",
     "output_type": "stream",
     "text": [
      "Downloading https://fastdlv2.gflclan.com/file/gflfastdlv2/csgo/maps/ze_johnny_nukem_go_b8_3a.bsp.bz2\n"
     ]
    },
    {
     "name": "stderr",
     "output_type": "stream",
     "text": [
      "100%|██████████| 77.5M/77.5M [00:08<00:00, 9.45MiB/s]\n"
     ]
    },
    {
     "name": "stdout",
     "output_type": "stream",
     "text": [
      "Downloading https://fastdlv2.gflclan.com/file/gflfastdlv2/csgo/maps/ze_journey_p2.bsp.bz2\n"
     ]
    },
    {
     "name": "stderr",
     "output_type": "stream",
     "text": [
      "100%|██████████| 55.6M/55.6M [00:05<00:00, 9.53MiB/s]\n"
     ]
    },
    {
     "name": "stdout",
     "output_type": "stream",
     "text": [
      "Downloading https://fastdlv2.gflclan.com/file/gflfastdlv2/csgo/maps/ze_jp_stalactite_cg9bu4mr2er7_beta4.bsp.bz2\n"
     ]
    },
    {
     "name": "stderr",
     "output_type": "stream",
     "text": [
      "100%|██████████| 57.4M/57.4M [00:06<00:00, 9.18MiB/s]\n"
     ]
    },
    {
     "name": "stdout",
     "output_type": "stream",
     "text": [
      "Downloading https://fastdlv2.gflclan.com/file/gflfastdlv2/csgo/maps/ze_jump_king_p3.bsp.bz2\n"
     ]
    },
    {
     "name": "stderr",
     "output_type": "stream",
     "text": [
      "100%|██████████| 57.5M/57.5M [00:06<00:00, 9.54MiB/s]\n"
     ]
    },
    {
     "name": "stdout",
     "output_type": "stream",
     "text": [
      "Downloading https://fastdlv2.gflclan.com/file/gflfastdlv2/csgo/maps/ze_JurassicPark_p3.bsp.bz2\n"
     ]
    },
    {
     "name": "stderr",
     "output_type": "stream",
     "text": [
      "100%|██████████| 10.5M/10.5M [00:01<00:00, 7.13MiB/s]\n"
     ]
    },
    {
     "name": "stdout",
     "output_type": "stream",
     "text": [
      "Downloading https://fastdlv2.gflclan.com/file/gflfastdlv2/csgo/maps/ze_JurassicPark_Escape_p2.bsp.bz2\n"
     ]
    },
    {
     "name": "stderr",
     "output_type": "stream",
     "text": [
      "100%|██████████| 12.3M/12.3M [00:01<00:00, 8.24MiB/s]\n"
     ]
    },
    {
     "name": "stdout",
     "output_type": "stream",
     "text": [
      "Downloading https://fastdlv2.gflclan.com/file/gflfastdlv2/csgo/maps/ze_K19_escape_go1.bsp.bz2\n"
     ]
    },
    {
     "name": "stderr",
     "output_type": "stream",
     "text": [
      "100%|██████████| 1.76M/1.76M [00:00<00:00, 3.84MiB/s]\n"
     ]
    },
    {
     "name": "stdout",
     "output_type": "stream",
     "text": [
      "Downloading https://fastdlv2.gflclan.com/file/gflfastdlv2/csgo/maps/ze_kaffe_escape_v2.bsp.bz2\n"
     ]
    },
    {
     "name": "stderr",
     "output_type": "stream",
     "text": [
      "100%|██████████| 5.67M/5.67M [00:00<00:00, 6.74MiB/s]\n"
     ]
    },
    {
     "name": "stdout",
     "output_type": "stream",
     "text": [
      "Downloading https://fastdlv2.gflclan.com/file/gflfastdlv2/csgo/maps/ze_kage_a3.bsp.bz2\n"
     ]
    },
    {
     "name": "stderr",
     "output_type": "stream",
     "text": [
      "100%|██████████| 23.7M/23.7M [00:02<00:00, 8.82MiB/s]\n"
     ]
    },
    {
     "name": "stdout",
     "output_type": "stream",
     "text": [
      "Downloading https://fastdlv2.gflclan.com/file/gflfastdlv2/csgo/maps/ze_kebab_immigrant_k.bsp.bz2\n"
     ]
    },
    {
     "name": "stderr",
     "output_type": "stream",
     "text": [
      "100%|██████████| 60.4M/60.4M [00:06<00:00, 9.50MiB/s]\n"
     ]
    },
    {
     "name": "stdout",
     "output_type": "stream",
     "text": [
      "Downloading https://fastdlv2.gflclan.com/file/gflfastdlv2/csgo/maps/ze_Kitchen_v2.bsp.bz2\n"
     ]
    },
    {
     "name": "stderr",
     "output_type": "stream",
     "text": [
      "100%|██████████| 72.9M/72.9M [00:07<00:00, 9.63MiB/s]\n"
     ]
    },
    {
     "name": "stdout",
     "output_type": "stream",
     "text": [
      "Downloading https://fastdlv2.gflclan.com/file/gflfastdlv2/csgo/maps/ze_Knife_Stray_v3.bsp.bz2\n"
     ]
    },
    {
     "name": "stderr",
     "output_type": "stream",
     "text": [
      "100%|██████████| 54.9M/54.9M [00:06<00:00, 8.96MiB/s]\n"
     ]
    },
    {
     "name": "stdout",
     "output_type": "stream",
     "text": [
      "Downloading https://fastdlv2.gflclan.com/file/gflfastdlv2/csgo/maps/ze_kororinpa_v2_2.bsp.bz2\n"
     ]
    },
    {
     "name": "stderr",
     "output_type": "stream",
     "text": [
      "100%|██████████| 13.4M/13.4M [00:01<00:00, 6.86MiB/s]\n"
     ]
    },
    {
     "name": "stdout",
     "output_type": "stream",
     "text": [
      "Downloading https://fastdlv2.gflclan.com/file/gflfastdlv2/csgo/maps/ze_kraznov_poopata_p2.bsp.bz2\n"
     ]
    },
    {
     "name": "stderr",
     "output_type": "stream",
     "text": [
      "100%|██████████| 30.9M/30.9M [00:03<00:00, 8.32MiB/s]\n"
     ]
    },
    {
     "name": "stdout",
     "output_type": "stream",
     "text": [
      "Downloading https://fastdlv2.gflclan.com/file/gflfastdlv2/csgo/maps/ze_l0v0l_v1_4_csgo2.bsp.bz2\n"
     ]
    },
    {
     "name": "stderr",
     "output_type": "stream",
     "text": [
      "100%|██████████| 96.5M/96.5M [00:10<00:00, 9.50MiB/s]\n"
     ]
    },
    {
     "name": "stdout",
     "output_type": "stream",
     "text": [
      "Downloading https://fastdlv2.gflclan.com/file/gflfastdlv2/csgo/maps/ze_labyrinth_escape_v5_sonaki.bsp.bz2\n"
     ]
    },
    {
     "name": "stderr",
     "output_type": "stream",
     "text": [
      "100%|██████████| 10.3M/10.3M [00:01<00:00, 7.96MiB/s]\n"
     ]
    },
    {
     "name": "stdout",
     "output_type": "stream",
     "text": [
      "Downloading https://fastdlv2.gflclan.com/file/gflfastdlv2/csgo/maps/ze_laserheaven_csgo2.bsp.bz2\n"
     ]
    },
    {
     "name": "stderr",
     "output_type": "stream",
     "text": [
      "100%|██████████| 91.4M/91.4M [00:09<00:00, 9.71MiB/s]\n"
     ]
    },
    {
     "name": "stdout",
     "output_type": "stream",
     "text": [
      "Downloading https://fastdlv2.gflclan.com/file/gflfastdlv2/csgo/maps/ze_Last_Man_Standing_p3.bsp.bz2\n"
     ]
    },
    {
     "name": "stderr",
     "output_type": "stream",
     "text": [
      "100%|██████████| 85.5M/85.5M [00:09<00:00, 9.16MiB/s]\n"
     ]
    },
    {
     "name": "stdout",
     "output_type": "stream",
     "text": [
      "Downloading https://fastdlv2.gflclan.com/file/gflfastdlv2/csgo/maps/ze_legoland_crackheads_p2.bsp.bz2\n"
     ]
    },
    {
     "name": "stderr",
     "output_type": "stream",
     "text": [
      "100%|██████████| 30.7M/30.7M [00:03<00:00, 7.72MiB/s]\n"
     ]
    },
    {
     "name": "stdout",
     "output_type": "stream",
     "text": [
      "Downloading https://fastdlv2.gflclan.com/file/gflfastdlv2/csgo/maps/ze_lego_m1.bsp.bz2\n"
     ]
    },
    {
     "name": "stderr",
     "output_type": "stream",
     "text": [
      "100%|██████████| 75.1M/75.1M [00:07<00:00, 9.52MiB/s]\n"
     ]
    },
    {
     "name": "stdout",
     "output_type": "stream",
     "text": [
      "Downloading https://fastdlv2.gflclan.com/file/gflfastdlv2/csgo/maps/ze_lemonysnickets_p2.bsp.bz2\n"
     ]
    },
    {
     "name": "stderr",
     "output_type": "stream",
     "text": [
      "100%|██████████| 19.1M/19.1M [00:02<00:00, 8.84MiB/s]\n"
     ]
    },
    {
     "name": "stdout",
     "output_type": "stream",
     "text": [
      "Downloading https://fastdlv2.gflclan.com/file/gflfastdlv2/csgo/maps/ze_licciana_escape_p.bsp.bz2\n"
     ]
    },
    {
     "name": "stderr",
     "output_type": "stream",
     "text": [
      "100%|██████████| 14.3M/14.3M [00:01<00:00, 8.36MiB/s]\n"
     ]
    },
    {
     "name": "stdout",
     "output_type": "stream",
     "text": [
      "Downloading https://fastdlv2.gflclan.com/file/gflfastdlv2/csgo/maps/ze_light_escape_v1_final.bsp.bz2\n"
     ]
    },
    {
     "name": "stderr",
     "output_type": "stream",
     "text": [
      "100%|██████████| 31.7M/31.7M [00:03<00:00, 9.08MiB/s]\n"
     ]
    },
    {
     "name": "stdout",
     "output_type": "stream",
     "text": [
      "Downloading https://fastdlv2.gflclan.com/file/gflfastdlv2/csgo/maps/ze_light_shadow_L1_4.bsp.bz2\n"
     ]
    },
    {
     "name": "stderr",
     "output_type": "stream",
     "text": [
      "100%|██████████| 50.9M/50.9M [00:05<00:00, 9.25MiB/s]\n"
     ]
    },
    {
     "name": "stdout",
     "output_type": "stream",
     "text": [
      "Downloading https://fastdlv2.gflclan.com/file/gflfastdlv2/csgo/maps/ze_light_v7_csgo_tk13_v5_2fix.bsp.bz2\n"
     ]
    },
    {
     "name": "stderr",
     "output_type": "stream",
     "text": [
      "100%|██████████| 9.63M/9.63M [00:01<00:00, 7.10MiB/s]\n"
     ]
    },
    {
     "name": "stdout",
     "output_type": "stream",
     "text": [
      "Downloading https://fastdlv2.gflclan.com/file/gflfastdlv2/csgo/maps/ze_Lila_Panic_Escape_tr2.bsp.bz2\n"
     ]
    },
    {
     "name": "stderr",
     "output_type": "stream",
     "text": [
      "100%|██████████| 43.3M/43.3M [00:05<00:00, 8.41MiB/s]\n"
     ]
    },
    {
     "name": "stdout",
     "output_type": "stream",
     "text": [
      "Downloading https://fastdlv2.gflclan.com/file/gflfastdlv2/csgo/maps/ze_little_trip_k1.bsp.bz2\n"
     ]
    },
    {
     "name": "stderr",
     "output_type": "stream",
     "text": [
      "100%|██████████| 37.7M/37.7M [00:04<00:00, 9.41MiB/s]\n"
     ]
    },
    {
     "name": "stdout",
     "output_type": "stream",
     "text": [
      "Downloading https://fastdlv2.gflclan.com/file/gflfastdlv2/csgo/maps/ze_lorem_ipsum_a1.bsp.bz2\n"
     ]
    },
    {
     "name": "stderr",
     "output_type": "stream",
     "text": [
      "100%|██████████| 12.5M/12.5M [00:01<00:00, 8.35MiB/s]\n"
     ]
    },
    {
     "name": "stdout",
     "output_type": "stream",
     "text": [
      "Downloading https://fastdlv2.gflclan.com/file/gflfastdlv2/csgo/maps/ze_LOTR_Helms_Deep_v5_p6.bsp.bz2\n"
     ]
    },
    {
     "name": "stderr",
     "output_type": "stream",
     "text": [
      "100%|██████████| 21.6M/21.6M [00:02<00:00, 7.96MiB/s]\n"
     ]
    },
    {
     "name": "stdout",
     "output_type": "stream",
     "text": [
      "Downloading https://fastdlv2.gflclan.com/file/gflfastdlv2/csgo/maps/ze_LOTR_Isengard_csgo1.bsp.bz2\n"
     ]
    },
    {
     "name": "stderr",
     "output_type": "stream",
     "text": [
      "100%|██████████| 81.1M/81.1M [00:08<00:00, 9.71MiB/s]\n"
     ]
    },
    {
     "name": "stdout",
     "output_type": "stream",
     "text": [
      "Downloading https://fastdlv2.gflclan.com/file/gflfastdlv2/csgo/maps/ze_LOTR_Laketown_v3_3.bsp.bz2\n"
     ]
    },
    {
     "name": "stderr",
     "output_type": "stream",
     "text": [
      "100%|██████████| 45.3M/45.3M [00:04<00:00, 9.17MiB/s]\n"
     ]
    },
    {
     "name": "stdout",
     "output_type": "stream",
     "text": [
      "Downloading https://fastdlv2.gflclan.com/file/gflfastdlv2/csgo/maps/ze_LOTR_Minas_Tiret_p2.bsp.bz2\n"
     ]
    },
    {
     "name": "stderr",
     "output_type": "stream",
     "text": [
      "100%|██████████| 24.6M/24.6M [00:02<00:00, 8.29MiB/s]\n"
     ]
    },
    {
     "name": "stdout",
     "output_type": "stream",
     "text": [
      "Downloading https://fastdlv2.gflclan.com/file/gflfastdlv2/csgo/maps/ze_LOTR_Minas_Tirith_p5.bsp.bz2\n"
     ]
    },
    {
     "name": "stderr",
     "output_type": "stream",
     "text": [
      "100%|██████████| 79.8M/79.8M [00:08<00:00, 9.68MiB/s]\n"
     ]
    },
    {
     "name": "stdout",
     "output_type": "stream",
     "text": [
      "Downloading https://fastdlv2.gflclan.com/file/gflfastdlv2/csgo/maps/ze_LOTR_Mines_of_Moria_v6_3fix_kr1.bsp.bz2\n"
     ]
    },
    {
     "name": "stderr",
     "output_type": "stream",
     "text": [
      "100%|██████████| 49.1M/49.1M [00:05<00:00, 9.51MiB/s]\n"
     ]
    },
    {
     "name": "stdout",
     "output_type": "stream",
     "text": [
      "Downloading https://fastdlv2.gflclan.com/file/gflfastdlv2/csgo/maps/ze_LOTR_Mirkwood_v2_5.bsp.bz2\n"
     ]
    },
    {
     "name": "stderr",
     "output_type": "stream",
     "text": [
      "100%|██████████| 14.2M/14.2M [00:01<00:00, 7.25MiB/s]\n"
     ]
    },
    {
     "name": "stdout",
     "output_type": "stream",
     "text": [
      "Downloading https://fastdlv2.gflclan.com/file/gflfastdlv2/csgo/maps/ze_LOTR_Mount_Doom_p3.bsp.bz2\n"
     ]
    },
    {
     "name": "stderr",
     "output_type": "stream",
     "text": [
      "100%|██████████| 33.1M/33.1M [00:03<00:00, 9.06MiB/s]\n"
     ]
    },
    {
     "name": "stdout",
     "output_type": "stream",
     "text": [
      "Downloading https://fastdlv2.gflclan.com/file/gflfastdlv2/csgo/maps/ze_luciddreams_csgo3.bsp.bz2\n"
     ]
    },
    {
     "name": "stderr",
     "output_type": "stream",
     "text": [
      "100%|██████████| 43.8M/43.8M [00:04<00:00, 9.15MiB/s]\n"
     ]
    },
    {
     "name": "stdout",
     "output_type": "stream",
     "text": [
      "Downloading https://fastdlv2.gflclan.com/file/gflfastdlv2/csgo/maps/ze_luck_matters_v3_1.bsp.bz2\n"
     ]
    },
    {
     "name": "stderr",
     "output_type": "stream",
     "text": [
      "100%|██████████| 47.4M/47.4M [00:05<00:00, 9.12MiB/s]\n"
     ]
    },
    {
     "name": "stdout",
     "output_type": "stream",
     "text": [
      "Downloading https://fastdlv2.gflclan.com/file/gflfastdlv2/csgo/maps/ze_Lucy_Escape_v1.bsp.bz2\n"
     ]
    },
    {
     "name": "stderr",
     "output_type": "stream",
     "text": [
      "100%|██████████| 69.1M/69.1M [00:07<00:00, 9.50MiB/s]\n"
     ]
    },
    {
     "name": "stdout",
     "output_type": "stream",
     "text": [
      "Downloading https://fastdlv2.gflclan.com/file/gflfastdlv2/csgo/maps/ze_LuigisMansion_p3.bsp.bz2\n"
     ]
    },
    {
     "name": "stderr",
     "output_type": "stream",
     "text": [
      "100%|██████████| 28.4M/28.4M [00:03<00:00, 8.97MiB/s]\n"
     ]
    },
    {
     "name": "stdout",
     "output_type": "stream",
     "text": [
      "Downloading https://fastdlv2.gflclan.com/file/gflfastdlv2/csgo/maps/ze_lux_umbra_v1_4.bsp.bz2\n"
     ]
    },
    {
     "name": "stderr",
     "output_type": "stream",
     "text": [
      "100%|██████████| 59.0M/59.0M [00:06<00:00, 9.31MiB/s]\n"
     ]
    },
    {
     "name": "stdout",
     "output_type": "stream",
     "text": [
      "Downloading https://fastdlv2.gflclan.com/file/gflfastdlv2/csgo/maps/ze_m0w0m_csgo1.bsp.bz2\n"
     ]
    },
    {
     "name": "stderr",
     "output_type": "stream",
     "text": [
      "100%|██████████| 97.8M/97.8M [00:10<00:00, 9.27MiB/s]\n"
     ]
    },
    {
     "name": "stdout",
     "output_type": "stream",
     "text": [
      "Downloading https://fastdlv2.gflclan.com/file/gflfastdlv2/csgo/maps/ze_mabinogi_f4_1.bsp.bz2\n"
     ]
    },
    {
     "name": "stderr",
     "output_type": "stream",
     "text": [
      "100%|██████████| 61.4M/61.4M [00:06<00:00, 9.57MiB/s]\n"
     ]
    },
    {
     "name": "stdout",
     "output_type": "stream",
     "text": [
      "Downloading https://fastdlv2.gflclan.com/file/gflfastdlv2/csgo/maps/ze_madara_temple_v1fix_csgo.bsp.bz2\n"
     ]
    },
    {
     "name": "stderr",
     "output_type": "stream",
     "text": [
      "100%|██████████| 82.3M/82.3M [00:08<00:00, 9.27MiB/s]\n"
     ]
    },
    {
     "name": "stdout",
     "output_type": "stream",
     "text": [
      "Downloading https://fastdlv2.gflclan.com/file/gflfastdlv2/csgo/maps/ze_magala_castle_final.bsp.bz2\n"
     ]
    },
    {
     "name": "stderr",
     "output_type": "stream",
     "text": [
      "100%|██████████| 33.9M/33.9M [00:03<00:00, 9.07MiB/s]\n"
     ]
    },
    {
     "name": "stdout",
     "output_type": "stream",
     "text": [
      "Downloading https://fastdlv2.gflclan.com/file/gflfastdlv2/csgo/maps/ze_magic_carpet_p2.bsp.bz2\n"
     ]
    },
    {
     "name": "stderr",
     "output_type": "stream",
     "text": [
      "100%|██████████| 5.02M/5.02M [00:00<00:00, 6.59MiB/s]\n"
     ]
    },
    {
     "name": "stdout",
     "output_type": "stream",
     "text": [
      "Downloading https://fastdlv2.gflclan.com/file/gflfastdlv2/csgo/maps/ze_magmadrake_b5.bsp.bz2\n"
     ]
    },
    {
     "name": "stderr",
     "output_type": "stream",
     "text": [
      "100%|██████████| 32.0M/32.0M [00:03<00:00, 9.27MiB/s]\n"
     ]
    },
    {
     "name": "stdout",
     "output_type": "stream",
     "text": [
      "Downloading https://fastdlv2.gflclan.com/file/gflfastdlv2/csgo/maps/ze_mapeadores_museum_v1.bsp.bz2\n"
     ]
    },
    {
     "name": "stderr",
     "output_type": "stream",
     "text": [
      "100%|██████████| 77.4M/77.4M [00:08<00:00, 9.62MiB/s]\n"
     ]
    },
    {
     "name": "stdout",
     "output_type": "stream",
     "text": [
      "Downloading https://fastdlv2.gflclan.com/file/gflfastdlv2/csgo/maps/ze_mario_tower_v4_p2.bsp.bz2\n"
     ]
    },
    {
     "name": "stderr",
     "output_type": "stream",
     "text": [
      "100%|██████████| 21.5M/21.5M [00:02<00:00, 7.89MiB/s]\n"
     ]
    },
    {
     "name": "stdout",
     "output_type": "stream",
     "text": [
      "Downloading https://fastdlv2.gflclan.com/file/gflfastdlv2/csgo/maps/ze_mars_escape_gp3.bsp.bz2\n"
     ]
    },
    {
     "name": "stderr",
     "output_type": "stream",
     "text": [
      "100%|██████████| 8.76M/8.76M [00:01<00:00, 7.75MiB/s]\n"
     ]
    },
    {
     "name": "stdout",
     "output_type": "stream",
     "text": [
      "Downloading https://fastdlv2.gflclan.com/file/gflfastdlv2/csgo/maps/ze_meatropolis_p4.bsp.bz2\n"
     ]
    },
    {
     "name": "stderr",
     "output_type": "stream",
     "text": [
      "100%|██████████| 76.4M/76.4M [00:07<00:00, 9.66MiB/s]\n"
     ]
    },
    {
     "name": "stdout",
     "output_type": "stream",
     "text": [
      "Downloading https://fastdlv2.gflclan.com/file/gflfastdlv2/csgo/maps/ze_medievil_the_graveyard_v4.bsp.bz2\n"
     ]
    },
    {
     "name": "stderr",
     "output_type": "stream",
     "text": [
      "100%|██████████| 6.37M/6.37M [00:00<00:00, 6.82MiB/s]\n"
     ]
    },
    {
     "name": "stdout",
     "output_type": "stream",
     "text": [
      "Downloading https://fastdlv2.gflclan.com/file/gflfastdlv2/csgo/maps/ze_melong_dow_learjet_gp1.bsp.bz2\n"
     ]
    },
    {
     "name": "stderr",
     "output_type": "stream",
     "text": [
      "100%|██████████| 3.38M/3.38M [00:00<00:00, 5.86MiB/s]\n"
     ]
    },
    {
     "name": "stdout",
     "output_type": "stream",
     "text": [
      "Downloading https://fastdlv2.gflclan.com/file/gflfastdlv2/csgo/maps/ze_memehell_v1_1_go.bsp.bz2\n"
     ]
    },
    {
     "name": "stderr",
     "output_type": "stream",
     "text": [
      "100%|██████████| 61.0M/61.0M [00:06<00:00, 9.65MiB/s]\n"
     ]
    },
    {
     "name": "stdout",
     "output_type": "stream",
     "text": [
      "Downloading https://fastdlv2.gflclan.com/file/gflfastdlv2/csgo/maps/ze_mgden_y3_fix.bsp.bz2\n"
     ]
    },
    {
     "name": "stderr",
     "output_type": "stream",
     "text": [
      "100%|██████████| 39.7M/39.7M [00:04<00:00, 8.73MiB/s]\n"
     ]
    },
    {
     "name": "stdout",
     "output_type": "stream",
     "text": [
      "Downloading https://fastdlv2.gflclan.com/file/gflfastdlv2/csgo/maps/ze_military_escape_p4.bsp.bz2\n"
     ]
    },
    {
     "name": "stderr",
     "output_type": "stream",
     "text": [
      "100%|██████████| 10.8M/10.8M [00:01<00:00, 6.24MiB/s]\n"
     ]
    },
    {
     "name": "stdout",
     "output_type": "stream",
     "text": [
      "Downloading https://fastdlv2.gflclan.com/file/gflfastdlv2/csgo/maps/ze_MindTree_v1_6.bsp.bz2\n"
     ]
    },
    {
     "name": "stderr",
     "output_type": "stream",
     "text": [
      "100%|██████████| 50.2M/50.2M [00:05<00:00, 9.55MiB/s]\n"
     ]
    },
    {
     "name": "stdout",
     "output_type": "stream",
     "text": [
      "Downloading https://fastdlv2.gflclan.com/file/gflfastdlv2/csgo/maps/ze_minecraft_adventure_v1_3d.bsp.bz2\n"
     ]
    },
    {
     "name": "stderr",
     "output_type": "stream",
     "text": [
      "100%|██████████| 37.5M/37.5M [00:04<00:00, 9.05MiB/s]\n"
     ]
    },
    {
     "name": "stdout",
     "output_type": "stream",
     "text": [
      "Downloading https://fastdlv2.gflclan.com/file/gflfastdlv2/csgo/maps/ze_minecraft_universe_v1_5.bsp.bz2\n"
     ]
    },
    {
     "name": "stderr",
     "output_type": "stream",
     "text": [
      "100%|██████████| 59.5M/59.5M [00:06<00:00, 9.20MiB/s]\n"
     ]
    },
    {
     "name": "stdout",
     "output_type": "stream",
     "text": [
      "Downloading https://fastdlv2.gflclan.com/file/gflfastdlv2/csgo/maps/ze_minecraft_v1_1_p3.bsp.bz2\n"
     ]
    },
    {
     "name": "stderr",
     "output_type": "stream",
     "text": [
      "100%|██████████| 13.4M/13.4M [00:01<00:00, 8.05MiB/s]\n"
     ]
    },
    {
     "name": "stdout",
     "output_type": "stream",
     "text": [
      "Downloading https://fastdlv2.gflclan.com/file/gflfastdlv2/csgo/maps/ze_minimal_csgo.bsp.bz2\n"
     ]
    },
    {
     "name": "stderr",
     "output_type": "stream",
     "text": [
      "100%|██████████| 56.4M/56.4M [00:05<00:00, 9.61MiB/s]\n"
     ]
    },
    {
     "name": "stdout",
     "output_type": "stream",
     "text": [
      "Downloading https://fastdlv2.gflclan.com/file/gflfastdlv2/csgo/maps/ze_Mirrors_Edge_Reborn_p3.bsp.bz2\n"
     ]
    },
    {
     "name": "stderr",
     "output_type": "stream",
     "text": [
      "100%|██████████| 20.3M/20.3M [00:02<00:00, 8.82MiB/s]\n"
     ]
    },
    {
     "name": "stdout",
     "output_type": "stream",
     "text": [
      "Downloading https://fastdlv2.gflclan.com/file/gflfastdlv2/csgo/maps/ze_mist_q3.bsp.bz2\n"
     ]
    },
    {
     "name": "stderr",
     "output_type": "stream",
     "text": [
      "100%|██████████| 62.8M/62.8M [00:06<00:00, 9.40MiB/s]\n"
     ]
    },
    {
     "name": "stdout",
     "output_type": "stream",
     "text": [
      "Downloading https://fastdlv2.gflclan.com/file/gflfastdlv2/csgo/maps/ze_mojos_minigames_v1_4_1.bsp.bz2\n"
     ]
    },
    {
     "name": "stderr",
     "output_type": "stream",
     "text": [
      "100%|██████████| 55.6M/55.6M [00:06<00:00, 9.14MiB/s]\n"
     ]
    },
    {
     "name": "stdout",
     "output_type": "stream",
     "text": [
      "Downloading https://fastdlv2.gflclan.com/file/gflfastdlv2/csgo/maps/ze_moltentemple_csgo1.bsp.bz2\n"
     ]
    },
    {
     "name": "stderr",
     "output_type": "stream",
     "text": [
      "100%|██████████| 92.5M/92.5M [00:09<00:00, 9.47MiB/s]\n"
     ]
    },
    {
     "name": "stdout",
     "output_type": "stream",
     "text": [
      "Downloading https://fastdlv2.gflclan.com/file/gflfastdlv2/csgo/maps/ze_monolith_p.bsp.bz2\n"
     ]
    },
    {
     "name": "stderr",
     "output_type": "stream",
     "text": [
      "100%|██████████| 68.4M/68.4M [00:07<00:00, 9.46MiB/s]\n"
     ]
    },
    {
     "name": "stdout",
     "output_type": "stream",
     "text": [
      "Downloading https://fastdlv2.gflclan.com/file/gflfastdlv2/csgo/maps/ze_moon_base_p3.bsp.bz2\n"
     ]
    },
    {
     "name": "stderr",
     "output_type": "stream",
     "text": [
      "100%|██████████| 16.5M/16.5M [00:02<00:00, 8.18MiB/s]\n"
     ]
    },
    {
     "name": "stdout",
     "output_type": "stream",
     "text": [
      "Downloading https://fastdlv2.gflclan.com/file/gflfastdlv2/csgo/maps/ze_MORELL_April_Vacation_v1.bsp.bz2\n"
     ]
    },
    {
     "name": "stderr",
     "output_type": "stream",
     "text": [
      "100%|██████████| 6.24M/6.24M [00:00<00:00, 6.49MiB/s]\n"
     ]
    },
    {
     "name": "stdout",
     "output_type": "stream",
     "text": [
      "Downloading https://fastdlv2.gflclan.com/file/gflfastdlv2/csgo/maps/ze_motanuminc_p2.bsp.bz2\n"
     ]
    },
    {
     "name": "stderr",
     "output_type": "stream",
     "text": [
      "100%|██████████| 12.3M/12.3M [00:01<00:00, 7.82MiB/s]\n"
     ]
    },
    {
     "name": "stdout",
     "output_type": "stream",
     "text": [
      "Downloading https://fastdlv2.gflclan.com/file/gflfastdlv2/csgo/maps/ze_mytex_escape_v3_p.bsp.bz2\n"
     ]
    },
    {
     "name": "stderr",
     "output_type": "stream",
     "text": [
      "100%|██████████| 19.3M/19.3M [00:02<00:00, 8.77MiB/s]\n"
     ]
    },
    {
     "name": "stdout",
     "output_type": "stream",
     "text": [
      "Downloading https://fastdlv2.gflclan.com/file/gflfastdlv2/csgo/maps/ze_naiads_v4a_6f.bsp.bz2\n"
     ]
    },
    {
     "name": "stderr",
     "output_type": "stream",
     "text": [
      "100%|██████████| 96.5M/96.5M [00:10<00:00, 9.56MiB/s]\n"
     ]
    },
    {
     "name": "stdout",
     "output_type": "stream",
     "text": [
      "Downloading https://fastdlv2.gflclan.com/file/gflfastdlv2/csgo/maps/ze_nameless_necropolis_v3.bsp.bz2\n"
     ]
    },
    {
     "name": "stderr",
     "output_type": "stream",
     "text": [
      "100%|██████████| 71.7M/71.7M [00:07<00:00, 9.72MiB/s]\n"
     ]
    },
    {
     "name": "stdout",
     "output_type": "stream",
     "text": [
      "Downloading https://fastdlv2.gflclan.com/file/gflfastdlv2/csgo/maps/ze_namviet_gf1_1.bsp.bz2\n"
     ]
    },
    {
     "name": "stderr",
     "output_type": "stream",
     "text": [
      "100%|██████████| 7.95M/7.95M [00:01<00:00, 7.18MiB/s]\n"
     ]
    },
    {
     "name": "stdout",
     "output_type": "stream",
     "text": [
      "Downloading https://fastdlv2.gflclan.com/file/gflfastdlv2/csgo/maps/ze_Naruto_p.bsp.bz2\n"
     ]
    },
    {
     "name": "stderr",
     "output_type": "stream",
     "text": [
      "100%|██████████| 62.2M/62.2M [00:06<00:00, 9.45MiB/s]\n"
     ]
    },
    {
     "name": "stdout",
     "output_type": "stream",
     "text": [
      "Downloading https://fastdlv2.gflclan.com/file/gflfastdlv2/csgo/maps/ze_Natural_v1_4.bsp.bz2\n"
     ]
    },
    {
     "name": "stderr",
     "output_type": "stream",
     "text": [
      "100%|██████████| 56.2M/56.2M [00:06<00:00, 9.31MiB/s]\n"
     ]
    },
    {
     "name": "stdout",
     "output_type": "stream",
     "text": [
      "Downloading https://fastdlv2.gflclan.com/file/gflfastdlv2/csgo/maps/ze_necromanteion_v3_1.bsp.bz2\n"
     ]
    },
    {
     "name": "stderr",
     "output_type": "stream",
     "text": [
      "100%|██████████| 60.1M/60.1M [00:06<00:00, 9.67MiB/s]\n"
     ]
    },
    {
     "name": "stdout",
     "output_type": "stream",
     "text": [
      "Downloading https://fastdlv2.gflclan.com/file/gflfastdlv2/csgo/maps/ze_negative_legacy_va2.bsp.bz2\n"
     ]
    },
    {
     "name": "stderr",
     "output_type": "stream",
     "text": [
      "100%|██████████| 24.8M/24.8M [00:03<00:00, 8.11MiB/s]\n"
     ]
    },
    {
     "name": "stdout",
     "output_type": "stream",
     "text": [
      "Downloading https://fastdlv2.gflclan.com/file/gflfastdlv2/csgo/maps/ze_neko_canyon_p3.bsp.bz2\n"
     ]
    },
    {
     "name": "stderr",
     "output_type": "stream",
     "text": [
      "100%|██████████| 25.7M/25.7M [00:03<00:00, 8.45MiB/s]\n"
     ]
    },
    {
     "name": "stdout",
     "output_type": "stream",
     "text": [
      "Downloading https://fastdlv2.gflclan.com/file/gflfastdlv2/csgo/maps/ze_neochrome_csgo3a.bsp.bz2\n"
     ]
    },
    {
     "name": "stderr",
     "output_type": "stream",
     "text": [
      "100%|██████████| 47.4M/47.4M [00:04<00:00, 9.54MiB/s]\n"
     ]
    },
    {
     "name": "stdout",
     "output_type": "stream",
     "text": [
      "Downloading https://fastdlv2.gflclan.com/file/gflfastdlv2/csgo/maps/ze_new_crazy_escape_v4_1.bsp.bz2\n"
     ]
    },
    {
     "name": "stderr",
     "output_type": "stream",
     "text": [
      "100%|██████████| 52.2M/52.2M [00:05<00:00, 9.37MiB/s]\n"
     ]
    },
    {
     "name": "stdout",
     "output_type": "stream",
     "text": [
      "Downloading https://fastdlv2.gflclan.com/file/gflfastdlv2/csgo/maps/ze_nibui_m.bsp.bz2\n"
     ]
    },
    {
     "name": "stderr",
     "output_type": "stream",
     "text": [
      "100%|██████████| 20.4M/20.4M [00:02<00:00, 9.03MiB/s]\n"
     ]
    },
    {
     "name": "stdout",
     "output_type": "stream",
     "text": [
      "Downloading https://fastdlv2.gflclan.com/file/gflfastdlv2/csgo/maps/ze_nightmares_madness_p2.bsp.bz2\n"
     ]
    },
    {
     "name": "stderr",
     "output_type": "stream",
     "text": [
      "100%|██████████| 12.3M/12.3M [00:01<00:00, 7.28MiB/s]\n"
     ]
    },
    {
     "name": "stdout",
     "output_type": "stream",
     "text": [
      "Downloading https://fastdlv2.gflclan.com/file/gflfastdlv2/csgo/maps/ze_nightmare_dimension_p3.bsp.bz2\n"
     ]
    },
    {
     "name": "stderr",
     "output_type": "stream",
     "text": [
      "100%|██████████| 72.3M/72.3M [00:07<00:00, 9.56MiB/s]\n"
     ]
    },
    {
     "name": "stdout",
     "output_type": "stream",
     "text": [
      "Downloading https://fastdlv2.gflclan.com/file/gflfastdlv2/csgo/maps/ze_no_name_v2_3.bsp.bz2\n"
     ]
    },
    {
     "name": "stderr",
     "output_type": "stream",
     "text": [
      "100%|██████████| 41.7M/41.7M [00:04<00:00, 8.85MiB/s]\n"
     ]
    },
    {
     "name": "stdout",
     "output_type": "stream",
     "text": [
      "Downloading https://fastdlv2.gflclan.com/file/gflfastdlv2/csgo/maps/ze_no_title_v2_5.bsp.bz2\n"
     ]
    },
    {
     "name": "stderr",
     "output_type": "stream",
     "text": [
      "100%|██████████| 57.4M/57.4M [00:05<00:00, 9.65MiB/s]\n"
     ]
    },
    {
     "name": "stdout",
     "output_type": "stream",
     "text": [
      "Downloading https://fastdlv2.gflclan.com/file/gflfastdlv2/csgo/maps/ze_noir_p4.bsp.bz2\n"
     ]
    },
    {
     "name": "stderr",
     "output_type": "stream",
     "text": [
      "100%|██████████| 57.0M/57.0M [00:05<00:00, 9.64MiB/s]\n"
     ]
    },
    {
     "name": "stdout",
     "output_type": "stream",
     "text": [
      "Downloading https://fastdlv2.gflclan.com/file/gflfastdlv2/csgo/maps/ze_nomada_h3.bsp.bz2\n"
     ]
    },
    {
     "name": "stderr",
     "output_type": "stream",
     "text": [
      "100%|██████████| 67.9M/67.9M [00:07<00:00, 9.60MiB/s]\n"
     ]
    },
    {
     "name": "stdout",
     "output_type": "stream",
     "text": [
      "Downloading https://fastdlv2.gflclan.com/file/gflfastdlv2/csgo/maps/ze_nora_v1_11.bsp.bz2\n"
     ]
    },
    {
     "name": "stderr",
     "output_type": "stream",
     "text": [
      "100%|██████████| 25.4M/25.4M [00:02<00:00, 9.05MiB/s]\n"
     ]
    },
    {
     "name": "stdout",
     "output_type": "stream",
     "text": [
      "Downloading https://fastdlv2.gflclan.com/file/gflfastdlv2/csgo/maps/ze_nostromo_escape_p2.bsp.bz2\n"
     ]
    },
    {
     "name": "stderr",
     "output_type": "stream",
     "text": [
      "100%|██████████| 16.7M/16.7M [00:02<00:00, 7.11MiB/s]\n"
     ]
    },
    {
     "name": "stdout",
     "output_type": "stream",
     "text": [
      "Downloading https://fastdlv2.gflclan.com/file/gflfastdlv2/csgo/maps/ze_nostromo_redux_v1_2.bsp.bz2\n"
     ]
    },
    {
     "name": "stderr",
     "output_type": "stream",
     "text": [
      "100%|██████████| 64.5M/64.5M [00:06<00:00, 9.33MiB/s]\n"
     ]
    },
    {
     "name": "stdout",
     "output_type": "stream",
     "text": [
      "Downloading https://fastdlv2.gflclan.com/file/gflfastdlv2/csgo/maps/ze_notredame_p4.bsp.bz2\n"
     ]
    },
    {
     "name": "stderr",
     "output_type": "stream",
     "text": [
      "100%|██████████| 15.2M/15.2M [00:02<00:00, 7.45MiB/s]\n"
     ]
    },
    {
     "name": "stdout",
     "output_type": "stream",
     "text": [
      "Downloading https://fastdlv2.gflclan.com/file/gflfastdlv2/csgo/maps/ze_nuke_p3.bsp.bz2\n"
     ]
    },
    {
     "name": "stderr",
     "output_type": "stream",
     "text": [
      "100%|██████████| 15.3M/15.3M [00:01<00:00, 7.99MiB/s]\n"
     ]
    },
    {
     "name": "stdout",
     "output_type": "stream",
     "text": [
      "Downloading https://fastdlv2.gflclan.com/file/gflfastdlv2/csgo/maps/ze_NY_marathon_p2.bsp.bz2\n"
     ]
    },
    {
     "name": "stderr",
     "output_type": "stream",
     "text": [
      "100%|██████████| 63.6M/63.6M [00:06<00:00, 9.30MiB/s]\n"
     ]
    },
    {
     "name": "stdout",
     "output_type": "stream",
     "text": [
      "Downloading https://fastdlv2.gflclan.com/file/gflfastdlv2/csgo/maps/ze_oblivion_castle_v6.bsp.bz2\n"
     ]
    },
    {
     "name": "stderr",
     "output_type": "stream",
     "text": [
      "100%|██████████| 85.4M/85.4M [00:09<00:00, 9.28MiB/s]\n"
     ]
    },
    {
     "name": "stdout",
     "output_type": "stream",
     "text": [
      "Downloading https://fastdlv2.gflclan.com/file/gflfastdlv2/csgo/maps/ze_ocean_base_escape_p2.bsp.bz2\n"
     ]
    },
    {
     "name": "stderr",
     "output_type": "stream",
     "text": [
      "100%|██████████| 20.9M/20.9M [00:02<00:00, 8.57MiB/s]\n"
     ]
    },
    {
     "name": "stdout",
     "output_type": "stream",
     "text": [
      "Downloading https://fastdlv2.gflclan.com/file/gflfastdlv2/csgo/maps/ze_offliner_v2_csgo1.bsp.bz2\n"
     ]
    },
    {
     "name": "stderr",
     "output_type": "stream",
     "text": [
      "100%|██████████| 37.4M/37.4M [00:04<00:00, 8.90MiB/s]\n"
     ]
    },
    {
     "name": "stdout",
     "output_type": "stream",
     "text": [
      "Downloading https://fastdlv2.gflclan.com/file/gflfastdlv2/csgo/maps/ze_omega_p3.bsp.bz2\n"
     ]
    },
    {
     "name": "stderr",
     "output_type": "stream",
     "text": [
      "100%|██████████| 16.2M/16.2M [00:02<00:00, 8.00MiB/s]\n"
     ]
    },
    {
     "name": "stdout",
     "output_type": "stream",
     "text": [
      "Downloading https://fastdlv2.gflclan.com/file/gflfastdlv2/csgo/maps/ze_omen_090.bsp.bz2\n"
     ]
    },
    {
     "name": "stderr",
     "output_type": "stream",
     "text": [
      "100%|██████████| 54.9M/54.9M [00:05<00:00, 9.43MiB/s]\n"
     ]
    },
    {
     "name": "stdout",
     "output_type": "stream",
     "text": [
      "Downloading https://fastdlv2.gflclan.com/file/gflfastdlv2/csgo/maps/ze_omochix_v3_2fix.bsp.bz2\n"
     ]
    },
    {
     "name": "stderr",
     "output_type": "stream",
     "text": [
      "100%|██████████| 47.1M/47.1M [00:05<00:00, 9.00MiB/s]\n"
     ]
    },
    {
     "name": "stdout",
     "output_type": "stream",
     "text": [
      "Downloading https://fastdlv2.gflclan.com/file/gflfastdlv2/csgo/maps/ze_omochi_b10.bsp.bz2\n"
     ]
    },
    {
     "name": "stderr",
     "output_type": "stream",
     "text": [
      "100%|██████████| 53.1M/53.1M [00:06<00:00, 7.62MiB/s]\n"
     ]
    },
    {
     "name": "stdout",
     "output_type": "stream",
     "text": [
      "Downloading https://fastdlv2.gflclan.com/file/gflfastdlv2/csgo/maps/ze_onahole_v3_3_3.bsp.bz2\n"
     ]
    },
    {
     "name": "stderr",
     "output_type": "stream",
     "text": [
      "100%|██████████| 74.8M/74.8M [00:08<00:00, 9.28MiB/s]\n"
     ]
    },
    {
     "name": "stdout",
     "output_type": "stream",
     "text": [
      "Downloading https://fastdlv2.gflclan.com/file/gflfastdlv2/csgo/maps/ze_oneiros_p.bsp.bz2\n"
     ]
    },
    {
     "name": "stderr",
     "output_type": "stream",
     "text": [
      "100%|██████████| 14.9M/14.9M [00:02<00:00, 5.68MiB/s]\n"
     ]
    },
    {
     "name": "stdout",
     "output_type": "stream",
     "text": [
      "Downloading https://fastdlv2.gflclan.com/file/gflfastdlv2/csgo/maps/ze_oot_shadowtemple_b10.bsp.bz2\n"
     ]
    },
    {
     "name": "stderr",
     "output_type": "stream",
     "text": [
      "100%|██████████| 15.6M/15.6M [00:02<00:00, 7.33MiB/s]\n"
     ]
    },
    {
     "name": "stdout",
     "output_type": "stream",
     "text": [
      "Downloading https://fastdlv2.gflclan.com/file/gflfastdlv2/csgo/maps/ze_opti_variety_missons_p3.bsp.bz2\n",
      "Error downloading https://fastdlv2.gflclan.com/file/gflfastdlv2/csgo/maps/ze_opti_variety_missons_p3.bsp.bz2\n"
     ]
    },
    {
     "name": "stderr",
     "output_type": "stream",
     "text": [
      "94.0iB [00:00, 1.82kiB/s]"
     ]
    },
    {
     "name": "stdout",
     "output_type": "stream",
     "text": [
      "Downloading https://fastdlv2.gflclan.com/file/gflfastdlv2/csgo/maps/ze_Outlast_v2_cm1_fix1.bsp.bz2\n"
     ]
    },
    {
     "name": "stderr",
     "output_type": "stream",
     "text": [
      "\n",
      "100%|██████████| 80.0M/80.0M [00:08<00:00, 9.70MiB/s]\n"
     ]
    },
    {
     "name": "stdout",
     "output_type": "stream",
     "text": [
      "Downloading https://fastdlv2.gflclan.com/file/gflfastdlv2/csgo/maps/ze_outpost_escape_k2.bsp.bz2\n"
     ]
    },
    {
     "name": "stderr",
     "output_type": "stream",
     "text": [
      "100%|██████████| 36.4M/36.4M [00:03<00:00, 9.14MiB/s]\n"
     ]
    },
    {
     "name": "stdout",
     "output_type": "stream",
     "text": [
      "Downloading https://fastdlv2.gflclan.com/file/gflfastdlv2/csgo/maps/ze_otakuroom_v5_6f3.bsp.bz2\n"
     ]
    },
    {
     "name": "stderr",
     "output_type": "stream",
     "text": [
      "100%|██████████| 55.7M/55.7M [00:05<00:00, 9.52MiB/s]\n"
     ]
    },
    {
     "name": "stdout",
     "output_type": "stream",
     "text": [
      "Downloading https://fastdlv2.gflclan.com/file/gflfastdlv2/csgo/maps/ze_palace_adventure_v1_2.bsp.bz2\n"
     ]
    },
    {
     "name": "stderr",
     "output_type": "stream",
     "text": [
      "100%|██████████| 29.5M/29.5M [00:03<00:00, 7.93MiB/s]\n"
     ]
    },
    {
     "name": "stdout",
     "output_type": "stream",
     "text": [
      "Downloading https://fastdlv2.gflclan.com/file/gflfastdlv2/csgo/maps/ze_palace_of_minolila_v1.bsp.bz2\n"
     ]
    },
    {
     "name": "stderr",
     "output_type": "stream",
     "text": [
      "100%|██████████| 90.4M/90.4M [00:09<00:00, 9.09MiB/s]\n"
     ]
    },
    {
     "name": "stdout",
     "output_type": "stream",
     "text": [
      "Downloading https://fastdlv2.gflclan.com/file/gflfastdlv2/csgo/maps/ze_pallaroid_rage_v1.bsp.bz2\n"
     ]
    },
    {
     "name": "stderr",
     "output_type": "stream",
     "text": [
      "100%|██████████| 43.8M/43.8M [00:05<00:00, 8.64MiB/s]\n"
     ]
    },
    {
     "name": "stdout",
     "output_type": "stream",
     "text": [
      "Downloading https://fastdlv2.gflclan.com/file/gflfastdlv2/csgo/maps/ze_pandora_revolutionz_hdr2.bsp.bz2\n"
     ]
    },
    {
     "name": "stderr",
     "output_type": "stream",
     "text": [
      "100%|██████████| 70.4M/70.4M [00:07<00:00, 8.85MiB/s]\n"
     ]
    },
    {
     "name": "stdout",
     "output_type": "stream",
     "text": [
      "Downloading https://fastdlv2.gflclan.com/file/gflfastdlv2/csgo/maps/ze_paper_escaper_p7.bsp.bz2\n"
     ]
    },
    {
     "name": "stderr",
     "output_type": "stream",
     "text": [
      "100%|██████████| 49.9M/49.9M [00:05<00:00, 8.72MiB/s]\n"
     ]
    },
    {
     "name": "stdout",
     "output_type": "stream",
     "text": [
      "Downloading https://fastdlv2.gflclan.com/file/gflfastdlv2/csgo/maps/ze_paranoid_rezurrection_csgo1.bsp.bz2\n"
     ]
    },
    {
     "name": "stderr",
     "output_type": "stream",
     "text": [
      "100%|██████████| 81.7M/81.7M [00:08<00:00, 9.57MiB/s]\n"
     ]
    },
    {
     "name": "stdout",
     "output_type": "stream",
     "text": [
      "Downloading https://fastdlv2.gflclan.com/file/gflfastdlv2/csgo/maps/ze_parkers_pit_p.bsp.bz2\n"
     ]
    },
    {
     "name": "stderr",
     "output_type": "stream",
     "text": [
      "100%|██████████| 55.6M/55.6M [00:05<00:00, 9.58MiB/s]\n"
     ]
    },
    {
     "name": "stdout",
     "output_type": "stream",
     "text": [
      "Downloading https://fastdlv2.gflclan.com/file/gflfastdlv2/csgo/maps/ze_Parking_p4.bsp.bz2\n"
     ]
    },
    {
     "name": "stderr",
     "output_type": "stream",
     "text": [
      "100%|██████████| 53.9M/53.9M [00:05<00:00, 9.16MiB/s]\n"
     ]
    },
    {
     "name": "stdout",
     "output_type": "stream",
     "text": [
      "Downloading https://fastdlv2.gflclan.com/file/gflfastdlv2/csgo/maps/ze_paycheck_neox.bsp.bz2\n"
     ]
    },
    {
     "name": "stderr",
     "output_type": "stream",
     "text": [
      "100%|██████████| 14.2M/14.2M [00:01<00:00, 8.02MiB/s]\n"
     ]
    },
    {
     "name": "stdout",
     "output_type": "stream",
     "text": [
      "Downloading https://fastdlv2.gflclan.com/file/gflfastdlv2/csgo/maps/ze_PC_v1_2.bsp.bz2\n"
     ]
    },
    {
     "name": "stderr",
     "output_type": "stream",
     "text": [
      "100%|██████████| 48.7M/48.7M [00:05<00:00, 9.05MiB/s]\n"
     ]
    },
    {
     "name": "stdout",
     "output_type": "stream",
     "text": [
      "Downloading https://fastdlv2.gflclan.com/file/gflfastdlv2/csgo/maps/ze_pd2_crime_art_v2.bsp.bz2\n"
     ]
    },
    {
     "name": "stderr",
     "output_type": "stream",
     "text": [
      "100%|██████████| 22.5M/22.5M [00:02<00:00, 8.58MiB/s]\n"
     ]
    },
    {
     "name": "stdout",
     "output_type": "stream",
     "text": [
      "Downloading https://fastdlv2.gflclan.com/file/gflfastdlv2/csgo/maps/ze_percocet_v5f.bsp.bz2\n"
     ]
    },
    {
     "name": "stderr",
     "output_type": "stream",
     "text": [
      "100%|██████████| 14.4M/14.4M [00:01<00:00, 8.48MiB/s]\n"
     ]
    },
    {
     "name": "stdout",
     "output_type": "stream",
     "text": [
      "Downloading https://fastdlv2.gflclan.com/file/gflfastdlv2/csgo/maps/ze_phantasy_escape_p3.bsp.bz2\n"
     ]
    },
    {
     "name": "stderr",
     "output_type": "stream",
     "text": [
      "100%|██████████| 21.7M/21.7M [00:02<00:00, 8.24MiB/s]\n"
     ]
    },
    {
     "name": "stdout",
     "output_type": "stream",
     "text": [
      "Downloading https://fastdlv2.gflclan.com/file/gflfastdlv2/csgo/maps/ze_Pidaras_va2.bsp.bz2\n"
     ]
    },
    {
     "name": "stderr",
     "output_type": "stream",
     "text": [
      "100%|██████████| 63.4M/63.4M [00:06<00:00, 9.67MiB/s]\n"
     ]
    },
    {
     "name": "stdout",
     "output_type": "stream",
     "text": [
      "Downloading https://fastdlv2.gflclan.com/file/gflfastdlv2/csgo/maps/ze_Pirates_Port_Royal_v5_6.bsp.bz2\n"
     ]
    },
    {
     "name": "stderr",
     "output_type": "stream",
     "text": [
      "100%|██████████| 63.3M/63.3M [00:06<00:00, 9.30MiB/s]\n"
     ]
    },
    {
     "name": "stdout",
     "output_type": "stream",
     "text": [
      "Downloading https://fastdlv2.gflclan.com/file/gflfastdlv2/csgo/maps/ze_pitchblack_p2.bsp.bz2\n"
     ]
    },
    {
     "name": "stderr",
     "output_type": "stream",
     "text": [
      "100%|██████████| 13.6M/13.6M [00:01<00:00, 7.76MiB/s]\n"
     ]
    },
    {
     "name": "stdout",
     "output_type": "stream",
     "text": [
      "Downloading https://fastdlv2.gflclan.com/file/gflfastdlv2/csgo/maps/ze_pizzatime_v9.bsp.bz2\n"
     ]
    },
    {
     "name": "stderr",
     "output_type": "stream",
     "text": [
      "100%|██████████| 82.4M/82.4M [00:08<00:00, 9.71MiB/s]\n"
     ]
    },
    {
     "name": "stdout",
     "output_type": "stream",
     "text": [
      "Downloading https://fastdlv2.gflclan.com/file/gflfastdlv2/csgo/maps/ze_pkmn_adventure_v7_2r_final.bsp.bz2\n"
     ]
    },
    {
     "name": "stderr",
     "output_type": "stream",
     "text": [
      "100%|██████████| 66.1M/66.1M [00:06<00:00, 9.54MiB/s]\n"
     ]
    },
    {
     "name": "stdout",
     "output_type": "stream",
     "text": [
      "Downloading https://fastdlv2.gflclan.com/file/gflfastdlv2/csgo/maps/ze_platformer_b6.bsp.bz2\n"
     ]
    },
    {
     "name": "stderr",
     "output_type": "stream",
     "text": [
      "100%|██████████| 17.9M/17.9M [00:02<00:00, 8.63MiB/s]\n"
     ]
    },
    {
     "name": "stdout",
     "output_type": "stream",
     "text": [
      "Downloading https://fastdlv2.gflclan.com/file/gflfastdlv2/csgo/maps/ze_Pokemon_Rivals_v1_8.bsp.bz2\n"
     ]
    },
    {
     "name": "stderr",
     "output_type": "stream",
     "text": [
      "100%|██████████| 52.6M/52.6M [00:05<00:00, 9.15MiB/s]\n"
     ]
    },
    {
     "name": "stdout",
     "output_type": "stream",
     "text": [
      "Downloading https://fastdlv2.gflclan.com/file/gflfastdlv2/csgo/maps/ze_pools_b1_2.bsp.bz2\n"
     ]
    },
    {
     "name": "stderr",
     "output_type": "stream",
     "text": [
      "100%|██████████| 21.6M/21.6M [00:02<00:00, 7.85MiB/s]\n"
     ]
    },
    {
     "name": "stdout",
     "output_type": "stream",
     "text": [
      "Downloading https://fastdlv2.gflclan.com/file/gflfastdlv2/csgo/maps/ze_poppy_playtime_origin_hc2.bsp.bz2\n"
     ]
    },
    {
     "name": "stderr",
     "output_type": "stream",
     "text": [
      "100%|██████████| 76.7M/76.7M [00:08<00:00, 9.44MiB/s]\n"
     ]
    },
    {
     "name": "stdout",
     "output_type": "stream",
     "text": [
      "Downloading https://fastdlv2.gflclan.com/file/gflfastdlv2/csgo/maps/ze_Portal_Story_p2.bsp.bz2\n"
     ]
    },
    {
     "name": "stderr",
     "output_type": "stream",
     "text": [
      "100%|██████████| 56.1M/56.1M [00:05<00:00, 9.55MiB/s]\n"
     ]
    },
    {
     "name": "stdout",
     "output_type": "stream",
     "text": [
      "Downloading https://fastdlv2.gflclan.com/file/gflfastdlv2/csgo/maps/ze_PoR_island_p3.bsp.bz2\n"
     ]
    },
    {
     "name": "stderr",
     "output_type": "stream",
     "text": [
      "100%|██████████| 33.3M/33.3M [00:03<00:00, 9.36MiB/s]\n"
     ]
    },
    {
     "name": "stdout",
     "output_type": "stream",
     "text": [
      "Downloading https://fastdlv2.gflclan.com/file/gflfastdlv2/csgo/maps/ze_postal_v1_1.bsp.bz2\n"
     ]
    },
    {
     "name": "stderr",
     "output_type": "stream",
     "text": [
      "100%|██████████| 38.7M/38.7M [00:04<00:00, 9.26MiB/s]\n"
     ]
    },
    {
     "name": "stdout",
     "output_type": "stream",
     "text": [
      "Downloading https://fastdlv2.gflclan.com/file/gflfastdlv2/csgo/maps/ze_potc_p4.bsp.bz2\n"
     ]
    },
    {
     "name": "stderr",
     "output_type": "stream",
     "text": [
      "100%|██████████| 33.4M/33.4M [00:03<00:00, 9.30MiB/s]\n"
     ]
    },
    {
     "name": "stdout",
     "output_type": "stream",
     "text": [
      "Downloading https://fastdlv2.gflclan.com/file/gflfastdlv2/csgo/maps/ze_PotC_IV_p3.bsp.bz2\n"
     ]
    },
    {
     "name": "stderr",
     "output_type": "stream",
     "text": [
      "100%|██████████| 32.1M/32.1M [00:03<00:00, 8.60MiB/s]\n"
     ]
    },
    {
     "name": "stdout",
     "output_type": "stream",
     "text": [
      "Downloading https://fastdlv2.gflclan.com/file/gflfastdlv2/csgo/maps/ze_predator_ultimate_p7.bsp.bz2\n"
     ]
    },
    {
     "name": "stderr",
     "output_type": "stream",
     "text": [
      "100%|██████████| 73.4M/73.4M [00:07<00:00, 9.71MiB/s]\n"
     ]
    },
    {
     "name": "stdout",
     "output_type": "stream",
     "text": [
      "Downloading https://fastdlv2.gflclan.com/file/gflfastdlv2/csgo/maps/ze_project_alcaria_x2.bsp.bz2\n"
     ]
    },
    {
     "name": "stderr",
     "output_type": "stream",
     "text": [
      "100%|██████████| 46.9M/46.9M [00:05<00:00, 9.01MiB/s]\n"
     ]
    },
    {
     "name": "stdout",
     "output_type": "stream",
     "text": [
      "Downloading https://fastdlv2.gflclan.com/file/gflfastdlv2/csgo/maps/ze_project_codex_v1_2.bsp.bz2\n"
     ]
    },
    {
     "name": "stderr",
     "output_type": "stream",
     "text": [
      "100%|██████████| 52.8M/52.8M [00:05<00:00, 9.60MiB/s]\n"
     ]
    },
    {
     "name": "stdout",
     "output_type": "stream",
     "text": [
      "Downloading https://fastdlv2.gflclan.com/file/gflfastdlv2/csgo/maps/ze_prototype_p2.bsp.bz2\n"
     ]
    },
    {
     "name": "stderr",
     "output_type": "stream",
     "text": [
      "100%|██████████| 42.9M/42.9M [00:04<00:00, 8.91MiB/s]\n"
     ]
    },
    {
     "name": "stdout",
     "output_type": "stream",
     "text": [
      "Downloading https://fastdlv2.gflclan.com/file/gflfastdlv2/csgo/maps/ze_puta_p3.bsp.bz2\n"
     ]
    },
    {
     "name": "stderr",
     "output_type": "stream",
     "text": [
      "100%|██████████| 39.5M/39.5M [00:04<00:00, 9.36MiB/s]\n"
     ]
    },
    {
     "name": "stdout",
     "output_type": "stream",
     "text": [
      "Downloading https://fastdlv2.gflclan.com/file/gflfastdlv2/csgo/maps/ze_qaz_defend_part2_ji1mm1_beta3.bsp.bz2\n"
     ]
    },
    {
     "name": "stderr",
     "output_type": "stream",
     "text": [
      "100%|██████████| 8.49M/8.49M [00:01<00:00, 7.36MiB/s]\n"
     ]
    },
    {
     "name": "stdout",
     "output_type": "stream",
     "text": [
      "Downloading https://fastdlv2.gflclan.com/file/gflfastdlv2/csgo/maps/ze_rabanastre_royal_t5.bsp.bz2\n"
     ]
    },
    {
     "name": "stderr",
     "output_type": "stream",
     "text": [
      "100%|██████████| 72.4M/72.4M [00:07<00:00, 9.47MiB/s]\n"
     ]
    },
    {
     "name": "stdout",
     "output_type": "stream",
     "text": [
      "Downloading https://fastdlv2.gflclan.com/file/gflfastdlv2/csgo/maps/ze_raccoon_facility_v6b_p.bsp.bz2\n"
     ]
    },
    {
     "name": "stderr",
     "output_type": "stream",
     "text": [
      "100%|██████████| 11.6M/11.6M [00:01<00:00, 8.00MiB/s]\n"
     ]
    },
    {
     "name": "stdout",
     "output_type": "stream",
     "text": [
      "Downloading https://fastdlv2.gflclan.com/file/gflfastdlv2/csgo/maps/ze_radio_building_v1_3.bsp.bz2\n"
     ]
    },
    {
     "name": "stderr",
     "output_type": "stream",
     "text": [
      "100%|██████████| 59.5M/59.5M [00:06<00:00, 9.61MiB/s]\n"
     ]
    },
    {
     "name": "stdout",
     "output_type": "stream",
     "text": [
      "Downloading https://fastdlv2.gflclan.com/file/gflfastdlv2/csgo/maps/ze_rainbow_factory_v2.bsp.bz2\n"
     ]
    },
    {
     "name": "stderr",
     "output_type": "stream",
     "text": [
      "100%|██████████| 22.8M/22.8M [00:02<00:00, 8.85MiB/s]\n"
     ]
    },
    {
     "name": "stdout",
     "output_type": "stream",
     "text": [
      "Downloading https://fastdlv2.gflclan.com/file/gflfastdlv2/csgo/maps/ze_ramp_a1_1.bsp.bz2\n"
     ]
    },
    {
     "name": "stderr",
     "output_type": "stream",
     "text": [
      "100%|██████████| 22.0M/22.0M [00:02<00:00, 8.25MiB/s]\n"
     ]
    },
    {
     "name": "stdout",
     "output_type": "stream",
     "text": [
      "Downloading https://fastdlv2.gflclan.com/file/gflfastdlv2/csgo/maps/ze_randomizer_c1.bsp.bz2\n"
     ]
    },
    {
     "name": "stderr",
     "output_type": "stream",
     "text": [
      "100%|██████████| 76.9M/76.9M [00:09<00:00, 8.07MiB/s]\n"
     ]
    },
    {
     "name": "stdout",
     "output_type": "stream",
     "text": [
      "Downloading https://fastdlv2.gflclan.com/file/gflfastdlv2/csgo/maps/ze_random_escape_g1.bsp.bz2\n"
     ]
    },
    {
     "name": "stderr",
     "output_type": "stream",
     "text": [
      "100%|██████████| 69.2M/69.2M [00:08<00:00, 8.03MiB/s]\n"
     ]
    },
    {
     "name": "stdout",
     "output_type": "stream",
     "text": [
      "Downloading https://fastdlv2.gflclan.com/file/gflfastdlv2/csgo/maps/ze_Random_p2.bsp.bz2\n"
     ]
    },
    {
     "name": "stderr",
     "output_type": "stream",
     "text": [
      "100%|██████████| 49.8M/49.8M [00:05<00:00, 8.35MiB/s]\n"
     ]
    },
    {
     "name": "stdout",
     "output_type": "stream",
     "text": [
      "Downloading https://fastdlv2.gflclan.com/file/gflfastdlv2/csgo/maps/ze_Ratescape_v5_4.bsp.bz2\n"
     ]
    },
    {
     "name": "stderr",
     "output_type": "stream",
     "text": [
      "100%|██████████| 82.9M/82.9M [00:11<00:00, 7.32MiB/s]\n"
     ]
    },
    {
     "name": "stdout",
     "output_type": "stream",
     "text": [
      "Downloading https://fastdlv2.gflclan.com/file/gflfastdlv2/csgo/maps/ze_rawnscape_b2_nc3.bsp.bz2\n"
     ]
    },
    {
     "name": "stderr",
     "output_type": "stream",
     "text": [
      "100%|██████████| 36.3M/36.3M [00:06<00:00, 5.29MiB/s]\n"
     ]
    },
    {
     "name": "stdout",
     "output_type": "stream",
     "text": [
      "Downloading https://fastdlv2.gflclan.com/file/gflfastdlv2/csgo/maps/ze_realm_f3.bsp.bz2\n"
     ]
    },
    {
     "name": "stderr",
     "output_type": "stream",
     "text": [
      "100%|██████████| 29.4M/29.4M [00:03<00:00, 8.04MiB/s]\n"
     ]
    },
    {
     "name": "stdout",
     "output_type": "stream",
     "text": [
      "Downloading https://fastdlv2.gflclan.com/file/gflfastdlv2/csgo/maps/ze_reconnoiter_b5.bsp.bz2\n"
     ]
    },
    {
     "name": "stderr",
     "output_type": "stream",
     "text": [
      "100%|██████████| 32.2M/32.2M [00:04<00:00, 7.54MiB/s]\n"
     ]
    },
    {
     "name": "stdout",
     "output_type": "stream",
     "text": [
      "Downloading https://fastdlv2.gflclan.com/file/gflfastdlv2/csgo/maps/ze_resonance_cascade_p3.bsp.bz2\n"
     ]
    },
    {
     "name": "stderr",
     "output_type": "stream",
     "text": [
      "100%|██████████| 31.6M/31.6M [00:04<00:00, 7.76MiB/s]\n"
     ]
    },
    {
     "name": "stdout",
     "output_type": "stream",
     "text": [
      "Downloading https://fastdlv2.gflclan.com/file/gflfastdlv2/csgo/maps/ze_retribution_pf.bsp.bz2\n"
     ]
    },
    {
     "name": "stderr",
     "output_type": "stream",
     "text": [
      "100%|██████████| 32.0M/32.0M [00:04<00:00, 7.61MiB/s]\n"
     ]
    },
    {
     "name": "stdout",
     "output_type": "stream",
     "text": [
      "Downloading https://fastdlv2.gflclan.com/file/gflfastdlv2/csgo/maps/ze_retro_cow_v1_1.bsp.bz2\n"
     ]
    },
    {
     "name": "stderr",
     "output_type": "stream",
     "text": [
      "100%|██████████| 54.3M/54.3M [00:05<00:00, 9.56MiB/s]\n"
     ]
    },
    {
     "name": "stdout",
     "output_type": "stream",
     "text": [
      "Downloading https://fastdlv2.gflclan.com/file/gflfastdlv2/csgo/maps/ze_rev_a6_3.bsp.bz2\n"
     ]
    },
    {
     "name": "stderr",
     "output_type": "stream",
     "text": [
      "100%|██████████| 22.3M/22.3M [00:02<00:00, 8.08MiB/s]\n"
     ]
    },
    {
     "name": "stdout",
     "output_type": "stream",
     "text": [
      "Downloading https://fastdlv2.gflclan.com/file/gflfastdlv2/csgo/maps/ze_rizomata_va2.bsp.bz2\n"
     ]
    },
    {
     "name": "stderr",
     "output_type": "stream",
     "text": [
      "100%|██████████| 85.2M/85.2M [00:10<00:00, 8.20MiB/s]\n"
     ]
    },
    {
     "name": "stdout",
     "output_type": "stream",
     "text": [
      "Downloading https://fastdlv2.gflclan.com/file/gflfastdlv2/csgo/maps/ze_rockescape_go2_1.bsp.bz2\n"
     ]
    },
    {
     "name": "stderr",
     "output_type": "stream",
     "text": [
      "100%|██████████| 5.92M/5.92M [00:00<00:00, 6.47MiB/s]\n"
     ]
    },
    {
     "name": "stdout",
     "output_type": "stream",
     "text": [
      "Downloading https://fastdlv2.gflclan.com/file/gflfastdlv2/csgo/maps/ze_rocket_escape_g1.bsp.bz2\n"
     ]
    },
    {
     "name": "stderr",
     "output_type": "stream",
     "text": [
      "100%|██████████| 12.5M/12.5M [00:01<00:00, 6.75MiB/s]\n"
     ]
    },
    {
     "name": "stdout",
     "output_type": "stream",
     "text": [
      "Downloading https://fastdlv2.gflclan.com/file/gflfastdlv2/csgo/maps/ze_rollermine_factory_2010_p.bsp.bz2\n"
     ]
    },
    {
     "name": "stderr",
     "output_type": "stream",
     "text": [
      "100%|██████████| 11.7M/11.7M [00:01<00:00, 7.90MiB/s]\n"
     ]
    },
    {
     "name": "stdout",
     "output_type": "stream",
     "text": [
      "Downloading https://fastdlv2.gflclan.com/file/gflfastdlv2/csgo/maps/ze_roof_adventure_v8f.bsp.bz2\n"
     ]
    },
    {
     "name": "stderr",
     "output_type": "stream",
     "text": [
      "100%|██████████| 57.8M/57.8M [00:06<00:00, 9.27MiB/s]\n"
     ]
    },
    {
     "name": "stdout",
     "output_type": "stream",
     "text": [
      "Downloading https://fastdlv2.gflclan.com/file/gflfastdlv2/csgo/maps/ze_Rooftop_Runaway1_p.bsp.bz2\n"
     ]
    },
    {
     "name": "stderr",
     "output_type": "stream",
     "text": [
      "100%|██████████| 5.81M/5.81M [00:01<00:00, 5.43MiB/s]\n"
     ]
    },
    {
     "name": "stdout",
     "output_type": "stream",
     "text": [
      "Downloading https://fastdlv2.gflclan.com/file/gflfastdlv2/csgo/maps/ze_rooftop_runaway2_p.bsp.bz2\n"
     ]
    },
    {
     "name": "stderr",
     "output_type": "stream",
     "text": [
      "100%|██████████| 7.44M/7.44M [00:01<00:00, 7.16MiB/s]\n"
     ]
    },
    {
     "name": "stdout",
     "output_type": "stream",
     "text": [
      "Downloading https://fastdlv2.gflclan.com/file/gflfastdlv2/csgo/maps/ze_RTCW_Ominous_Rumors_p4.bsp.bz2\n"
     ]
    },
    {
     "name": "stderr",
     "output_type": "stream",
     "text": [
      "100%|██████████| 49.7M/49.7M [00:05<00:00, 9.17MiB/s]\n"
     ]
    },
    {
     "name": "stdout",
     "output_type": "stream",
     "text": [
      "Downloading https://fastdlv2.gflclan.com/file/gflfastdlv2/csgo/maps/ze_rtv_one_more.bsp.bz2\n"
     ]
    },
    {
     "name": "stderr",
     "output_type": "stream",
     "text": [
      "100%|██████████| 15.5M/15.5M [00:02<00:00, 6.80MiB/s]\n"
     ]
    },
    {
     "name": "stdout",
     "output_type": "stream",
     "text": [
      "Downloading https://fastdlv2.gflclan.com/file/gflfastdlv2/csgo/maps/ze_ruin_of_black_stone_v2.bsp.bz2\n"
     ]
    },
    {
     "name": "stderr",
     "output_type": "stream",
     "text": [
      "100%|██████████| 81.4M/81.4M [00:08<00:00, 9.62MiB/s]\n"
     ]
    },
    {
     "name": "stdout",
     "output_type": "stream",
     "text": [
      "Downloading https://fastdlv2.gflclan.com/file/gflfastdlv2/csgo/maps/ze_runaway_roofside1_k1.bsp.bz2\n"
     ]
    },
    {
     "name": "stderr",
     "output_type": "stream",
     "text": [
      "100%|██████████| 24.7M/24.7M [00:02<00:00, 8.80MiB/s]\n"
     ]
    },
    {
     "name": "stdout",
     "output_type": "stream",
     "text": [
      "Downloading https://fastdlv2.gflclan.com/file/gflfastdlv2/csgo/maps/ze_rush_B_v2_2.bsp.bz2\n"
     ]
    },
    {
     "name": "stderr",
     "output_type": "stream",
     "text": [
      "100%|██████████| 49.8M/49.8M [00:05<00:00, 9.41MiB/s]\n"
     ]
    },
    {
     "name": "stdout",
     "output_type": "stream",
     "text": [
      "Downloading https://fastdlv2.gflclan.com/file/gflfastdlv2/csgo/maps/ze_S_A_M_v1_7.bsp.bz2\n"
     ]
    },
    {
     "name": "stderr",
     "output_type": "stream",
     "text": [
      "100%|██████████| 84.8M/84.8M [00:08<00:00, 9.61MiB/s]\n"
     ]
    },
    {
     "name": "stdout",
     "output_type": "stream",
     "text": [
      "Downloading https://fastdlv2.gflclan.com/file/gflfastdlv2/csgo/maps/ze_sakuzyo_b2.bsp.bz2\n"
     ]
    },
    {
     "name": "stderr",
     "output_type": "stream",
     "text": [
      "100%|██████████| 79.1M/79.1M [00:09<00:00, 8.09MiB/s]\n"
     ]
    },
    {
     "name": "stdout",
     "output_type": "stream",
     "text": [
      "Downloading https://fastdlv2.gflclan.com/file/gflfastdlv2/csgo/maps/ze_sam_hd_v1_fix.bsp.bz2\n"
     ]
    },
    {
     "name": "stderr",
     "output_type": "stream",
     "text": [
      "100%|██████████| 53.1M/53.1M [00:05<00:00, 8.98MiB/s]\n"
     ]
    },
    {
     "name": "stdout",
     "output_type": "stream",
     "text": [
      "Downloading https://fastdlv2.gflclan.com/file/gflfastdlv2/csgo/maps/ze_SANCTUARY_v1_2.bsp.bz2\n"
     ]
    },
    {
     "name": "stderr",
     "output_type": "stream",
     "text": [
      "100%|██████████| 77.2M/77.2M [00:08<00:00, 9.53MiB/s]\n"
     ]
    },
    {
     "name": "stdout",
     "output_type": "stream",
     "text": [
      "Downloading https://fastdlv2.gflclan.com/file/gflfastdlv2/csgo/maps/ze_sandstorm_go_v1_5x3.bsp.bz2\n"
     ]
    },
    {
     "name": "stderr",
     "output_type": "stream",
     "text": [
      "100%|██████████| 85.3M/85.3M [00:09<00:00, 9.13MiB/s]\n"
     ]
    },
    {
     "name": "stdout",
     "output_type": "stream",
     "text": [
      "Downloading https://fastdlv2.gflclan.com/file/gflfastdlv2/csgo/maps/ze_santassination_v3.bsp.bz2\n"
     ]
    },
    {
     "name": "stderr",
     "output_type": "stream",
     "text": [
      "100%|██████████| 84.0M/84.0M [00:08<00:00, 9.53MiB/s]\n"
     ]
    },
    {
     "name": "stdout",
     "output_type": "stream",
     "text": [
      "Downloading https://fastdlv2.gflclan.com/file/gflfastdlv2/csgo/maps/ze_saw_p3.bsp.bz2\n"
     ]
    },
    {
     "name": "stderr",
     "output_type": "stream",
     "text": [
      "100%|██████████| 21.8M/21.8M [00:02<00:00, 8.26MiB/s]\n"
     ]
    },
    {
     "name": "stdout",
     "output_type": "stream",
     "text": [
      "Downloading https://fastdlv2.gflclan.com/file/gflfastdlv2/csgo/maps/ze_schizophrenic_c3.bsp.bz2\n"
     ]
    },
    {
     "name": "stderr",
     "output_type": "stream",
     "text": [
      "100%|██████████| 80.7M/80.7M [00:08<00:00, 9.41MiB/s]\n"
     ]
    },
    {
     "name": "stdout",
     "output_type": "stream",
     "text": [
      "Downloading https://fastdlv2.gflclan.com/file/gflfastdlv2/csgo/maps/ze_scourge_k1.bsp.bz2\n"
     ]
    },
    {
     "name": "stderr",
     "output_type": "stream",
     "text": [
      "100%|██████████| 89.1M/89.1M [00:09<00:00, 9.61MiB/s]\n"
     ]
    },
    {
     "name": "stdout",
     "output_type": "stream",
     "text": [
      "Downloading https://fastdlv2.gflclan.com/file/gflfastdlv2/csgo/maps/ze_sc_turtles_v5_p3.bsp.bz2\n"
     ]
    },
    {
     "name": "stderr",
     "output_type": "stream",
     "text": [
      "100%|██████████| 5.59M/5.59M [00:00<00:00, 5.62MiB/s]\n"
     ]
    },
    {
     "name": "stdout",
     "output_type": "stream",
     "text": [
      "Downloading https://fastdlv2.gflclan.com/file/gflfastdlv2/csgo/maps/ze_serious_sam_tfe_v2_6.bsp.bz2\n"
     ]
    },
    {
     "name": "stderr",
     "output_type": "stream",
     "text": [
      "100%|██████████| 68.4M/68.4M [00:07<00:00, 9.53MiB/s]\n"
     ]
    },
    {
     "name": "stdout",
     "output_type": "stream",
     "text": [
      "Downloading https://fastdlv2.gflclan.com/file/gflfastdlv2/csgo/maps/ze_Serpentis_Temple_p2.bsp.bz2\n"
     ]
    },
    {
     "name": "stderr",
     "output_type": "stream",
     "text": [
      "100%|██████████| 69.8M/69.8M [00:07<00:00, 8.80MiB/s]\n"
     ]
    },
    {
     "name": "stdout",
     "output_type": "stream",
     "text": [
      "Downloading https://fastdlv2.gflclan.com/file/gflfastdlv2/csgo/maps/ze_sewage_processing_v8.bsp.bz2\n"
     ]
    },
    {
     "name": "stderr",
     "output_type": "stream",
     "text": [
      "100%|██████████| 16.8M/16.8M [00:01<00:00, 8.42MiB/s]\n"
     ]
    },
    {
     "name": "stdout",
     "output_type": "stream",
     "text": [
      "Downloading https://fastdlv2.gflclan.com/file/gflfastdlv2/csgo/maps/ze_sewer_escape_p3.bsp.bz2\n"
     ]
    },
    {
     "name": "stderr",
     "output_type": "stream",
     "text": [
      "100%|██████████| 24.7M/24.7M [00:02<00:00, 9.06MiB/s]\n"
     ]
    },
    {
     "name": "stdout",
     "output_type": "stream",
     "text": [
      "Downloading https://fastdlv2.gflclan.com/file/gflfastdlv2/csgo/maps/ze_sex_mod_hentai_beachescape_camper.bsp.bz2\n"
     ]
    },
    {
     "name": "stderr",
     "output_type": "stream",
     "text": [
      "100%|██████████| 24.9M/24.9M [00:02<00:00, 8.56MiB/s]\n"
     ]
    },
    {
     "name": "stdout",
     "output_type": "stream",
     "text": [
      "Downloading https://fastdlv2.gflclan.com/file/gflfastdlv2/csgo/maps/ze_sg1_missions_v2_1_p2.bsp.bz2\n"
     ]
    },
    {
     "name": "stderr",
     "output_type": "stream",
     "text": [
      "100%|██████████| 37.0M/37.0M [00:03<00:00, 9.30MiB/s]\n"
     ]
    },
    {
     "name": "stdout",
     "output_type": "stream",
     "text": [
      "Downloading https://fastdlv2.gflclan.com/file/gflfastdlv2/csgo/maps/ze_shaun_of_the_dead_p.bsp.bz2\n"
     ]
    },
    {
     "name": "stderr",
     "output_type": "stream",
     "text": [
      "100%|██████████| 32.2M/32.2M [00:03<00:00, 9.23MiB/s]\n"
     ]
    },
    {
     "name": "stdout",
     "output_type": "stream",
     "text": [
      "Downloading https://fastdlv2.gflclan.com/file/gflfastdlv2/csgo/maps/ze_showdown_v4_1_p.bsp.bz2\n"
     ]
    },
    {
     "name": "stderr",
     "output_type": "stream",
     "text": [
      "100%|██████████| 12.3M/12.3M [00:01<00:00, 6.81MiB/s]\n"
     ]
    },
    {
     "name": "stdout",
     "output_type": "stream",
     "text": [
      "Downloading https://fastdlv2.gflclan.com/file/gflfastdlv2/csgo/maps/ze_shrine_of_umos_b3.bsp.bz2\n"
     ]
    },
    {
     "name": "stderr",
     "output_type": "stream",
     "text": [
      "100%|██████████| 22.3M/22.3M [00:02<00:00, 7.46MiB/s]\n"
     ]
    },
    {
     "name": "stdout",
     "output_type": "stream",
     "text": [
      "Downloading https://fastdlv2.gflclan.com/file/gflfastdlv2/csgo/maps/ze_shroomforest_p6.bsp.bz2\n"
     ]
    },
    {
     "name": "stderr",
     "output_type": "stream",
     "text": [
      "100%|██████████| 58.2M/58.2M [00:06<00:00, 9.04MiB/s]\n"
     ]
    },
    {
     "name": "stdout",
     "output_type": "stream",
     "text": [
      "Downloading https://fastdlv2.gflclan.com/file/gflfastdlv2/csgo/maps/ze_shroomforest2_p6.bsp.bz2\n"
     ]
    },
    {
     "name": "stderr",
     "output_type": "stream",
     "text": [
      "100%|██████████| 65.7M/65.7M [00:06<00:00, 9.61MiB/s]\n"
     ]
    },
    {
     "name": "stdout",
     "output_type": "stream",
     "text": [
      "Downloading https://fastdlv2.gflclan.com/file/gflfastdlv2/csgo/maps/ze_ShroomForest3_p.bsp.bz2\n"
     ]
    },
    {
     "name": "stderr",
     "output_type": "stream",
     "text": [
      "100%|██████████| 74.5M/74.5M [00:07<00:00, 9.52MiB/s]\n"
     ]
    },
    {
     "name": "stdout",
     "output_type": "stream",
     "text": [
      "Downloading https://fastdlv2.gflclan.com/file/gflfastdlv2/csgo/maps/ze_siberia_1990_v1_2c_p5.bsp.bz2\n"
     ]
    },
    {
     "name": "stderr",
     "output_type": "stream",
     "text": [
      "100%|██████████| 27.1M/27.1M [00:02<00:00, 9.04MiB/s]\n"
     ]
    },
    {
     "name": "stdout",
     "output_type": "stream",
     "text": [
      "Downloading https://fastdlv2.gflclan.com/file/gflfastdlv2/csgo/maps/ze_silent_hill_blackblood_f6.bsp.bz2\n"
     ]
    },
    {
     "name": "stderr",
     "output_type": "stream",
     "text": [
      "100%|██████████| 66.0M/66.0M [00:06<00:00, 9.48MiB/s]\n"
     ]
    },
    {
     "name": "stdout",
     "output_type": "stream",
     "text": [
      "Downloading https://fastdlv2.gflclan.com/file/gflfastdlv2/csgo/maps/ze_silent_hill_2_illusion_b5.bsp.bz2\n"
     ]
    },
    {
     "name": "stderr",
     "output_type": "stream",
     "text": [
      "100%|██████████| 76.6M/76.6M [00:07<00:00, 9.63MiB/s]\n"
     ]
    },
    {
     "name": "stdout",
     "output_type": "stream",
     "text": [
      "Downloading https://fastdlv2.gflclan.com/file/gflfastdlv2/csgo/maps/ze_silent_hill_3_dawn_v2.bsp.bz2\n"
     ]
    },
    {
     "name": "stderr",
     "output_type": "stream",
     "text": [
      "100%|██████████| 83.2M/83.2M [00:09<00:00, 9.23MiB/s]\n"
     ]
    },
    {
     "name": "stdout",
     "output_type": "stream",
     "text": [
      "Downloading https://fastdlv2.gflclan.com/file/gflfastdlv2/csgo/maps/ze_silent_hill_3_flee_v4.bsp.bz2\n"
     ]
    },
    {
     "name": "stderr",
     "output_type": "stream",
     "text": [
      "100%|██████████| 73.9M/73.9M [00:08<00:00, 9.11MiB/s]\n"
     ]
    },
    {
     "name": "stdout",
     "output_type": "stream",
     "text": [
      "Downloading https://fastdlv2.gflclan.com/file/gflfastdlv2/csgo/maps/ze_sisyphus_v1.bsp.bz2\n"
     ]
    },
    {
     "name": "stderr",
     "output_type": "stream",
     "text": [
      "100%|██████████| 96.0M/96.0M [00:10<00:00, 9.40MiB/s]\n"
     ]
    },
    {
     "name": "stdout",
     "output_type": "stream",
     "text": [
      "Downloading https://fastdlv2.gflclan.com/file/gflfastdlv2/csgo/maps/ze_skill_escape_v09.bsp.bz2\n"
     ]
    },
    {
     "name": "stderr",
     "output_type": "stream",
     "text": [
      "100%|██████████| 30.2M/30.2M [00:03<00:00, 9.14MiB/s]\n"
     ]
    },
    {
     "name": "stdout",
     "output_type": "stream",
     "text": [
      "Downloading https://fastdlv2.gflclan.com/file/gflfastdlv2/csgo/maps/ze_skygarden_v2_3.bsp.bz2\n"
     ]
    },
    {
     "name": "stderr",
     "output_type": "stream",
     "text": [
      "100%|██████████| 74.9M/74.9M [00:07<00:00, 9.42MiB/s]\n"
     ]
    },
    {
     "name": "stdout",
     "output_type": "stream",
     "text": [
      "Downloading https://fastdlv2.gflclan.com/file/gflfastdlv2/csgo/maps/ze_Skyscraper_city_r2.bsp.bz2\n"
     ]
    },
    {
     "name": "stderr",
     "output_type": "stream",
     "text": [
      "100%|██████████| 17.9M/17.9M [00:02<00:00, 8.04MiB/s]\n"
     ]
    },
    {
     "name": "stdout",
     "output_type": "stream",
     "text": [
      "Downloading https://fastdlv2.gflclan.com/file/gflfastdlv2/csgo/maps/ze_slackerino_mapperino_v4.bsp.bz2\n"
     ]
    },
    {
     "name": "stderr",
     "output_type": "stream",
     "text": [
      "100%|██████████| 72.8M/72.8M [00:07<00:00, 9.58MiB/s]\n"
     ]
    },
    {
     "name": "stdout",
     "output_type": "stream",
     "text": [
      "Downloading https://fastdlv2.gflclan.com/file/gflfastdlv2/csgo/maps/ze_slender_escape_rc2.bsp.bz2\n"
     ]
    },
    {
     "name": "stderr",
     "output_type": "stream",
     "text": [
      "100%|██████████| 71.0M/71.0M [00:07<00:00, 9.21MiB/s]\n"
     ]
    },
    {
     "name": "stdout",
     "output_type": "stream",
     "text": [
      "Downloading https://fastdlv2.gflclan.com/file/gflfastdlv2/csgo/maps/ze_snowescape_gp1.bsp.bz2\n"
     ]
    },
    {
     "name": "stderr",
     "output_type": "stream",
     "text": [
      "100%|██████████| 6.12M/6.12M [00:00<00:00, 6.98MiB/s]\n"
     ]
    },
    {
     "name": "stdout",
     "output_type": "stream",
     "text": [
      "Downloading https://fastdlv2.gflclan.com/file/gflfastdlv2/csgo/maps/ze_solgryn_v2.bsp.bz2\n"
     ]
    },
    {
     "name": "stderr",
     "output_type": "stream",
     "text": [
      "100%|██████████| 53.1M/53.1M [00:06<00:00, 8.67MiB/s]\n"
     ]
    },
    {
     "name": "stdout",
     "output_type": "stream",
     "text": [
      "Downloading https://fastdlv2.gflclan.com/file/gflfastdlv2/csgo/maps/ze_sorrento_escape_v2.bsp.bz2\n"
     ]
    },
    {
     "name": "stderr",
     "output_type": "stream",
     "text": [
      "100%|██████████| 49.6M/49.6M [00:05<00:00, 9.46MiB/s]\n"
     ]
    },
    {
     "name": "stdout",
     "output_type": "stream",
     "text": [
      "Downloading https://fastdlv2.gflclan.com/file/gflfastdlv2/csgo/maps/ze_space_flight_p3.bsp.bz2\n"
     ]
    },
    {
     "name": "stderr",
     "output_type": "stream",
     "text": [
      "100%|██████████| 35.0M/35.0M [00:04<00:00, 8.54MiB/s]\n"
     ]
    },
    {
     "name": "stdout",
     "output_type": "stream",
     "text": [
      "Downloading https://fastdlv2.gflclan.com/file/gflfastdlv2/csgo/maps/ze_squid_game_v1.bsp.bz2\n"
     ]
    },
    {
     "name": "stderr",
     "output_type": "stream",
     "text": [
      "100%|██████████| 62.3M/62.3M [00:06<00:00, 9.15MiB/s]\n"
     ]
    },
    {
     "name": "stdout",
     "output_type": "stream",
     "text": [
      "Downloading https://fastdlv2.gflclan.com/file/gflfastdlv2/csgo/maps/ze_sst_b2_1_p5.bsp.bz2\n"
     ]
    },
    {
     "name": "stderr",
     "output_type": "stream",
     "text": [
      "100%|██████████| 8.99M/8.99M [00:01<00:00, 5.99MiB/s]\n"
     ]
    },
    {
     "name": "stdout",
     "output_type": "stream",
     "text": [
      "Downloading https://fastdlv2.gflclan.com/file/gflfastdlv2/csgo/maps/ze_sst2_p.bsp.bz2\n"
     ]
    },
    {
     "name": "stderr",
     "output_type": "stream",
     "text": [
      "100%|██████████| 16.2M/16.2M [00:01<00:00, 8.35MiB/s]\n"
     ]
    },
    {
     "name": "stdout",
     "output_type": "stream",
     "text": [
      "Downloading https://fastdlv2.gflclan.com/file/gflfastdlv2/csgo/maps/ze_stalker_ultimate_v4_9.bsp.bz2\n"
     ]
    },
    {
     "name": "stderr",
     "output_type": "stream",
     "text": [
      "100%|██████████| 67.1M/67.1M [00:07<00:00, 9.26MiB/s]\n"
     ]
    },
    {
     "name": "stdout",
     "output_type": "stream",
     "text": [
      "Downloading https://fastdlv2.gflclan.com/file/gflfastdlv2/csgo/maps/ze_stalkermonolit_v8gofix1.bsp.bz2\n"
     ]
    },
    {
     "name": "stderr",
     "output_type": "stream",
     "text": [
      "100%|██████████| 96.5M/96.5M [00:10<00:00, 9.47MiB/s]\n"
     ]
    },
    {
     "name": "stdout",
     "output_type": "stream",
     "text": [
      "Downloading https://fastdlv2.gflclan.com/file/gflfastdlv2/csgo/maps/ze_star_wars_prequel_f1.bsp.bz2\n"
     ]
    },
    {
     "name": "stderr",
     "output_type": "stream",
     "text": [
      "100%|██████████| 63.0M/63.0M [00:06<00:00, 9.49MiB/s]\n"
     ]
    },
    {
     "name": "stdout",
     "output_type": "stream",
     "text": [
      "Downloading https://fastdlv2.gflclan.com/file/gflfastdlv2/csgo/maps/ze_stargate_escape_v8_p2.bsp.bz2\n"
     ]
    },
    {
     "name": "stderr",
     "output_type": "stream",
     "text": [
      "100%|██████████| 25.6M/25.6M [00:02<00:00, 9.14MiB/s]\n"
     ]
    },
    {
     "name": "stdout",
     "output_type": "stream",
     "text": [
      "Downloading https://fastdlv2.gflclan.com/file/gflfastdlv2/csgo/maps/ze_stilshrine_of_miriam_v7_2fix.bsp.bz2\n"
     ]
    },
    {
     "name": "stderr",
     "output_type": "stream",
     "text": [
      "100%|██████████| 67.8M/67.8M [00:07<00:00, 9.36MiB/s]\n"
     ]
    },
    {
     "name": "stdout",
     "output_type": "stream",
     "text": [
      "Downloading https://fastdlv2.gflclan.com/file/gflfastdlv2/csgo/maps/ze_STRANGE_escape_p2.bsp.bz2\n"
     ]
    },
    {
     "name": "stderr",
     "output_type": "stream",
     "text": [
      "100%|██████████| 49.1M/49.1M [00:05<00:00, 9.50MiB/s]\n"
     ]
    },
    {
     "name": "stdout",
     "output_type": "stream",
     "text": [
      "Downloading https://fastdlv2.gflclan.com/file/gflfastdlv2/csgo/maps/ze_SUMAI_facility_v1a.bsp.bz2\n"
     ]
    },
    {
     "name": "stderr",
     "output_type": "stream",
     "text": [
      "100%|██████████| 41.7M/41.7M [00:04<00:00, 9.07MiB/s]\n"
     ]
    },
    {
     "name": "stdout",
     "output_type": "stream",
     "text": [
      "Downloading https://fastdlv2.gflclan.com/file/gflfastdlv2/csgo/maps/ze_sunkentemple_v3_1.bsp.bz2\n"
     ]
    },
    {
     "name": "stderr",
     "output_type": "stream",
     "text": [
      "100%|██████████| 27.4M/27.4M [00:03<00:00, 8.51MiB/s]\n"
     ]
    },
    {
     "name": "stdout",
     "output_type": "stream",
     "text": [
      "Downloading https://fastdlv2.gflclan.com/file/gflfastdlv2/csgo/maps/ze_sunlight_p2.bsp.bz2\n"
     ]
    },
    {
     "name": "stderr",
     "output_type": "stream",
     "text": [
      "100%|██████████| 49.6M/49.6M [00:05<00:00, 9.56MiB/s]\n"
     ]
    },
    {
     "name": "stdout",
     "output_type": "stream",
     "text": [
      "Downloading https://fastdlv2.gflclan.com/file/gflfastdlv2/csgo/maps/ze_SUPERSHITSHOW_a2.bsp.bz2\n"
     ]
    },
    {
     "name": "stderr",
     "output_type": "stream",
     "text": [
      "100%|██████████| 50.3M/50.3M [00:05<00:00, 8.99MiB/s]\n"
     ]
    },
    {
     "name": "stdout",
     "output_type": "stream",
     "text": [
      "Downloading https://fastdlv2.gflclan.com/file/gflfastdlv2/csgo/maps/ze_surf_bona_v3_1.bsp.bz2\n"
     ]
    },
    {
     "name": "stderr",
     "output_type": "stream",
     "text": [
      "100%|██████████| 69.8M/69.8M [00:07<00:00, 9.18MiB/s]\n"
     ]
    },
    {
     "name": "stdout",
     "output_type": "stream",
     "text": [
      "Downloading https://fastdlv2.gflclan.com/file/gflfastdlv2/csgo/maps/ze_surf_danger_p2.bsp.bz2\n"
     ]
    },
    {
     "name": "stderr",
     "output_type": "stream",
     "text": [
      "100%|██████████| 10.1M/10.1M [00:01<00:00, 7.00MiB/s]\n"
     ]
    },
    {
     "name": "stdout",
     "output_type": "stream",
     "text": [
      "Downloading https://fastdlv2.gflclan.com/file/gflfastdlv2/csgo/maps/ze_surf_dark_fantasy_v2go2.bsp.bz2\n"
     ]
    },
    {
     "name": "stderr",
     "output_type": "stream",
     "text": [
      "100%|██████████| 87.9M/87.9M [00:08<00:00, 9.84MiB/s]\n"
     ]
    },
    {
     "name": "stdout",
     "output_type": "stream",
     "text": [
      "Downloading https://fastdlv2.gflclan.com/file/gflfastdlv2/csgo/maps/ze_surf_facility_p4.bsp.bz2\n"
     ]
    },
    {
     "name": "stderr",
     "output_type": "stream",
     "text": [
      "100%|██████████| 18.3M/18.3M [00:02<00:00, 7.35MiB/s]\n"
     ]
    },
    {
     "name": "stdout",
     "output_type": "stream",
     "text": [
      "Downloading https://fastdlv2.gflclan.com/file/gflfastdlv2/csgo/maps/ze_surf_gypt_v1_3_1f.bsp.bz2\n"
     ]
    },
    {
     "name": "stderr",
     "output_type": "stream",
     "text": [
      "100%|██████████| 19.8M/19.8M [00:02<00:00, 6.85MiB/s]\n"
     ]
    },
    {
     "name": "stdout",
     "output_type": "stream",
     "text": [
      "Downloading https://fastdlv2.gflclan.com/file/gflfastdlv2/csgo/maps/ze_surf_happy_2_newbie_village_v3.bsp.bz2\n"
     ]
    },
    {
     "name": "stderr",
     "output_type": "stream",
     "text": [
      "100%|██████████| 61.1M/61.1M [00:06<00:00, 9.17MiB/s]\n"
     ]
    },
    {
     "name": "stdout",
     "output_type": "stream",
     "text": [
      "Downloading https://fastdlv2.gflclan.com/file/gflfastdlv2/csgo/maps/ze_surf_happy_b7.bsp.bz2\n"
     ]
    },
    {
     "name": "stderr",
     "output_type": "stream",
     "text": [
      "100%|██████████| 38.8M/38.8M [00:03<00:00, 9.80MiB/s]\n"
     ]
    },
    {
     "name": "stdout",
     "output_type": "stream",
     "text": [
      "Downloading https://fastdlv2.gflclan.com/file/gflfastdlv2/csgo/maps/ze_surf_sahok_p3.bsp.bz2\n"
     ]
    },
    {
     "name": "stderr",
     "output_type": "stream",
     "text": [
      "100%|██████████| 40.6M/40.6M [00:04<00:00, 8.19MiB/s]\n"
     ]
    },
    {
     "name": "stdout",
     "output_type": "stream",
     "text": [
      "Downloading https://fastdlv2.gflclan.com/file/gflfastdlv2/csgo/maps/ze_surf_shonyudo_v6_1_final_fix.bsp.bz2\n"
     ]
    },
    {
     "name": "stderr",
     "output_type": "stream",
     "text": [
      "100%|██████████| 27.5M/27.5M [00:03<00:00, 8.94MiB/s]\n"
     ]
    },
    {
     "name": "stdout",
     "output_type": "stream",
     "text": [
      "Downloading https://fastdlv2.gflclan.com/file/gflfastdlv2/csgo/maps/ze_surf_virtus_v1_1.bsp.bz2\n"
     ]
    },
    {
     "name": "stderr",
     "output_type": "stream",
     "text": [
      "100%|██████████| 46.8M/46.8M [00:04<00:00, 9.50MiB/s]\n"
     ]
    },
    {
     "name": "stdout",
     "output_type": "stream",
     "text": [
      "Downloading https://fastdlv2.gflclan.com/file/gflfastdlv2/csgo/maps/ze_surf_vortex_v2_8.bsp.bz2\n"
     ]
    },
    {
     "name": "stderr",
     "output_type": "stream",
     "text": [
      "100%|██████████| 24.6M/24.6M [00:02<00:00, 8.82MiB/s]\n"
     ]
    },
    {
     "name": "stdout",
     "output_type": "stream",
     "text": [
      "Downloading https://fastdlv2.gflclan.com/file/gflfastdlv2/csgo/maps/ze_survivors_p2.bsp.bz2\n"
     ]
    },
    {
     "name": "stderr",
     "output_type": "stream",
     "text": [
      "100%|██████████| 65.0M/65.0M [00:07<00:00, 9.23MiB/s]\n"
     ]
    },
    {
     "name": "stdout",
     "output_type": "stream",
     "text": [
      "Downloading https://fastdlv2.gflclan.com/file/gflfastdlv2/csgo/maps/ze_taboo_carnation_p2.bsp.bz2\n"
     ]
    },
    {
     "name": "stderr",
     "output_type": "stream",
     "text": [
      "100%|██████████| 61.2M/61.2M [00:06<00:00, 9.49MiB/s]\n"
     ]
    },
    {
     "name": "stdout",
     "output_type": "stream",
     "text": [
      "Downloading https://fastdlv2.gflclan.com/file/gflfastdlv2/csgo/maps/ze_temple_escape_va3.bsp.bz2\n"
     ]
    },
    {
     "name": "stderr",
     "output_type": "stream",
     "text": [
      "100%|██████████| 25.4M/25.4M [00:02<00:00, 9.00MiB/s]\n"
     ]
    },
    {
     "name": "stdout",
     "output_type": "stream",
     "text": [
      "Downloading https://fastdlv2.gflclan.com/file/gflfastdlv2/csgo/maps/ze_temple_of_the_demon_god_v2.bsp.bz2\n"
     ]
    },
    {
     "name": "stderr",
     "output_type": "stream",
     "text": [
      "100%|██████████| 76.8M/76.8M [00:08<00:00, 9.45MiB/s]\n"
     ]
    },
    {
     "name": "stdout",
     "output_type": "stream",
     "text": [
      "Downloading https://fastdlv2.gflclan.com/file/gflfastdlv2/csgo/maps/ze_Temple_Raider_kr1.bsp.bz2\n"
     ]
    },
    {
     "name": "stderr",
     "output_type": "stream",
     "text": [
      "100%|██████████| 64.7M/64.7M [00:06<00:00, 9.36MiB/s]\n"
     ]
    },
    {
     "name": "stdout",
     "output_type": "stream",
     "text": [
      "Downloading https://fastdlv2.gflclan.com/file/gflfastdlv2/csgo/maps/ze_tenkinoko_welkin_v1_7f.bsp.bz2\n"
     ]
    },
    {
     "name": "stderr",
     "output_type": "stream",
     "text": [
      "100%|██████████| 64.6M/64.6M [00:06<00:00, 9.28MiB/s]\n"
     ]
    },
    {
     "name": "stdout",
     "output_type": "stream",
     "text": [
      "Downloading https://fastdlv2.gflclan.com/file/gflfastdlv2/csgo/maps/ze_tesv_skyrim_v5_6.bsp\n"
     ]
    },
    {
     "name": "stderr",
     "output_type": "stream",
     "text": [
      "100%|██████████| 259M/259M [00:26<00:00, 9.77MiB/s] \n"
     ]
    },
    {
     "name": "stdout",
     "output_type": "stream",
     "text": [
      "Downloading https://fastdlv2.gflclan.com/file/gflfastdlv2/csgo/maps/ze_tetris_daydream_p2.bsp.bz2\n"
     ]
    },
    {
     "name": "stderr",
     "output_type": "stream",
     "text": [
      "100%|██████████| 47.3M/47.3M [00:05<00:00, 9.29MiB/s]\n"
     ]
    },
    {
     "name": "stdout",
     "output_type": "stream",
     "text": [
      "Downloading https://fastdlv2.gflclan.com/file/gflfastdlv2/csgo/maps/ze_thelostworld_redux_p2.bsp.bz2\n"
     ]
    },
    {
     "name": "stderr",
     "output_type": "stream",
     "text": [
      "100%|██████████| 25.4M/25.4M [00:02<00:00, 8.60MiB/s]\n"
     ]
    },
    {
     "name": "stdout",
     "output_type": "stream",
     "text": [
      "Downloading https://fastdlv2.gflclan.com/file/gflfastdlv2/csgo/maps/ze_the_curse_of_blackwater_v6b.bsp.bz2\n"
     ]
    },
    {
     "name": "stderr",
     "output_type": "stream",
     "text": [
      "100%|██████████| 54.0M/54.0M [00:05<00:00, 9.51MiB/s]\n"
     ]
    },
    {
     "name": "stdout",
     "output_type": "stream",
     "text": [
      "Downloading https://fastdlv2.gflclan.com/file/gflfastdlv2/csgo/maps/ze_the_end_v3f.bsp.bz2\n"
     ]
    },
    {
     "name": "stderr",
     "output_type": "stream",
     "text": [
      "100%|██████████| 31.2M/31.2M [00:03<00:00, 9.25MiB/s]\n"
     ]
    },
    {
     "name": "stdout",
     "output_type": "stream",
     "text": [
      "Downloading https://fastdlv2.gflclan.com/file/gflfastdlv2/csgo/maps/ze_the_last_chapter_v1_5.bsp.bz2\n"
     ]
    },
    {
     "name": "stderr",
     "output_type": "stream",
     "text": [
      "100%|██████████| 82.7M/82.7M [00:13<00:00, 6.13MiB/s]\n"
     ]
    },
    {
     "name": "stdout",
     "output_type": "stream",
     "text": [
      "Downloading https://fastdlv2.gflclan.com/file/gflfastdlv2/csgo/maps/ze_the_new_era_of_crazy_escape_b8.bsp.bz2\n"
     ]
    },
    {
     "name": "stderr",
     "output_type": "stream",
     "text": [
      "100%|██████████| 55.6M/55.6M [00:06<00:00, 9.13MiB/s]\n"
     ]
    },
    {
     "name": "stdout",
     "output_type": "stream",
     "text": [
      "Downloading https://fastdlv2.gflclan.com/file/gflfastdlv2/csgo/maps/ze_thousand_steps_gf1_2.bsp.bz2\n"
     ]
    },
    {
     "name": "stderr",
     "output_type": "stream",
     "text": [
      "100%|██████████| 11.7M/11.7M [00:01<00:00, 6.40MiB/s]\n"
     ]
    },
    {
     "name": "stdout",
     "output_type": "stream",
     "text": [
      "Downloading https://fastdlv2.gflclan.com/file/gflfastdlv2/csgo/maps/ze_three_eyes_v1_1.bsp.bz2\n"
     ]
    },
    {
     "name": "stderr",
     "output_type": "stream",
     "text": [
      "100%|██████████| 63.2M/63.2M [00:06<00:00, 9.31MiB/s]\n"
     ]
    },
    {
     "name": "stdout",
     "output_type": "stream",
     "text": [
      "Downloading https://fastdlv2.gflclan.com/file/gflfastdlv2/csgo/maps/ze_thriller_escape_p.bsp.bz2\n"
     ]
    },
    {
     "name": "stderr",
     "output_type": "stream",
     "text": [
      "100%|██████████| 22.5M/22.5M [00:03<00:00, 7.43MiB/s]\n"
     ]
    },
    {
     "name": "stdout",
     "output_type": "stream",
     "text": [
      "Downloading https://fastdlv2.gflclan.com/file/gflfastdlv2/csgo/maps/ze_tibia_v4_2.bsp.bz2\n"
     ]
    },
    {
     "name": "stderr",
     "output_type": "stream",
     "text": [
      "100%|██████████| 63.3M/63.3M [00:06<00:00, 9.20MiB/s]\n"
     ]
    },
    {
     "name": "stdout",
     "output_type": "stream",
     "text": [
      "Downloading https://fastdlv2.gflclan.com/file/gflfastdlv2/csgo/maps/ze_tilex_ultimate_v2_13_gf1_5.bsp.bz2\n"
     ]
    },
    {
     "name": "stderr",
     "output_type": "stream",
     "text": [
      "100%|██████████| 53.9M/53.9M [00:05<00:00, 9.51MiB/s]\n"
     ]
    },
    {
     "name": "stdout",
     "output_type": "stream",
     "text": [
      "Downloading https://fastdlv2.gflclan.com/file/gflfastdlv2/csgo/maps/ze_timesink_v1_2.bsp.bz2\n"
     ]
    },
    {
     "name": "stderr",
     "output_type": "stream",
     "text": [
      "100%|██████████| 52.5M/52.5M [00:05<00:00, 9.02MiB/s]\n"
     ]
    },
    {
     "name": "stdout",
     "output_type": "stream",
     "text": [
      "Downloading https://fastdlv2.gflclan.com/file/gflfastdlv2/csgo/maps/ze_timesplitters_p2.bsp.bz2\n"
     ]
    },
    {
     "name": "stderr",
     "output_type": "stream",
     "text": [
      "100%|██████████| 13.0M/13.0M [00:01<00:00, 8.31MiB/s]\n"
     ]
    },
    {
     "name": "stdout",
     "output_type": "stream",
     "text": [
      "Downloading https://fastdlv2.gflclan.com/file/gflfastdlv2/csgo/maps/ze_titanic_cqd_g1.bsp.bz2\n"
     ]
    },
    {
     "name": "stderr",
     "output_type": "stream",
     "text": [
      "100%|██████████| 12.5M/12.5M [00:01<00:00, 7.53MiB/s]\n"
     ]
    },
    {
     "name": "stdout",
     "output_type": "stream",
     "text": [
      "Downloading https://fastdlv2.gflclan.com/file/gflfastdlv2/csgo/maps/ze_titanic_escape_p2.bsp.bz2\n"
     ]
    },
    {
     "name": "stderr",
     "output_type": "stream",
     "text": [
      "100%|██████████| 8.89M/8.89M [00:01<00:00, 6.60MiB/s]\n"
     ]
    },
    {
     "name": "stdout",
     "output_type": "stream",
     "text": [
      "Downloading https://fastdlv2.gflclan.com/file/gflfastdlv2/csgo/maps/ze_tkara_v4_3.bsp.bz2\n"
     ]
    },
    {
     "name": "stderr",
     "output_type": "stream",
     "text": [
      "100%|██████████| 56.3M/56.3M [00:06<00:00, 8.57MiB/s]\n"
     ]
    },
    {
     "name": "stdout",
     "output_type": "stream",
     "text": [
      "Downloading https://fastdlv2.gflclan.com/file/gflfastdlv2/csgo/maps/ze_toaster_p3.bsp.bz2\n"
     ]
    },
    {
     "name": "stderr",
     "output_type": "stream",
     "text": [
      "100%|██████████| 12.5M/12.5M [00:01<00:00, 7.91MiB/s]\n"
     ]
    },
    {
     "name": "stdout",
     "output_type": "stream",
     "text": [
      "Downloading https://fastdlv2.gflclan.com/file/gflfastdlv2/csgo/maps/ze_Totemo_Roka_v1.bsp.bz2\n"
     ]
    },
    {
     "name": "stderr",
     "output_type": "stream",
     "text": [
      "100%|██████████| 57.2M/57.2M [00:06<00:00, 9.10MiB/s]\n"
     ]
    },
    {
     "name": "stdout",
     "output_type": "stream",
     "text": [
      "Downloading https://fastdlv2.gflclan.com/file/gflfastdlv2/csgo/maps/ze_touhou_gensokyo_o4.bsp.bz2\n"
     ]
    },
    {
     "name": "stderr",
     "output_type": "stream",
     "text": [
      "100%|██████████| 64.6M/64.6M [00:06<00:00, 9.51MiB/s]\n"
     ]
    },
    {
     "name": "stdout",
     "output_type": "stream",
     "text": [
      "Downloading https://fastdlv2.gflclan.com/file/gflfastdlv2/csgo/maps/ze_traak_b2.bsp.bz2\n"
     ]
    },
    {
     "name": "stderr",
     "output_type": "stream",
     "text": [
      "100%|██████████| 59.0M/59.0M [00:06<00:00, 9.61MiB/s]\n"
     ]
    },
    {
     "name": "stdout",
     "output_type": "stream",
     "text": [
      "Downloading https://fastdlv2.gflclan.com/file/gflfastdlv2/csgo/maps/ze_trainescape_final_p2.bsp.bz2\n"
     ]
    },
    {
     "name": "stderr",
     "output_type": "stream",
     "text": [
      "100%|██████████| 11.1M/11.1M [00:01<00:00, 7.84MiB/s]\n"
     ]
    },
    {
     "name": "stdout",
     "output_type": "stream",
     "text": [
      "Downloading https://fastdlv2.gflclan.com/file/gflfastdlv2/csgo/maps/ze_trainstation_tunnels_p.bsp.bz2\n"
     ]
    },
    {
     "name": "stderr",
     "output_type": "stream",
     "text": [
      "100%|██████████| 13.8M/13.8M [00:01<00:00, 8.35MiB/s]\n"
     ]
    },
    {
     "name": "stdout",
     "output_type": "stream",
     "text": [
      "Downloading https://fastdlv2.gflclan.com/file/gflfastdlv2/csgo/maps/ze_trials_v3_test.bsp.bz2\n"
     ]
    },
    {
     "name": "stderr",
     "output_type": "stream",
     "text": [
      "100%|██████████| 80.9M/80.9M [00:08<00:00, 9.56MiB/s]\n"
     ]
    },
    {
     "name": "stdout",
     "output_type": "stream",
     "text": [
      "Downloading https://fastdlv2.gflclan.com/file/gflfastdlv2/csgo/maps/ze_tropico_escape_gf1_1.bsp.bz2\n"
     ]
    },
    {
     "name": "stderr",
     "output_type": "stream",
     "text": [
      "100%|██████████| 14.8M/14.8M [00:01<00:00, 8.40MiB/s]\n"
     ]
    },
    {
     "name": "stdout",
     "output_type": "stream",
     "text": [
      "Downloading https://fastdlv2.gflclan.com/file/gflfastdlv2/csgo/maps/ze_turokbase_p3.bsp.bz2\n"
     ]
    },
    {
     "name": "stderr",
     "output_type": "stream",
     "text": [
      "100%|██████████| 18.7M/18.7M [00:02<00:00, 8.18MiB/s]\n"
     ]
    },
    {
     "name": "stdout",
     "output_type": "stream",
     "text": [
      "Downloading https://fastdlv2.gflclan.com/file/gflfastdlv2/csgo/maps/ze_TV_station_r4.bsp.bz2\n"
     ]
    },
    {
     "name": "stderr",
     "output_type": "stream",
     "text": [
      "100%|██████████| 6.89M/6.89M [00:01<00:00, 6.73MiB/s]\n"
     ]
    },
    {
     "name": "stdout",
     "output_type": "stream",
     "text": [
      "Downloading https://fastdlv2.gflclan.com/file/gflfastdlv2/csgo/maps/ze_tyranny_v5_2k3.bsp.bz2\n"
     ]
    },
    {
     "name": "stderr",
     "output_type": "stream",
     "text": [
      "100%|██████████| 90.0M/90.0M [00:10<00:00, 8.76MiB/s]\n"
     ]
    },
    {
     "name": "stdout",
     "output_type": "stream",
     "text": [
      "Downloading https://fastdlv2.gflclan.com/file/gflfastdlv2/csgo/maps/ze_tyranny2_v1_csgo2.bsp.bz2\n"
     ]
    },
    {
     "name": "stderr",
     "output_type": "stream",
     "text": [
      "100%|██████████| 92.2M/92.2M [00:09<00:00, 9.65MiB/s]\n"
     ]
    },
    {
     "name": "stdout",
     "output_type": "stream",
     "text": [
      "Downloading https://fastdlv2.gflclan.com/file/gflfastdlv2/csgo/maps/ze_Uchiha_Legacy_cm2_fix.bsp\n"
     ]
    },
    {
     "name": "stderr",
     "output_type": "stream",
     "text": [
      "100%|██████████| 285M/285M [00:28<00:00, 9.95MiB/s] \n"
     ]
    },
    {
     "name": "stdout",
     "output_type": "stream",
     "text": [
      "Downloading https://fastdlv2.gflclan.com/file/gflfastdlv2/csgo/maps/ze_ujel_extreme_v1_5.bsp.bz2\n"
     ]
    },
    {
     "name": "stderr",
     "output_type": "stream",
     "text": [
      "100%|██████████| 50.0M/50.0M [00:05<00:00, 9.59MiB/s]\n"
     ]
    },
    {
     "name": "stdout",
     "output_type": "stream",
     "text": [
      "Downloading https://fastdlv2.gflclan.com/file/gflfastdlv2/csgo/maps/ze_undead_shrine_b1_2.bsp.bz2\n"
     ]
    },
    {
     "name": "stderr",
     "output_type": "stream",
     "text": [
      "100%|██████████| 67.5M/67.5M [00:07<00:00, 9.59MiB/s]\n"
     ]
    },
    {
     "name": "stdout",
     "output_type": "stream",
     "text": [
      "Downloading https://fastdlv2.gflclan.com/file/gflfastdlv2/csgo/maps/ze_underground_escape_p.bsp.bz2\n"
     ]
    },
    {
     "name": "stderr",
     "output_type": "stream",
     "text": [
      "100%|██████████| 11.1M/11.1M [00:01<00:00, 7.57MiB/s]\n"
     ]
    },
    {
     "name": "stdout",
     "output_type": "stream",
     "text": [
      "Downloading https://fastdlv2.gflclan.com/file/gflfastdlv2/csgo/maps/ze_undersea_temple_a4_4.bsp.bz2\n"
     ]
    },
    {
     "name": "stderr",
     "output_type": "stream",
     "text": [
      "100%|██████████| 41.6M/41.6M [00:04<00:00, 9.23MiB/s]\n"
     ]
    },
    {
     "name": "stdout",
     "output_type": "stream",
     "text": [
      "Downloading https://fastdlv2.gflclan.com/file/gflfastdlv2/csgo/maps/ze_undertale_g_v1_3_fix1.bsp.bz2\n"
     ]
    },
    {
     "name": "stderr",
     "output_type": "stream",
     "text": [
      "100%|██████████| 31.0M/31.0M [00:04<00:00, 7.56MiB/s]\n"
     ]
    },
    {
     "name": "stdout",
     "output_type": "stream",
     "text": [
      "Downloading https://fastdlv2.gflclan.com/file/gflfastdlv2/csgo/maps/ze_urban_laby_of_death_p2.bsp.bz2\n"
     ]
    },
    {
     "name": "stderr",
     "output_type": "stream",
     "text": [
      "100%|██████████| 35.5M/35.5M [00:03<00:00, 9.29MiB/s]\n"
     ]
    },
    {
     "name": "stdout",
     "output_type": "stream",
     "text": [
      "Downloading https://fastdlv2.gflclan.com/file/gflfastdlv2/csgo/maps/ze_urbanterror_b2.bsp.bz2\n"
     ]
    },
    {
     "name": "stderr",
     "output_type": "stream",
     "text": [
      "100%|██████████| 8.34M/8.34M [00:01<00:00, 7.77MiB/s]\n"
     ]
    },
    {
     "name": "stdout",
     "output_type": "stream",
     "text": [
      "Downloading https://fastdlv2.gflclan.com/file/gflfastdlv2/csgo/maps/ze_UT2004_Convoy_r5.bsp.bz2\n"
     ]
    },
    {
     "name": "stderr",
     "output_type": "stream",
     "text": [
      "100%|██████████| 32.0M/32.0M [00:03<00:00, 8.05MiB/s]\n"
     ]
    },
    {
     "name": "stdout",
     "output_type": "stream",
     "text": [
      "Downloading https://fastdlv2.gflclan.com/file/gflfastdlv2/csgo/maps/ze_v0u0v_csgo1.bsp.bz2\n"
     ]
    },
    {
     "name": "stderr",
     "output_type": "stream",
     "text": [
      "100%|██████████| 92.2M/92.2M [00:09<00:00, 9.48MiB/s]\n"
     ]
    },
    {
     "name": "stdout",
     "output_type": "stream",
     "text": [
      "Downloading https://fastdlv2.gflclan.com/file/gflfastdlv2/csgo/maps/ze_valkvang_v1_2.bsp.bz2\n"
     ]
    },
    {
     "name": "stderr",
     "output_type": "stream",
     "text": [
      "100%|██████████| 47.4M/47.4M [00:05<00:00, 9.44MiB/s]\n"
     ]
    },
    {
     "name": "stdout",
     "output_type": "stream",
     "text": [
      "Downloading https://fastdlv2.gflclan.com/file/gflfastdlv2/csgo/maps/ze_venice_escape_p3.bsp.bz2\n"
     ]
    },
    {
     "name": "stderr",
     "output_type": "stream",
     "text": [
      "100%|██████████| 31.2M/31.2M [00:03<00:00, 8.64MiB/s]\n"
     ]
    },
    {
     "name": "stdout",
     "output_type": "stream",
     "text": [
      "Downloading https://fastdlv2.gflclan.com/file/gflfastdlv2/csgo/maps/ze_verdant_k.bsp.bz2\n"
     ]
    },
    {
     "name": "stderr",
     "output_type": "stream",
     "text": [
      "100%|██████████| 83.1M/83.1M [00:08<00:00, 9.53MiB/s]\n"
     ]
    },
    {
     "name": "stdout",
     "output_type": "stream",
     "text": [
      "Downloading https://fastdlv2.gflclan.com/file/gflfastdlv2/csgo/maps/ze_vietnam_p3.bsp.bz2\n"
     ]
    },
    {
     "name": "stderr",
     "output_type": "stream",
     "text": [
      "100%|██████████| 19.4M/19.4M [00:02<00:00, 8.18MiB/s]\n"
     ]
    },
    {
     "name": "stdout",
     "output_type": "stream",
     "text": [
      "Downloading https://fastdlv2.gflclan.com/file/gflfastdlv2/csgo/maps/ze_visualizer_v2_1.bsp.bz2\n"
     ]
    },
    {
     "name": "stderr",
     "output_type": "stream",
     "text": [
      "100%|██████████| 63.8M/63.8M [00:06<00:00, 9.37MiB/s]\n"
     ]
    },
    {
     "name": "stdout",
     "output_type": "stream",
     "text": [
      "Downloading https://fastdlv2.gflclan.com/file/gflfastdlv2/csgo/maps/ze_volcano_escape_p2.bsp.bz2\n"
     ]
    },
    {
     "name": "stderr",
     "output_type": "stream",
     "text": [
      "100%|██████████| 15.6M/15.6M [00:01<00:00, 7.87MiB/s]\n"
     ]
    },
    {
     "name": "stdout",
     "output_type": "stream",
     "text": [
      "Downloading https://fastdlv2.gflclan.com/file/gflfastdlv2/csgo/maps/ze_voodoo_islands_p5.bsp.bz2\n"
     ]
    },
    {
     "name": "stderr",
     "output_type": "stream",
     "text": [
      "100%|██████████| 13.2M/13.2M [00:01<00:00, 7.64MiB/s]\n"
     ]
    },
    {
     "name": "stdout",
     "output_type": "stream",
     "text": [
      "Downloading https://fastdlv2.gflclan.com/file/gflfastdlv2/csgo/maps/ze_watagi_tunnel_v2_1.bsp.bz2\n"
     ]
    },
    {
     "name": "stderr",
     "output_type": "stream",
     "text": [
      "100%|██████████| 23.6M/23.6M [00:03<00:00, 6.37MiB/s]\n"
     ]
    },
    {
     "name": "stdout",
     "output_type": "stream",
     "text": [
      "Downloading https://fastdlv2.gflclan.com/file/gflfastdlv2/csgo/maps/ze_water_temple_v1_5.bsp.bz2\n"
     ]
    },
    {
     "name": "stderr",
     "output_type": "stream",
     "text": [
      "100%|██████████| 60.3M/60.3M [00:06<00:00, 9.68MiB/s]\n"
     ]
    },
    {
     "name": "stdout",
     "output_type": "stream",
     "text": [
      "Downloading https://fastdlv2.gflclan.com/file/gflfastdlv2/csgo/maps/ze_winter_warehouse_p2.bsp.bz2\n"
     ]
    },
    {
     "name": "stderr",
     "output_type": "stream",
     "text": [
      "100%|██████████| 4.62M/4.62M [00:00<00:00, 5.59MiB/s]\n"
     ]
    },
    {
     "name": "stdout",
     "output_type": "stream",
     "text": [
      "Downloading https://fastdlv2.gflclan.com/file/gflfastdlv2/csgo/maps/ze_world_escapes_v1.bsp.bz2\n"
     ]
    },
    {
     "name": "stderr",
     "output_type": "stream",
     "text": [
      "100%|██████████| 10.2M/10.2M [00:01<00:00, 6.02MiB/s]\n"
     ]
    },
    {
     "name": "stdout",
     "output_type": "stream",
     "text": [
      "Downloading https://fastdlv2.gflclan.com/file/gflfastdlv2/csgo/maps/ze_worlds_v1_2.bsp.bz2\n"
     ]
    },
    {
     "name": "stderr",
     "output_type": "stream",
     "text": [
      "100%|██████████| 34.4M/34.4M [00:03<00:00, 9.11MiB/s]\n"
     ]
    },
    {
     "name": "stdout",
     "output_type": "stream",
     "text": [
      "Downloading https://fastdlv2.gflclan.com/file/gflfastdlv2/csgo/maps/ze_yurilnier_beta007_hdr.bsp.bz2\n"
     ]
    },
    {
     "name": "stderr",
     "output_type": "stream",
     "text": [
      "100%|██████████| 24.3M/24.3M [00:02<00:00, 8.76MiB/s]\n"
     ]
    },
    {
     "name": "stdout",
     "output_type": "stream",
     "text": [
      "Downloading https://fastdlv2.gflclan.com/file/gflfastdlv2/csgo/maps/ze_zertinan_v1_4.bsp.bz2\n"
     ]
    },
    {
     "name": "stderr",
     "output_type": "stream",
     "text": [
      "100%|██████████| 79.8M/79.8M [00:08<00:00, 9.39MiB/s]\n"
     ]
    },
    {
     "name": "stdout",
     "output_type": "stream",
     "text": [
      "Downloading https://fastdlv2.gflclan.com/file/gflfastdlv2/csgo/maps/ze_zk_mall_of_zombies_p2.bsp.bz2\n"
     ]
    },
    {
     "name": "stderr",
     "output_type": "stream",
     "text": [
      "100%|██████████| 19.7M/19.7M [00:02<00:00, 8.51MiB/s]\n"
     ]
    },
    {
     "name": "stdout",
     "output_type": "stream",
     "text": [
      "Downloading https://fastdlv2.gflclan.com/file/gflfastdlv2/csgo/maps/ze_zombiemod_corporation_p2.bsp.bz2\n"
     ]
    },
    {
     "name": "stderr",
     "output_type": "stream",
     "text": [
      "100%|██████████| 7.65M/7.65M [00:01<00:00, 5.94MiB/s]\n"
     ]
    },
    {
     "name": "stdout",
     "output_type": "stream",
     "text": [
      "Downloading https://fastdlv2.gflclan.com/file/gflfastdlv2/csgo/maps/ze_zombierig_p3.bsp.bz2\n"
     ]
    },
    {
     "name": "stderr",
     "output_type": "stream",
     "text": [
      "100%|██████████| 31.4M/31.4M [00:03<00:00, 8.73MiB/s]\n"
     ]
    },
    {
     "name": "stdout",
     "output_type": "stream",
     "text": [
      "Downloading http://fastdl.gflclan.com/csgo/maps/ze_destruction_of_exorath_v4_lite.bsp.bz2\n",
      "Error downloading http://fastdl.gflclan.com/csgo/maps/ze_destruction_of_exorath_v4_lite.bsp.bz2\n"
     ]
    },
    {
     "name": "stderr",
     "output_type": "stream",
     "text": [
      "13.0iB [00:00, 227iB/s]\n"
     ]
    }
   ],
   "source": [
    "# multithread download\n",
    "import concurrent.futures\n",
    "import requests\n",
    "import tqdm\n",
    "import time\n",
    "import os\n",
    "\n",
    "path = 'csgo_zombie_maps'\n",
    "error_urls = []\n",
    "\n",
    "def download(url, store_path, speed_limit=10*1024*1024):\n",
    "    # Show download progress\n",
    "    try:\n",
    "        r = requests.get(url, stream=True, timeout=5)\n",
    "    # catch all exceptions put them into error_urls list\n",
    "        if r.status_code != 200:\n",
    "            print(\"Error downloading {}\".format(url))\n",
    "        error_urls.append(url)\n",
    "    except Exception as e:\n",
    "        print(\"Error downloading {}\".format(url))\n",
    "        error_urls.append(url)\n",
    "        return\n",
    "    \n",
    "    \n",
    "    total_size = int(r.headers.get('content-length', 0))\n",
    "    block_size = 512*1024  # Size of each chunk to read\n",
    "    store_path = os.path.join(store_path, url.split('/')[-1])  # Keep the original file name\n",
    "    \n",
    "    # Show progress bar\n",
    "    with tqdm.tqdm(total=total_size, unit='iB', unit_scale=True) as pbar:\n",
    "        # Overwrite the file if exists\n",
    "        with open(store_path, 'wb') as f:\n",
    "            for chunk in r.iter_content(chunk_size=block_size):\n",
    "                f.write(chunk)\n",
    "\n",
    "                # Calculate the time to sleep to limit the speed\n",
    "                time_to_sleep = block_size / speed_limit\n",
    "                time.sleep(time_to_sleep)\n",
    "\n",
    "                # Update the progress bar\n",
    "                pbar.update(len(chunk))\n",
    "\n",
    "# create the directory if not exists\n",
    "if not os.path.exists(path):\n",
    "    os.makedirs(path)\n",
    "\n",
    "# download the files, single thread\n",
    "for url in urls:\n",
    "    print(\"Downloading {}\".format(url))\n",
    "    download(url, path)"
   ]
  },
  {
   "cell_type": "code",
   "execution_count": 6,
   "metadata": {
    "tags": []
   },
   "outputs": [],
   "source": [
    "# grep all download files\n",
    "import os\n",
    "import glob\n",
    "\n",
    "# grep all files in the directory\n",
    "files = glob.glob(os.path.join(path, '*'))"
   ]
  },
  {
   "cell_type": "code",
   "execution_count": 7,
   "metadata": {
    "tags": []
   },
   "outputs": [
    {
     "name": "stdout",
     "output_type": "stream",
     "text": [
      "Decompressed csgo_zombie_maps\\ze_20_seconds_v6.bsp.bz2\n",
      "Decompressed csgo_zombie_maps\\ze_30_seconds__b21_p2.bsp.bz2\n",
      "Decompressed csgo_zombie_maps\\ze_ALIEN_mountain_escape_p3_fix.bsp.bz2\n",
      "Decompressed csgo_zombie_maps\\ze_AAA_oh_final_Final_FINAL.bsp.bz2\n",
      "Decompressed csgo_zombie_maps\\ze_alien_shooter_gp1_3.bsp.bz2\n",
      "Decompressed csgo_zombie_maps\\ze_abandoned_industry_va2.bsp.bz2\n",
      "Decompressed csgo_zombie_maps\\ze_aepp_nano_grid2_v1h.bsp.bz2\n",
      "Decompressed csgo_zombie_maps\\ze_2012_p3.bsp.bz2\n",
      "Decompressed csgo_zombie_maps\\ze_apocatastasis_v1_2.bsp.bz2\n",
      "Decompressed csgo_zombie_maps\\ze_ApertureScience_p2.bsp.bz2\n",
      "Decompressed csgo_zombie_maps\\ze_arcade_parade_b6.bsp.bz2\n",
      "Decompressed csgo_zombie_maps\\ze_Apollo_p2.bsp.bz2\n",
      "Decompressed csgo_zombie_maps\\ze_asd_v2.bsp.bz2\n",
      "Decompressed csgo_zombie_maps\\ze_666_crazy_escape_v2_4.bsp.bz2\n",
      "Decompressed csgo_zombie_maps\\ze_2021_xmas_world.bsp.bz2\n",
      "Decompressed csgo_zombie_maps\\ze_arctic_escape_p2.bsp.bz2\n",
      "Decompressed csgo_zombie_maps\\ze_8bit_csgo3.bsp.bz2\n",
      "Decompressed csgo_zombie_maps\\ze_ATIX_panic_b3t_p3.bsp.bz2\n",
      "Decompressed csgo_zombie_maps\\ze_alchemy_b7.bsp.bz2\n",
      "Decompressed csgo_zombie_maps\\ze_AAA_santartika_baseum_v2_1.bsp.bz2\n",
      "Decompressed csgo_zombie_maps\\ze_antartika_p3.bsp.bz2\n",
      "Decompressed csgo_zombie_maps\\ze_alien_vs_predator_v6go_fix.bsp.bz2\n",
      "Decompressed csgo_zombie_maps\\ze_2049_v1_1.bsp.bz2\n",
      "Decompressed csgo_zombie_maps\\ze_artika_base_v1_4.bsp.bz2\n",
      "Decompressed csgo_zombie_maps\\ze_aragami_v1_1.bsp.bz2\n",
      "Decompressed csgo_zombie_maps\\ze_amalgamation_v1_1.bsp.bz2\n",
      "Decompressed csgo_zombie_maps\\ze_atix_panic_v1.bsp.bz2\n",
      "Decompressed csgo_zombie_maps\\ze_abandoned_project_v1_2_csgo.bsp.bz2\n",
      "Decompressed csgo_zombie_maps\\ze_aot_trost_v8_3.bsp.bz2\n",
      "Decompressed csgo_zombie_maps\\ze_animu_v2_final.bsp.bz2\n",
      "Decompressed csgo_zombie_maps\\ze_Aooka_v3_t6.bsp.bz2\n",
      "Decompressed csgo_zombie_maps\\ze_aaa_grand_line_x3.bsp.bz2\n",
      "Decompressed csgo_zombie_maps\\ze_aztecnoob_p2.bsp.bz2\n",
      "Decompressed csgo_zombie_maps\\ze_aztec_temple_p.bsp.bz2\n",
      "Decompressed csgo_zombie_maps\\ze_babylon_v1.bsp.bz2\n",
      "Decompressed csgo_zombie_maps\\ze_ancient_wrath_v2_test27_m5.bsp.bz2\n",
      "Decompressed csgo_zombie_maps\\ze_atix_apocalypse_p3.bsp.bz2\n",
      "Decompressed csgo_zombie_maps\\ze_aware_v1_2a.bsp.bz2\n",
      "Decompressed csgo_zombie_maps\\ze_ashen_keep_p.bsp.bz2\n",
      "Decompressed csgo_zombie_maps\\ze_A_E_S_T_H_E_T_I_C_v1_1.bsp.bz2\n",
      "Decompressed csgo_zombie_maps\\ze_barrage_p2.bsp.bz2\n",
      "Decompressed csgo_zombie_maps\\ze_atos_v2_3.bsp.bz2\n",
      "Decompressed csgo_zombie_maps\\ze_Bible_Adventure_OT_v1_5.bsp.bz2\n",
      "Decompressed csgo_zombie_maps\\ze_backrooms_p3.bsp.bz2\n",
      "Decompressed csgo_zombie_maps\\ze_aztecorum_hc1.bsp.bz2\n",
      "Decompressed csgo_zombie_maps\\ze_asiangirl_mm11el4nu4cp2io1yv7_r_v6_3_1.bsp.bz2\n",
      "Decompressed csgo_zombie_maps\\ze_beyond_the_boundary_v1_5.bsp.bz2\n",
      "Decompressed csgo_zombie_maps\\ze_boatescape101_p.bsp.bz2\n",
      "Decompressed csgo_zombie_maps\\ze_boacceho_p4.bsp.bz2\n",
      "Decompressed csgo_zombie_maps\\ze_bigfoot_escapeica_v3_4.bsp.bz2\n",
      "Decompressed csgo_zombie_maps\\ze_Aurora_tower_v6_6.bsp.bz2\n",
      "Decompressed csgo_zombie_maps\\ze_boatescape_extendido_p4.bsp.bz2\n",
      "Decompressed csgo_zombie_maps\\ze_Bathroom_v2_5.bsp.bz2\n",
      "Decompressed csgo_zombie_maps\\ze_biohazard2_sewer_j2_004.bsp.bz2\n",
      "Decompressed csgo_zombie_maps\\ze_backrooms_deathbed_t1f.bsp.bz2\n",
      "Decompressed csgo_zombie_maps\\ze_biohazard2_rpd_004_p3.bsp.bz2\n",
      "Decompressed csgo_zombie_maps\\ze_binary_z4_1.bsp.bz2\n",
      "Decompressed csgo_zombie_maps\\ze_avalanche_reboot_k1.bsp.bz2\n",
      "Decompressed csgo_zombie_maps\\ze_biohazard3_nemesis_b6_2.bsp.bz2\n",
      "Decompressed csgo_zombie_maps\\ze_bisounours_party_p2.bsp.bz2\n",
      "Decompressed csgo_zombie_maps\\ze_bp-infested-prison_p2.bsp.bz2\n",
      "Decompressed csgo_zombie_maps\\ze_candy_star_a3.bsp.bz2\n",
      "Decompressed csgo_zombie_maps\\ze_blue_zenith_v0_2.bsp.bz2\n",
      "Decompressed csgo_zombie_maps\\ze_best_korea_v1.bsp.bz2\n",
      "Decompressed csgo_zombie_maps\\ze_Breakable_p3.bsp.bz2\n",
      "Decompressed csgo_zombie_maps\\ze_Chicken_Lords_Tower_ig1.bsp.bz2\n",
      "Decompressed csgo_zombie_maps\\ze_biohazard_manor_004_p4.bsp.bz2\n",
      "Decompressed csgo_zombie_maps\\ze_border_b2_fix.bsp.bz2\n",
      "Decompressed csgo_zombie_maps\\ze_blackmesa_remix_p2.bsp.bz2\n",
      "Decompressed csgo_zombie_maps\\ze_cancer_gopnik_escape_v8.bsp.bz2\n",
      "Decompressed csgo_zombie_maps\\ze_bulhufas_a1_1.bsp.bz2\n",
      "Decompressed csgo_zombie_maps\\ze_ccc_toastersand_v2.bsp.bz2\n",
      "Decompressed csgo_zombie_maps\\ze_bioshock_v6_2_csgo7.bsp.bz2\n",
      "Decompressed csgo_zombie_maps\\ze_colorlicouspilar_p4.bsp.bz2\n",
      "Decompressed csgo_zombie_maps\\ze_BoatEscapeX_b8.bsp.bz2\n",
      "Decompressed csgo_zombie_maps\\ze_bioluminescent_k1.bsp.bz2\n",
      "Decompressed csgo_zombie_maps\\ze_castlevania_64_v1_3_b9_go.bsp.bz2\n",
      "Decompressed csgo_zombie_maps\\ze_castle_bridge_v1_4.bsp.bz2\n",
      "Decompressed csgo_zombie_maps\\ze_blue_magic_castle_v3_1.bsp.bz2\n",
      "Decompressed csgo_zombie_maps\\ze_ccc_floator_mislands_timantetrix_v2.bsp.bz2\n",
      "Decompressed csgo_zombie_maps\\ze_breezy_v6.bsp.bz2\n",
      "Decompressed csgo_zombie_maps\\ze_colors_p3.bsp.bz2\n",
      "Decompressed csgo_zombie_maps\\ze_cursed_ruins_gf1_1.bsp.bz2\n",
      "Decompressed csgo_zombie_maps\\ze_check_b1_1f.bsp.bz2\n",
      "Decompressed csgo_zombie_maps\\ze_boredom_p.bsp.bz2\n",
      "Decompressed csgo_zombie_maps\\ze_complex_va3.bsp.bz2\n",
      "Decompressed csgo_zombie_maps\\ze_chaos_v7_7.bsp.bz2\n",
      "Decompressed csgo_zombie_maps\\ze_chronus_a1.bsp.bz2\n",
      "Decompressed csgo_zombie_maps\\ze_coastalcity_b10.bsp.bz2\n",
      "Decompressed csgo_zombie_maps\\ze_chicken_ranch_v2_2.bsp.bz2\n",
      "Decompressed csgo_zombie_maps\\ze_castlevania_p1_7.bsp.bz2\n",
      "Decompressed csgo_zombie_maps\\ze_christmas_infection_p2.bsp.bz2\n",
      "Decompressed csgo_zombie_maps\\ze_crypt_v1_4.bsp.bz2\n",
      "Decompressed csgo_zombie_maps\\ze_core_v2b.bsp.bz2\n",
      "Decompressed csgo_zombie_maps\\ze_crashbandicoot_p3.bsp.bz2\n",
      "Decompressed csgo_zombie_maps\\ze_crazy_christmas_v1_1.bsp.bz2\n",
      "Decompressed csgo_zombie_maps\\ze_dangerous_waters_v2_Final.bsp.bz2\n",
      "Decompressed csgo_zombie_maps\\ze_death_wish_gf1_1.bsp.bz2\n",
      "Decompressed csgo_zombie_maps\\ze_death_star_escape_v4_3_p2.bsp.bz2\n",
      "Decompressed csgo_zombie_maps\\ze_defense3002.bsp.bz2\n",
      "Decompressed csgo_zombie_maps\\ze_deepice_p3.bsp.bz2\n",
      "Decompressed csgo_zombie_maps\\ze_Cyberspace_v1.bsp.bz2\n",
      "Decompressed csgo_zombie_maps\\ze_CV_LOSII_Castle_Siege_b4.bsp.bz2\n",
      "Decompressed csgo_zombie_maps\\ze_desert_fox_v7_6f.bsp.bz2\n",
      "Decompressed csgo_zombie_maps\\ze_cyberderp_p4.bsp.bz2\n",
      "Decompressed csgo_zombie_maps\\ze_crazykart_v4.bsp.bz2\n",
      "Decompressed csgo_zombie_maps\\ze_dear_v1.bsp.bz2\n",
      "Decompressed csgo_zombie_maps\\ze_cruelty_squad_v1_12.bsp.bz2\n",
      "Decompressed csgo_zombie_maps\\ze_cursed_bear_tales_v1_2.bsp.bz2\n",
      "Decompressed csgo_zombie_maps\\ze_cyberia_v1.bsp.bz2\n",
      "Decompressed csgo_zombie_maps\\ze_cyberpunk_x_a07.bsp.bz2\n",
      "Decompressed csgo_zombie_maps\\ze_dust_escape_p3.bsp.bz2\n",
      "Decompressed csgo_zombie_maps\\ze_collective_v1_9.bsp.bz2\n",
      "Decompressed csgo_zombie_maps\\ze_dungeon_of_ignorance_a1_2.bsp.bz2\n",
      "Decompressed csgo_zombie_maps\\ze_deadcore_k3.bsp.bz2\n",
      "Decompressed csgo_zombie_maps\\ze_DOOM_p2.bsp.bz2\n",
      "Decompressed csgo_zombie_maps\\ze_deathinvain_palace_v2.bsp.bz2\n",
      "Decompressed csgo_zombie_maps\\ze_eden_a3.bsp.bz2\n",
      "Decompressed csgo_zombie_maps\\ze_ELEVATOR_escape_p3.bsp.bz2\n",
      "Decompressed csgo_zombie_maps\\ze_el_salto_del_angel_p.bsp.bz2\n",
      "Decompressed csgo_zombie_maps\\ze_depths_b2.bsp.bz2\n",
      "Decompressed csgo_zombie_maps\\ze_dark_souls_ptd_csgo2.bsp.bz2\n",
      "Decompressed csgo_zombie_maps\\ze_diverted_destiny_c2f3.bsp.bz2\n",
      "Decompressed csgo_zombie_maps\\ze_escape_origine_p2.bsp.bz2\n",
      "Decompressed csgo_zombie_maps\\ze_descent_into_cerberon_v1.bsp.bz2\n",
      "Decompressed csgo_zombie_maps\\ze_dragonball_snakeway_neox2.bsp.bz2\n",
      "Decompressed csgo_zombie_maps\\ze_epic_escape_v2_1.bsp.bz2\n",
      "Decompressed csgo_zombie_maps\\ze_earrape_escape_v1_5_supreme_seizure_edition.bsp.bz2\n",
      "Decompressed csgo_zombie_maps\\ze_escape_stroggos_p2.bsp.bz2\n",
      "Decompressed csgo_zombie_maps\\ze_escape_horizon_p3.bsp.bz2\n",
      "Decompressed csgo_zombie_maps\\ze_easy_escape_r.bsp.bz2\n",
      "Decompressed csgo_zombie_maps\\ze_endemic_v1_3.bsp.bz2\n",
      "Decompressed csgo_zombie_maps\\ze_escape_the_eye_p3.bsp.bz2\n",
      "Decompressed csgo_zombie_maps\\ze_djinn_go1.bsp.bz2\n",
      "Decompressed csgo_zombie_maps\\ze_Desperate_Soul_a10.bsp.bz2\n",
      "Decompressed csgo_zombie_maps\\ze_doom3_v2.bsp.bz2\n",
      "Decompressed csgo_zombie_maps\\ze_DYSTOPIA_a4.bsp.bz2\n",
      "Decompressed csgo_zombie_maps\\ze_dreamin_v3_3.bsp.bz2\n",
      "Decompressed csgo_zombie_maps\\ze_elork_ok3ng3se5_v1_3.bsp.bz2\n",
      "Decompressed csgo_zombie_maps\\ze_evil_mansion_v1_finalf.bsp.bz2\n",
      "Decompressed csgo_zombie_maps\\ze_escape_together_v2_xx.bsp.bz2\n",
      "Decompressed csgo_zombie_maps\\ze_diddle_v3.bsp.bz2\n",
      "Decompressed csgo_zombie_maps\\ze_escapetheworld_a33.bsp.bz2\n",
      "Decompressed csgo_zombie_maps\\ze_fast_escape_p2.bsp.bz2\n",
      "Decompressed csgo_zombie_maps\\ze_eternal_void_p3.bsp.bz2\n",
      "Decompressed csgo_zombie_maps\\ze_draco_accidere_v4_final.bsp.bz2\n",
      "Decompressed csgo_zombie_maps\\ze_endless_dream_v1_2.bsp.bz2\n",
      "Decompressed csgo_zombie_maps\\ze_facility_overload_final2.bsp.bz2\n",
      "Decompressed csgo_zombie_maps\\ze_eschaton_a3_1.bsp.bz2\n",
      "Decompressed csgo_zombie_maps\\ze_fapescape_p5.bsp.bz2\n",
      "Decompressed csgo_zombie_maps\\ze_ffuxx_demon_naramina_a2.bsp.bz2\n",
      "Decompressed csgo_zombie_maps\\ze_eternal_journey_go_v1_4t11.bsp.bz2\n",
      "Decompressed csgo_zombie_maps\\ze_fapescape_katrina_v1_7.bsp.bz2\n",
      "Decompressed csgo_zombie_maps\\ze_evernight_a3_4.bsp.bz2\n",
      "Decompressed csgo_zombie_maps\\ze_exchange_innovation_v1b.bsp.bz2\n",
      "Decompressed csgo_zombie_maps\\ze_fapescape_rote_v1_3.bsp.bz2\n",
      "Decompressed csgo_zombie_maps\\ze_ffvii_boku_no_pico_v1_b2.bsp.bz2\n",
      "Decompressed csgo_zombie_maps\\ze_FFVII_Mako_Reactor_v5_3_Kia5.bsp.bz2\n",
      "Decompressed csgo_zombie_maps\\ze_eternal_grove_v3.bsp.bz2\n",
      "Decompressed csgo_zombie_maps\\ze_FFXII_Feywood_b6_3k.bsp.bz2\n",
      "Decompressed csgo_zombie_maps\\ze_FFVII_Cosmo_Canyon_v5k_fix.bsp.bz2\n",
      "Decompressed csgo_zombie_maps\\ze_firewall_laboratory_part2_p2.bsp.bz2\n",
      "Decompressed csgo_zombie_maps\\ze_FFXII_Paramina_Rift_r4.bsp.bz2\n",
      "Decompressed csgo_zombie_maps\\ze_firewall_laboratory_part1_p2.bsp.bz2\n",
      "Decompressed csgo_zombie_maps\\ze_FFXII_Westersand_v7_z9.bsp.bz2\n",
      "Decompressed csgo_zombie_maps\\ze_FFVII_Temple_Ancient_v4_3.bsp.bz2\n",
      "Decompressed csgo_zombie_maps\\ze_FORiUS_just_RUN_p2.bsp.bz2\n",
      "Decompressed csgo_zombie_maps\\ze_ffxii_mt_bur_omisace_v5_k3.bsp.bz2\n",
      "Decompressed csgo_zombie_maps\\ze_FFXII_Ridorana_Cataract_t5_3_w6.bsp.bz2\n",
      "Decompressed csgo_zombie_maps\\ze_forgotten_facility_p3.bsp.bz2\n",
      "Decompressed csgo_zombie_maps\\ze_FFVII_Mako_Reactor_v6_b09k2.bsp.bz2\n",
      "Decompressed csgo_zombie_maps\\ze_FFXII_Salikawood_v1_6f.bsp.bz2\n",
      "Decompressed csgo_zombie_maps\\ze_flex_b4.bsp.bz2\n",
      "Decompressed csgo_zombie_maps\\ze_flying_world_p.bsp.bz2\n",
      "Decompressed csgo_zombie_maps\\ze_FFXII_Westersand_v8zeta1k.bsp.bz2\n",
      "Decompressed csgo_zombie_maps\\ze_forbidden_repository_a1_4.bsp.bz2\n",
      "Decompressed csgo_zombie_maps\\ze_FFXIV_Wanderers_Palace_v2_va2.bsp.bz2\n",
      "Decompressed csgo_zombie_maps\\ze_frozentemple_rc1_1.bsp.bz2\n",
      "Decompressed csgo_zombie_maps\\ze_games_v2_1.bsp.bz2\n",
      "Decompressed csgo_zombie_maps\\ze_FFXIV_Pharos_Sirius_v1_6.bsp.bz2\n",
      "Decompressed csgo_zombie_maps\\ze_forest_r_v1.bsp.bz2\n",
      "Decompressed csgo_zombie_maps\\ze_flowering_b10.bsp.bz2\n",
      "Decompressed csgo_zombie_maps\\ze_gods_wrath_p2.bsp.bz2\n",
      "Decompressed csgo_zombie_maps\\ze_FFXIV_Wanderers_Palace_v4_va2.bsp.bz2\n",
      "Decompressed csgo_zombie_maps\\ze_fragment_ops_v2_7_fix.bsp.bz2\n",
      "Decompressed csgo_zombie_maps\\ze_FFXIV_Wanderers_Palace_v5_2.bsp.bz2\n",
      "Decompressed csgo_zombie_maps\\ze_frostdrake_tower_v1.bsp.bz2\n",
      "Decompressed csgo_zombie_maps\\ze_greece_escape_p.bsp.bz2\n",
      "Decompressed csgo_zombie_maps\\ze_ffxiv_wanderers_palace_v6_2z1.bsp.bz2\n",
      "Decompressed csgo_zombie_maps\\ze_grand_boatescape_p3.bsp.bz2\n",
      "Decompressed csgo_zombie_maps\\ze_greencity_fix.bsp.bz2\n",
      "Decompressed csgo_zombie_maps\\ze_gris_a4_9_8.bsp.bz2\n",
      "Decompressed csgo_zombie_maps\\ze_grau_a03_4ff.bsp.bz2\n",
      "Decompressed csgo_zombie_maps\\ze_haunted_lab_escape_p3.bsp.bz2\n",
      "Decompressed csgo_zombie_maps\\ze_hazard_escape_p2.bsp.bz2\n",
      "Decompressed csgo_zombie_maps\\ze_halo_p3.bsp.bz2\n",
      "Decompressed csgo_zombie_maps\\ze_Hell_Escape_p2.bsp.bz2\n",
      "Decompressed csgo_zombie_maps\\ze_hold_em_v8.bsp.bz2\n",
      "Decompressed csgo_zombie_maps\\ze_hidden_fortress_p.bsp.bz2\n",
      "Decompressed csgo_zombie_maps\\ze_highest_to_lowest_v1_1.bsp.bz2\n",
      "Decompressed csgo_zombie_maps\\ze_halo_poa_p4.bsp.bz2\n",
      "Decompressed csgo_zombie_maps\\ze_forsaken_temple_v3_b5.bsp.bz2\n",
      "Decompressed csgo_zombie_maps\\ze_forhidden_slicoo_v5.bsp.bz2\n",
      "Decompressed csgo_zombie_maps\\ze_funny_runner_v3_1.bsp.bz2\n",
      "Decompressed csgo_zombie_maps\\ze_genso_of_last_v3_4_t1.bsp.bz2\n",
      "Decompressed csgo_zombie_maps\\ze_icecap_escape_v5_p.bsp.bz2\n",
      "Decompressed csgo_zombie_maps\\ze_gris_v1_13.bsp.bz2\n",
      "Decompressed csgo_zombie_maps\\ze_huge_labo_escape_b1_3.bsp.bz2\n",
      "Decompressed csgo_zombie_maps\\ze_iceland_escape_v1_2.bsp.bz2\n",
      "Decompressed csgo_zombie_maps\\ze_golubenkaya_meow_v1_2.bsp.bz2\n",
      "Decompressed csgo_zombie_maps\\ze_got_the_north_csgo3.bsp.bz2\n",
      "Decompressed csgo_zombie_maps\\ze_greyplace_v1_2.bsp.bz2\n",
      "Decompressed csgo_zombie_maps\\ze_frozen_abyss_v1_2.bsp.bz2\n",
      "Decompressed csgo_zombie_maps\\ze_iamlegend_p3.bsp.bz2\n",
      "Decompressed csgo_zombie_maps\\ze_hidden_temple_v2_5.bsp.bz2\n",
      "Decompressed csgo_zombie_maps\\ze_inboxed_final_fix.bsp.bz2\n",
      "Decompressed csgo_zombie_maps\\ze_halo_quarantine_zone_alpha_v6.bsp.bz2\n",
      "Decompressed csgo_zombie_maps\\ze_halo_ce_p1_c7.bsp.bz2\n",
      "Decompressed csgo_zombie_maps\\ze_hsc_a4_q3.bsp.bz2\n",
      "Decompressed csgo_zombie_maps\\ze_hypernova_p2.bsp.bz2\n",
      "Decompressed csgo_zombie_maps\\ze_insanitycity_va2.bsp.bz2\n",
      "Decompressed csgo_zombie_maps\\ze_jamais_vu_b2.bsp.bz2\n",
      "Decompressed csgo_zombie_maps\\ze_Halloween_House_b4.bsp.bz2\n",
      "Decompressed csgo_zombie_maps\\ze_honkai_impact_3rd_babel_v1_55.bsp.bz2\n",
      "Decompressed csgo_zombie_maps\\ze_infested-industry_p2.bsp.bz2\n",
      "Decompressed csgo_zombie_maps\\ze_island_escape_p3.bsp.bz2\n",
      "Decompressed csgo_zombie_maps\\ze_indiana_jones_v4a_004_p4.bsp.bz2\n",
      "Decompressed csgo_zombie_maps\\ze_infected_lab_v4_1.bsp.bz2\n",
      "Decompressed csgo_zombie_maps\\ze_hydroponic_garden_v1_1.bsp.bz2\n",
      "Decompressed csgo_zombie_maps\\ze_infected_tramway_csgo1.bsp.bz2\n",
      "Decompressed csgo_zombie_maps\\ze_italy_town_p2.bsp.bz2\n",
      "Decompressed csgo_zombie_maps\\ze_industrial_dejavu_p3.bsp.bz2\n",
      "Decompressed csgo_zombie_maps\\ze_interception_p2.bsp.bz2\n",
      "Decompressed csgo_zombie_maps\\ze_K19_escape_go1.bsp.bz2\n",
      "Decompressed csgo_zombie_maps\\ze_kaffe_escape_v2.bsp.bz2Decompressed csgo_zombie_maps\\ze_JurassicPark_p3.bsp.bz2\n",
      "\n",
      "Decompressed csgo_zombie_maps\\ze_JurassicPark_Escape_p2.bsp.bz2\n",
      "Decompressed csgo_zombie_maps\\ze_infernal_spire_p2.bsp.bz2\n",
      "Decompressed csgo_zombie_maps\\ze_infiltration_final_r1.bsp.bz2\n",
      "Decompressed csgo_zombie_maps\\ze_huggy_wuggy_chap4_halloween_rus4.bsp.bz2\n",
      "Decompressed csgo_zombie_maps\\ze_isla_nublar_p3.bsp.bz2\n",
      "Decompressed csgo_zombie_maps\\ze_jjomulwon_v1_1.bsp.bz2\n",
      "Decompressed csgo_zombie_maps\\ze_kororinpa_v2_2.bsp.bz2\n",
      "Decompressed csgo_zombie_maps\\ze_kage_a3.bsp.bz2\n",
      "Decompressed csgo_zombie_maps\\ze_ismellmagicintheair_wg7tw9vm1io1bu7_v3.bsp.bz2\n",
      "Decompressed csgo_zombie_maps\\ze_infected_sewers_csgo.bsp.bz2\n",
      "Decompressed csgo_zombie_maps\\ze_labyrinth_escape_v5_sonaki.bsp.bz2\n",
      "Decompressed csgo_zombie_maps\\ze_insensible_sr8gm6yj12hs7_RG_v9_6.bsp.bz2\n",
      "Decompressed csgo_zombie_maps\\ze_jp_stalactite_cg9bu4mr2er7_beta4.bsp.bz2\n",
      "Decompressed csgo_zombie_maps\\ze_kraznov_poopata_p2.bsp.bz2\n",
      "Decompressed csgo_zombie_maps\\ze_jiba_journey_v4_3.bsp.bz2\n",
      "Decompressed csgo_zombie_maps\\ze_jiangnan_town_v3.bsp.bz2\n",
      "Decompressed csgo_zombie_maps\\ze_illya_b4_csgo_a3.bsp.bz2\n",
      "Decompressed csgo_zombie_maps\\ze_licciana_escape_p.bsp.bz2\n",
      "Decompressed csgo_zombie_maps\\ze_journey_p2.bsp.bz2\n",
      "Decompressed csgo_zombie_maps\\ze_lemonysnickets_p2.bsp.bz2\n",
      "Decompressed csgo_zombie_maps\\ze_jump_king_p3.bsp.bz2\n",
      "Decompressed csgo_zombie_maps\\ze_legoland_crackheads_p2.bsp.bz2\n",
      "Decompressed csgo_zombie_maps\\ze_light_v7_csgo_tk13_v5_2fix.bsp.bz2\n",
      "Decompressed csgo_zombie_maps\\ze_lorem_ipsum_a1.bsp.bz2\n",
      "Decompressed csgo_zombie_maps\\ze_jjba_v7.bsp.bz2\n",
      "Decompressed csgo_zombie_maps\\ze_johnny_nukem_go_b8_3a.bsp.bz2\n",
      "Decompressed csgo_zombie_maps\\ze_Knife_Stray_v3.bsp.bz2\n",
      "Decompressed csgo_zombie_maps\\ze_kebab_immigrant_k.bsp.bz2\n",
      "Decompressed csgo_zombie_maps\\ze_light_escape_v1_final.bsp.bz2\n",
      "Decompressed csgo_zombie_maps\\ze_LOTR_Helms_Deep_v5_p6.bsp.bz2\n",
      "Decompressed csgo_zombie_maps\\ze_LOTR_Mirkwood_v2_5.bsp.bz2\n",
      "Decompressed csgo_zombie_maps\\ze_LOTR_Minas_Tiret_p2.bsp.bz2\n",
      "Decompressed csgo_zombie_maps\\ze_little_trip_k1.bsp.bz2\n",
      "Decompressed csgo_zombie_maps\\ze_Kitchen_v2.bsp.bz2\n",
      "Decompressed csgo_zombie_maps\\ze_Lila_Panic_Escape_tr2.bsp.bz2\n",
      "Decompressed csgo_zombie_maps\\ze_light_shadow_L1_4.bsp.bz2\n",
      "Decompressed csgo_zombie_maps\\ze_LOTR_Mount_Doom_p3.bsp.bz2\n",
      "Decompressed csgo_zombie_maps\\ze_magic_carpet_p2.bsp.bz2\n",
      "Decompressed csgo_zombie_maps\\ze_laserheaven_csgo2.bsp.bz2\n",
      "Decompressed csgo_zombie_maps\\ze_lego_m1.bsp.bz2\n",
      "Decompressed csgo_zombie_maps\\ze_LuigisMansion_p3.bsp.bz2\n",
      "Decompressed csgo_zombie_maps\\ze_l0v0l_v1_4_csgo2.bsp.bz2\n",
      "Decompressed csgo_zombie_maps\\ze_LOTR_Laketown_v3_3.bsp.bz2\n",
      "Decompressed csgo_zombie_maps\\ze_mars_escape_gp3.bsp.bz2\n",
      "Decompressed csgo_zombie_maps\\ze_LOTR_Mines_of_Moria_v6_3fix_kr1.bsp.bz2\n",
      "Decompressed csgo_zombie_maps\\ze_melong_dow_learjet_gp1.bsp.bz2\n",
      "Decompressed csgo_zombie_maps\\ze_luciddreams_csgo3.bsp.bz2\n",
      "Decompressed csgo_zombie_maps\\ze_Last_Man_Standing_p3.bsp.bz2\n",
      "Decompressed csgo_zombie_maps\\ze_medievil_the_graveyard_v4.bsp.bz2\n",
      "Decompressed csgo_zombie_maps\\ze_luck_matters_v3_1.bsp.bz2\n",
      "Decompressed csgo_zombie_maps\\ze_mario_tower_v4_p2.bsp.bz2\n",
      "Decompressed csgo_zombie_maps\\ze_magala_castle_final.bsp.bz2\n",
      "Decompressed csgo_zombie_maps\\ze_magmadrake_b5.bsp.bz2\n",
      "Decompressed csgo_zombie_maps\\ze_military_escape_p4.bsp.bz2\n",
      "Decompressed csgo_zombie_maps\\ze_LOTR_Isengard_csgo1.bsp.bz2\n",
      "Decompressed csgo_zombie_maps\\ze_minecraft_v1_1_p3.bsp.bz2\n",
      "Decompressed csgo_zombie_maps\\ze_Mirrors_Edge_Reborn_p3.bsp.bz2\n",
      "Decompressed csgo_zombie_maps\\ze_mabinogi_f4_1.bsp.bz2\n",
      "Decompressed csgo_zombie_maps\\ze_LOTR_Minas_Tirith_p5.bsp.bz2\n",
      "Decompressed csgo_zombie_maps\\ze_lux_umbra_v1_4.bsp.bz2\n",
      "Decompressed csgo_zombie_maps\\ze_Lucy_Escape_v1.bsp.bz2\n",
      "Decompressed csgo_zombie_maps\\ze_MORELL_April_Vacation_v1.bsp.bz2\n",
      "Decompressed csgo_zombie_maps\\ze_moon_base_p3.bsp.bz2\n",
      "Decompressed csgo_zombie_maps\\ze_mgden_y3_fix.bsp.bz2\n",
      "Decompressed csgo_zombie_maps\\ze_motanuminc_p2.bsp.bz2\n",
      "Decompressed csgo_zombie_maps\\ze_minecraft_adventure_v1_3d.bsp.bz2\n",
      "Decompressed csgo_zombie_maps\\ze_namviet_gf1_1.bsp.bz2\n",
      "Decompressed csgo_zombie_maps\\ze_madara_temple_v1fix_csgo.bsp.bz2\n",
      "Decompressed csgo_zombie_maps\\ze_mytex_escape_v3_p.bsp.bz2\n",
      "Decompressed csgo_zombie_maps\\ze_MindTree_v1_6.bsp.bz2\n",
      "Decompressed csgo_zombie_maps\\ze_mapeadores_museum_v1.bsp.bz2\n",
      "Decompressed csgo_zombie_maps\\ze_minimal_csgo.bsp.bz2\n",
      "Decompressed csgo_zombie_maps\\ze_minecraft_universe_v1_5.bsp.bz2\n",
      "Decompressed csgo_zombie_maps\\ze_meatropolis_p4.bsp.bz2\n",
      "Decompressed csgo_zombie_maps\\ze_m0w0m_csgo1.bsp.bz2\n",
      "Decompressed csgo_zombie_maps\\ze_negative_legacy_va2.bsp.bz2\n",
      "Decompressed csgo_zombie_maps\\ze_memehell_v1_1_go.bsp.bz2\n",
      "Decompressed csgo_zombie_maps\\ze_nightmares_madness_p2.bsp.bz2\n",
      "Decompressed csgo_zombie_maps\\ze_mojos_minigames_v1_4_1.bsp.bz2\n",
      "Decompressed csgo_zombie_maps\\ze_neko_canyon_p3.bsp.bz2\n",
      "Decompressed csgo_zombie_maps\\ze_mist_q3.bsp.bz2\n",
      "Decompressed csgo_zombie_maps\\ze_nibui_m.bsp.bz2\n",
      "Decompressed csgo_zombie_maps\\ze_monolith_p.bsp.bz2\n",
      "Decompressed csgo_zombie_maps\\ze_notredame_p4.bsp.bz2\n",
      "Decompressed csgo_zombie_maps\\ze_nostromo_escape_p2.bsp.bz2\n",
      "Decompressed csgo_zombie_maps\\ze_nuke_p3.bsp.bz2\n",
      "Decompressed csgo_zombie_maps\\ze_neochrome_csgo3a.bsp.bz2\n",
      "Decompressed csgo_zombie_maps\\ze_nora_v1_11.bsp.bz2\n",
      "Decompressed csgo_zombie_maps\\ze_Naruto_p.bsp.bz2\n",
      "Decompressed csgo_zombie_maps\\ze_Natural_v1_4.bsp.bz2\n",
      "Decompressed csgo_zombie_maps\\ze_moltentemple_csgo1.bsp.bz2\n",
      "Decompressed csgo_zombie_maps\\ze_nameless_necropolis_v3.bsp.bz2\n",
      "Decompressed csgo_zombie_maps\\ze_omega_p3.bsp.bz2\n",
      "Decompressed csgo_zombie_maps\\ze_new_crazy_escape_v4_1.bsp.bz2\n",
      "Decompressed csgo_zombie_maps\\ze_no_name_v2_3.bsp.bz2\n",
      "Decompressed csgo_zombie_maps\\ze_ocean_base_escape_p2.bsp.bz2\n",
      "Decompressed csgo_zombie_maps\\ze_necromanteion_v3_1.bsp.bz2\n",
      "Decompressed csgo_zombie_maps\\ze_noir_p4.bsp.bz2\n",
      "Decompressed csgo_zombie_maps\\ze_naiads_v4a_6f.bsp.bz2\n",
      "Decompressed csgo_zombie_maps\\ze_oneiros_p.bsp.bz2\n",
      "Decompressed csgo_zombie_maps\\ze_oot_shadowtemple_b10.bsp.bz2\n",
      "Decompressed csgo_zombie_maps\\ze_offliner_v2_csgo1.bsp.bz2\n",
      "Decompressed csgo_zombie_maps\\ze_nomada_h3.bsp.bz2\n",
      "Decompressed csgo_zombie_maps\\ze_nightmare_dimension_p3.bsp.bz2\n",
      "Decompressed csgo_zombie_maps\\ze_no_title_v2_5.bsp.bz2\n",
      "Decompressed csgo_zombie_maps\\ze_nostromo_redux_v1_2.bsp.bz2\n",
      "Decompressed csgo_zombie_maps\\ze_NY_marathon_p2.bsp.bz2\n",
      "Decompressed csgo_zombie_maps\\ze_palace_adventure_v1_2.bsp.bz2\n",
      "Decompressed csgo_zombie_maps\\ze_paycheck_neox.bsp.bz2\n",
      "Decompressed csgo_zombie_maps\\ze_omochix_v3_2fix.bsp.bz2\n",
      "Decompressed csgo_zombie_maps\\ze_omen_090.bsp.bz2\n",
      "Decompressed csgo_zombie_maps\\ze_percocet_v5f.bsp.bz2\n",
      "Decompressed csgo_zombie_maps\\ze_outpost_escape_k2.bsp.bz2\n",
      "Decompressed csgo_zombie_maps\\ze_pd2_crime_art_v2.bsp.bz2\n",
      "Decompressed csgo_zombie_maps\\ze_otakuroom_v5_6f3.bsp.bz2\n",
      "Decompressed csgo_zombie_maps\\ze_pallaroid_rage_v1.bsp.bz2\n",
      "Decompressed csgo_zombie_maps\\ze_omochi_b10.bsp.bz2\n",
      "Decompressed csgo_zombie_maps\\ze_phantasy_escape_p3.bsp.bz2\n",
      "Decompressed csgo_zombie_maps\\ze_pitchblack_p2.bsp.bz2\n",
      "Decompressed csgo_zombie_maps\\ze_oblivion_castle_v6.bsp.bz2\n",
      "Decompressed csgo_zombie_maps\\ze_paper_escaper_p7.bsp.bz2\n",
      "Decompressed csgo_zombie_maps\\ze_platformer_b6.bsp.bz2\n",
      "Decompressed csgo_zombie_maps\\ze_PC_v1_2.bsp.bz2\n",
      "Decompressed csgo_zombie_maps\\ze_onahole_v3_3_3.bsp.bz2\n",
      "Decompressed csgo_zombie_maps\\ze_pools_b1_2.bsp.bz2\n",
      "Decompressed csgo_zombie_maps\\ze_pandora_revolutionz_hdr2.bsp.bz2\n",
      "Decompressed csgo_zombie_maps\\ze_Outlast_v2_cm1_fix1.bsp.bz2\n",
      "Decompressed csgo_zombie_maps\\ze_Parking_p4.bsp.bz2\n",
      "Decompressed csgo_zombie_maps\\ze_parkers_pit_p.bsp.bz2\n",
      "Decompressed csgo_zombie_maps\\ze_palace_of_minolila_v1.bsp.bz2\n",
      "Decompressed csgo_zombie_maps\\ze_qaz_defend_part2_ji1mm1_beta3.bsp.bz2\n",
      "Decompressed csgo_zombie_maps\\ze_paranoid_rezurrection_csgo1.bsp.bz2\n",
      "Decompressed csgo_zombie_maps\\ze_PoR_island_p3.bsp.bz2\n",
      "Decompressed csgo_zombie_maps\\ze_postal_v1_1.bsp.bz2\n",
      "Decompressed csgo_zombie_maps\\ze_PotC_IV_p3.bsp.bz2\n",
      "Decompressed csgo_zombie_maps\\ze_raccoon_facility_v6b_p.bsp.bz2\n",
      "Decompressed csgo_zombie_maps\\ze_Pidaras_va2.bsp.bz2\n",
      "Decompressed csgo_zombie_maps\\ze_potc_p4.bsp.bz2\n",
      "Decompressed csgo_zombie_maps\\ze_Pokemon_Rivals_v1_8.bsp.bz2\n",
      "Decompressed csgo_zombie_maps\\ze_Pirates_Port_Royal_v5_6.bsp.bz2\n",
      "Decompressed csgo_zombie_maps\\ze_rainbow_factory_v2.bsp.bz2\n",
      "Decompressed csgo_zombie_maps\\ze_pkmn_adventure_v7_2r_final.bsp.bz2\n",
      "Decompressed csgo_zombie_maps\\ze_puta_p3.bsp.bz2\n",
      "Decompressed csgo_zombie_maps\\ze_Portal_Story_p2.bsp.bz2\n",
      "Decompressed csgo_zombie_maps\\ze_prototype_p2.bsp.bz2\n",
      "Decompressed csgo_zombie_maps\\ze_pizzatime_v9.bsp.bz2\n",
      "Decompressed csgo_zombie_maps\\ze_ramp_a1_1.bsp.bz2\n",
      "Decompressed csgo_zombie_maps\\ze_rockescape_go2_1.bsp.bz2\n",
      "Decompressed csgo_zombie_maps\\ze_project_codex_v1_2.bsp.bz2\n",
      "Decompressed csgo_zombie_maps\\ze_poppy_playtime_origin_hc2.bsp.bz2\n",
      "Decompressed csgo_zombie_maps\\ze_realm_f3.bsp.bz2\n",
      "Decompressed csgo_zombie_maps\\ze_rev_a6_3.bsp.bz2\n",
      "Decompressed csgo_zombie_maps\\ze_project_alcaria_x2.bsp.bz2\n",
      "Decompressed csgo_zombie_maps\\ze_rocket_escape_g1.bsp.bz2\n",
      "Decompressed csgo_zombie_maps\\ze_Rooftop_Runaway1_p.bsp.bz2\n",
      "Decompressed csgo_zombie_maps\\ze_rawnscape_b2_nc3.bsp.bz2\n",
      "Decompressed csgo_zombie_maps\\ze_rooftop_runaway2_p.bsp.bz2\n",
      "Decompressed csgo_zombie_maps\\ze_reconnoiter_b5.bsp.bz2\n",
      "Decompressed csgo_zombie_maps\\ze_resonance_cascade_p3.bsp.bz2\n",
      "Decompressed csgo_zombie_maps\\ze_rollermine_factory_2010_p.bsp.bz2\n",
      "Decompressed csgo_zombie_maps\\ze_radio_building_v1_3.bsp.bz2\n",
      "Decompressed csgo_zombie_maps\\ze_rabanastre_royal_t5.bsp.bz2\n",
      "Decompressed csgo_zombie_maps\\ze_retribution_pf.bsp.bz2\n",
      "Decompressed csgo_zombie_maps\\ze_rtv_one_more.bsp.bz2\n",
      "Decompressed csgo_zombie_maps\\ze_Random_p2.bsp.bz2\n",
      "Decompressed csgo_zombie_maps\\ze_predator_ultimate_p7.bsp.bz2\n",
      "Decompressed csgo_zombie_maps\\ze_sc_turtles_v5_p3.bsp.bz2\n",
      "Decompressed csgo_zombie_maps\\ze_runaway_roofside1_k1.bsp.bz2\n",
      "Decompressed csgo_zombie_maps\\ze_random_escape_g1.bsp.bz2\n",
      "Decompressed csgo_zombie_maps\\ze_retro_cow_v1_1.bsp.bz2\n",
      "Decompressed csgo_zombie_maps\\ze_randomizer_c1.bsp.bz2\n",
      "Decompressed csgo_zombie_maps\\ze_saw_p3.bsp.bz2\n",
      "Decompressed csgo_zombie_maps\\ze_Ratescape_v5_4.bsp.bz2\n",
      "Decompressed csgo_zombie_maps\\ze_sewage_processing_v8.bsp.bz2\n",
      "Decompressed csgo_zombie_maps\\ze_RTCW_Ominous_Rumors_p4.bsp.bz2\n",
      "Decompressed csgo_zombie_maps\\ze_sewer_escape_p3.bsp.bz2\n",
      "Decompressed csgo_zombie_maps\\ze_roof_adventure_v8f.bsp.bz2\n",
      "Decompressed csgo_zombie_maps\\ze_sam_hd_v1_fix.bsp.bz2\n",
      "Decompressed csgo_zombie_maps\\ze_showdown_v4_1_p.bsp.bz2\n",
      "Decompressed csgo_zombie_maps\\ze_sex_mod_hentai_beachescape_camper.bsp.bz2\n",
      "Decompressed csgo_zombie_maps\\ze_rush_B_v2_2.bsp.bz2\n",
      "Decompressed csgo_zombie_maps\\ze_rizomata_va2.bsp.bz2\n",
      "Decompressed csgo_zombie_maps\\ze_shrine_of_umos_b3.bsp.bz2\n",
      "Decompressed csgo_zombie_maps\\ze_shaun_of_the_dead_p.bsp.bz2\n",
      "Decompressed csgo_zombie_maps\\ze_sg1_missions_v2_1_p2.bsp.bz2\n",
      "Decompressed csgo_zombie_maps\\ze_ruin_of_black_stone_v2.bsp.bz2\n",
      "Decompressed csgo_zombie_maps\\ze_serious_sam_tfe_v2_6.bsp.bz2\n",
      "Decompressed csgo_zombie_maps\\ze_sakuzyo_b2.bsp.bz2\n",
      "Decompressed csgo_zombie_maps\\ze_SANCTUARY_v1_2.bsp.bz2\n",
      "Decompressed csgo_zombie_maps\\ze_siberia_1990_v1_2c_p5.bsp.bz2\n",
      "Decompressed csgo_zombie_maps\\ze_santassination_v3.bsp.bz2\n",
      "Decompressed csgo_zombie_maps\\ze_snowescape_gp1.bsp.bz2\n",
      "Decompressed csgo_zombie_maps\\ze_schizophrenic_c3.bsp.bz2\n",
      "Decompressed csgo_zombie_maps\\ze_Serpentis_Temple_p2.bsp.bz2\n",
      "Decompressed csgo_zombie_maps\\ze_sandstorm_go_v1_5x3.bsp.bz2\n",
      "Decompressed csgo_zombie_maps\\ze_Skyscraper_city_r2.bsp.bz2\n",
      "Decompressed csgo_zombie_maps\\ze_scourge_k1.bsp.bz2\n",
      "Decompressed csgo_zombie_maps\\ze_skill_escape_v09.bsp.bz2\n",
      "Decompressed csgo_zombie_maps\\ze_sst_b2_1_p5.bsp.bz2\n",
      "Decompressed csgo_zombie_maps\\ze_sst2_p.bsp.bz2\n",
      "Decompressed csgo_zombie_maps\\ze_shroomforest2_p6.bsp.bz2\n",
      "Decompressed csgo_zombie_maps\\ze_shroomforest_p6.bsp.bz2\n",
      "Decompressed csgo_zombie_maps\\ze_ShroomForest3_p.bsp.bz2\n",
      "Decompressed csgo_zombie_maps\\ze_space_flight_p3.bsp.bz2\n",
      "Decompressed csgo_zombie_maps\\ze_stargate_escape_v8_p2.bsp.bz2\n",
      "Decompressed csgo_zombie_maps\\ze_silent_hill_2_illusion_b5.bsp.bz2\n",
      "Decompressed csgo_zombie_maps\\ze_silent_hill_blackblood_f6.bsp.bz2\n",
      "Decompressed csgo_zombie_maps\\ze_silent_hill_3_dawn_v2.bsp.bz2\n",
      "Decompressed csgo_zombie_maps\\ze_silent_hill_3_flee_v4.bsp.bz2\n",
      "Decompressed csgo_zombie_maps\\ze_solgryn_v2.bsp.bz2\n",
      "Decompressed csgo_zombie_maps\\ze_sorrento_escape_v2.bsp.bz2\n",
      "Decompressed csgo_zombie_maps\\ze_surf_danger_p2.bsp.bz2\n",
      "Decompressed csgo_zombie_maps\\ze_slackerino_mapperino_v4.bsp.bz2\n",
      "Decompressed csgo_zombie_maps\\ze_skygarden_v2_3.bsp.bz2\n",
      "Decompressed csgo_zombie_maps\\ze_sisyphus_v1.bsp.bz2\n",
      "Decompressed csgo_zombie_maps\\ze_slender_escape_rc2.bsp.bz2\n",
      "Decompressed csgo_zombie_maps\\ze_squid_game_v1.bsp.bz2\n",
      "Decompressed csgo_zombie_maps\\ze_sunkentemple_v3_1.bsp.bz2\n",
      "Decompressed csgo_zombie_maps\\ze_surf_facility_p4.bsp.bz2\n",
      "Decompressed csgo_zombie_maps\\ze_surf_gypt_v1_3_1f.bsp.bz2\n",
      "Decompressed csgo_zombie_maps\\ze_stalker_ultimate_v4_9.bsp.bz2\n",
      "Decompressed csgo_zombie_maps\\ze_SUMAI_facility_v1a.bsp.bz2\n",
      "Decompressed csgo_zombie_maps\\ze_star_wars_prequel_f1.bsp.bz2\n",
      "Decompressed csgo_zombie_maps\\ze_STRANGE_escape_p2.bsp.bz2\n",
      "Decompressed csgo_zombie_maps\\ze_SUPERSHITSHOW_a2.bsp.bz2\n",
      "Decompressed csgo_zombie_maps\\ze_sunlight_p2.bsp.bz2\n",
      "Decompressed csgo_zombie_maps\\ze_stilshrine_of_miriam_v7_2fix.bsp.bz2\n",
      "Decompressed csgo_zombie_maps\\ze_surf_shonyudo_v6_1_final_fix.bsp.bz2\n",
      "Decompressed csgo_zombie_maps\\ze_surf_vortex_v2_8.bsp.bz2\n",
      "Decompressed csgo_zombie_maps\\ze_temple_escape_va3.bsp.bz2\n",
      "Decompressed csgo_zombie_maps\\ze_stalkermonolit_v8gofix1.bsp.bz2\n",
      "Decompressed csgo_zombie_maps\\ze_surf_happy_b7.bsp.bz2\n",
      "Decompressed csgo_zombie_maps\\ze_surf_sahok_p3.bsp.bz2\n",
      "Decompressed csgo_zombie_maps\\ze_thousand_steps_gf1_2.bsp.bz2\n",
      "Decompressed csgo_zombie_maps\\ze_surf_bona_v3_1.bsp.bz2\n",
      "Decompressed csgo_zombie_maps\\ze_thelostworld_redux_p2.bsp.bz2\n",
      "Decompressed csgo_zombie_maps\\ze_surf_virtus_v1_1.bsp.bz2\n",
      "Decompressed csgo_zombie_maps\\ze_surf_happy_2_newbie_village_v3.bsp.bz2\n",
      "Decompressed csgo_zombie_maps\\ze_thriller_escape_p.bsp.bz2\n",
      "Decompressed csgo_zombie_maps\\ze_tetris_daydream_p2.bsp.bz2\n",
      "Decompressed csgo_zombie_maps\\ze_timesplitters_p2.bsp.bz2\n",
      "Decompressed csgo_zombie_maps\\ze_the_end_v3f.bsp.bz2\n",
      "Decompressed csgo_zombie_maps\\ze_titanic_escape_p2.bsp.bz2\n",
      "Decompressed csgo_zombie_maps\\ze_titanic_cqd_g1.bsp.bz2\n",
      "Decompressed csgo_zombie_maps\\ze_surf_dark_fantasy_v2go2.bsp.bz2\n",
      "Decompressed csgo_zombie_maps\\ze_taboo_carnation_p2.bsp.bz2\n",
      "Decompressed csgo_zombie_maps\\ze_toaster_p3.bsp.bz2\n",
      "Decompressed csgo_zombie_maps\\ze_survivors_p2.bsp.bz2\n",
      "Decompressed csgo_zombie_maps\\ze_the_new_era_of_crazy_escape_b8.bsp.bz2\n",
      "Decompressed csgo_zombie_maps\\ze_tenkinoko_welkin_v1_7f.bsp.bz2\n",
      "Decompressed csgo_zombie_maps\\ze_Temple_Raider_kr1.bsp.bz2\n",
      "Decompressed csgo_zombie_maps\\ze_the_curse_of_blackwater_v6b.bsp.bz2\n",
      "Decompressed csgo_zombie_maps\\ze_trainescape_final_p2.bsp.bz2\n",
      "Decompressed csgo_zombie_maps\\ze_TV_station_r4.bsp.bz2\n",
      "Decompressed csgo_zombie_maps\\ze_trainstation_tunnels_p.bsp.bz2\n",
      "Decompressed csgo_zombie_maps\\ze_temple_of_the_demon_god_v2.bsp.bz2\n",
      "Decompressed csgo_zombie_maps\\ze_S_A_M_v1_7.bsp.bz2\n",
      "Decompressed csgo_zombie_maps\\ze_tropico_escape_gf1_1.bsp.bz2\n",
      "Decompressed csgo_zombie_maps\\ze_three_eyes_v1_1.bsp.bz2\n",
      "Decompressed csgo_zombie_maps\\ze_turokbase_p3.bsp.bz2\n",
      "Decompressed csgo_zombie_maps\\ze_tilex_ultimate_v2_13_gf1_5.bsp.bz2\n",
      "Decompressed csgo_zombie_maps\\ze_urbanterror_b2.bsp.bz2\n",
      "Decompressed csgo_zombie_maps\\ze_timesink_v1_2.bsp.bz2\n",
      "Decompressed csgo_zombie_maps\\ze_underground_escape_p.bsp.bz2\n",
      "Decompressed csgo_zombie_maps\\ze_tibia_v4_2.bsp.bz2\n",
      "Decompressed csgo_zombie_maps\\ze_the_last_chapter_v1_5.bsp.bz2\n",
      "Decompressed csgo_zombie_maps\\ze_Totemo_Roka_v1.bsp.bz2\n",
      "Decompressed csgo_zombie_maps\\ze_undertale_g_v1_3_fix1.bsp.bz2\n",
      "Decompressed csgo_zombie_maps\\ze_tkara_v4_3.bsp.bz2\n",
      "Decompressed csgo_zombie_maps\\ze_vietnam_p3.bsp.bz2\n",
      "Decompressed csgo_zombie_maps\\ze_urban_laby_of_death_p2.bsp.bz2\n",
      "Decompressed csgo_zombie_maps\\ze_volcano_escape_p2.bsp.bz2\n",
      "Decompressed csgo_zombie_maps\\ze_UT2004_Convoy_r5.bsp.bz2\n",
      "Decompressed csgo_zombie_maps\\ze_winter_warehouse_p2.bsp.bz2\n",
      "Decompressed csgo_zombie_maps\\ze_voodoo_islands_p5.bsp.bz2\n",
      "Decompressed csgo_zombie_maps\\ze_traak_b2.bsp.bz2\n",
      "Decompressed csgo_zombie_maps\\ze_touhou_gensokyo_o4.bsp.bz2\n",
      "Decompressed csgo_zombie_maps\\ze_venice_escape_p3.bsp.bz2Decompressed csgo_zombie_maps\\ze_ujel_extreme_v1_5.bsp.bz2\n",
      "\n",
      "Decompressed csgo_zombie_maps\\ze_world_escapes_v1.bsp.bz2\n",
      "Decompressed csgo_zombie_maps\\ze_zombiemod_corporation_p2.bsp.bz2\n",
      "Decompressed csgo_zombie_maps\\ze_undersea_temple_a4_4.bsp.bz2\n",
      "Decompressed csgo_zombie_maps\\ze__hell.bsp.bz2\n",
      "Decompressed csgo_zombie_maps\\ze_valkvang_v1_2.bsp.bz2\n",
      "Decompressed csgo_zombie_maps\\ze_watagi_tunnel_v2_1.bsp.bz2\n",
      "Decompressed csgo_zombie_maps\\ze_undead_shrine_b1_2.bsp.bz2\n",
      "Decompressed csgo_zombie_maps\\ze_zk_mall_of_zombies_p2.bsp.bz2\n",
      "Decompressed csgo_zombie_maps\\ze_trials_v3_test.bsp.bz2\n",
      "Decompressed csgo_zombie_maps\\ze_worlds_v1_2.bsp.bz2\n",
      "Decompressed csgo_zombie_maps\\ze_yurilnier_beta007_hdr.bsp.bz2\n",
      "Decompressed csgo_zombie_maps\\ze_zombierig_p3.bsp.bz2\n",
      "Decompressed csgo_zombie_maps\\ze_visualizer_v2_1.bsp.bz2\n",
      "Decompressed csgo_zombie_maps\\ze_tyranny_v5_2k3.bsp.bz2\n",
      "Decompressed csgo_zombie_maps\\ze_tyranny2_v1_csgo2.bsp.bz2\n",
      "Decompressed csgo_zombie_maps\\ze_water_temple_v1_5.bsp.bz2\n",
      "Decompressed csgo_zombie_maps\\ze_verdant_k.bsp.bz2\n",
      "Decompressed csgo_zombie_maps\\ze_v0u0v_csgo1.bsp.bz2\n",
      "Decompressed csgo_zombie_maps\\ze_zertinan_v1_4.bsp.bz2\n"
     ]
    }
   ],
   "source": [
    "# decompress all files, use max 20 multi-thread\n",
    "import bz2\n",
    "import os\n",
    "import concurrent.futures\n",
    "\n",
    "# create a directory to store decompressed files\n",
    "decompressed_path = 'csgo_zombie_maps_decompressed'\n",
    "if not os.path.exists(decompressed_path):\n",
    "    os.makedirs(decompressed_path)\n",
    "\n",
    "def decompress(file):\n",
    "    with open(file, 'rb') as f:\n",
    "        content = f.read()\n",
    "    decompressed = bz2.decompress(content)\n",
    "    # save the decompressed file keep the original file name\n",
    "    with open(os.path.join(decompressed_path, \".\".join(file.split('\\\\')[-1].split('.')[0:2])), 'wb') as f:\n",
    "        f.write(decompressed)\n",
    "        print(\"Decompressed {}\".format(file))\n",
    "\n",
    "# decompress all files, use max 20 multi-thread\n",
    "with concurrent.futures.ThreadPoolExecutor(max_workers=20) as executor:\n",
    "    executor.map(decompress, files)"
   ]
  },
  {
   "cell_type": "code",
   "execution_count": 30,
   "metadata": {},
   "outputs": [],
   "source": [
    "import os\n",
    "import zipfile\n",
    "import tarfile\n",
    "import concurrent.futures\n",
    "\n",
    "def zip_files(directory, zip_file_path):\n",
    "    with zipfile.ZipFile(zip_file_path, 'w', zipfile.ZIP_DEFLATED) as zipf:\n",
    "        for root, _, files in os.walk(directory):\n",
    "            for file in files:\n",
    "                file_path = os.path.join(root, file)\n",
    "                zipf.write(file_path, os.path.relpath(file_path, directory))\n",
    "\n",
    "def tar_gz_files(directory, tar_file_path):\n",
    "    with tarfile.open(tar_file_path, 'w:gz') as tar:\n",
    "        for root, _, files in os.walk(directory):\n",
    "            for file in files:\n",
    "                file_path = os.path.join(root, file)\n",
    "                tar.add(file_path, arcname=os.path.relpath(file_path, directory))\n",
    "\n",
    "def tar_bz2_files(directory, tar_file_path):\n",
    "    with tarfile.open(tar_file_path, 'w:bz2') as tar:\n",
    "        for root, _, files in os.walk(directory):\n",
    "            for file in files:\n",
    "                file_path = os.path.join(root, file)\n",
    "                tar.add(file_path, arcname=os.path.relpath(file_path, directory))\n",
    "\n",
    "def compress_all_formats(directory):\n",
    "    # Create a directory to store compressed files\n",
    "    compressed_path = 'compressed_files'\n",
    "    if not os.path.exists(compressed_path):\n",
    "        os.makedirs(compressed_path)\n",
    "\n",
    "    # File paths for the compressed files\n",
    "    zip_file_path = os.path.join(compressed_path, 'output.zip')\n",
    "    tar_gz_file_path = os.path.join(compressed_path, 'output.tar.gz')\n",
    "    tar_bz2_file_path = os.path.join(compressed_path, 'output.tar.bz2')\n",
    "\n",
    "    # Use ThreadPoolExecutor to compress in parallel\n",
    "    with concurrent.futures.ThreadPoolExecutor() as executor:\n",
    "        executor.submit(zip_files, directory, zip_file_path)\n",
    "        executor.submit(tar_gz_files, directory, tar_gz_file_path)\n",
    "        executor.submit(tar_bz2_files, directory, tar_bz2_file_path)\n",
    "\n",
    "compress_all_formats('csgo_zombie_maps_decompressed')"
   ]
  }
 ],
 "metadata": {
  "kernelspec": {
   "display_name": "Python 3 (ipykernel)",
   "language": "python",
   "name": "python3"
  },
  "language_info": {
   "codemirror_mode": {
    "name": "ipython",
    "version": 3
   },
   "file_extension": ".py",
   "mimetype": "text/x-python",
   "name": "python",
   "nbconvert_exporter": "python",
   "pygments_lexer": "ipython3",
   "version": "3.11.5"
  }
 },
 "nbformat": 4,
 "nbformat_minor": 4
}
