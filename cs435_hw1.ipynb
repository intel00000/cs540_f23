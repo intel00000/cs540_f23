{
 "cells": [
  {
   "cell_type": "code",
   "execution_count": 1,
   "metadata": {},
   "outputs": [],
   "source": [
    "# function to convert a character to ASCII code, subtracting the ASCII code for 'a'\n",
    "def char_to_ascii(char):\n",
    "    return ord(char) - ord('a')"
   ]
  },
  {
   "cell_type": "code",
   "execution_count": 2,
   "metadata": {},
   "outputs": [],
   "source": [
    "# a function from ASCII number to character, adding the ASCII code for 'a'\n",
    "def char(n):\n",
    "    return chr(n + ord('a'))"
   ]
  },
  {
   "cell_type": "code",
   "execution_count": 3,
   "metadata": {},
   "outputs": [],
   "source": [
    "# given a string, return a list of ASCII codes\n",
    "def string_to_ascii_list(string):\n",
    "    return [char_to_ascii(char) for char in string]\n",
    "\n",
    "ciphartext = string_to_ascii_list(\"eplxiuuynlozlrshw\")"
   ]
  },
  {
   "cell_type": "code",
   "execution_count": 4,
   "metadata": {},
   "outputs": [
    {
     "data": {
      "text/plain": [
       "[4, 15, 11, 23, 8, 20, 20, 24, 13, 11, 14, 25, 11, 17, 18, 7, 22]"
      ]
     },
     "execution_count": 4,
     "metadata": {},
     "output_type": "execute_result"
    }
   ],
   "source": [
    "ciphartext"
   ]
  },
  {
   "cell_type": "code",
   "execution_count": 5,
   "metadata": {},
   "outputs": [
    {
     "name": "stdout",
     "output_type": "stream",
     "text": [
      "['wednesdaythursday', 'wednesdaysaturday', 'thursdaywednesday', 'saturdaywednesday']\n",
      "ilikecrypshfuzphy\n",
      "ilikecryptography\n",
      "lirgqruarhlmhzphy\n",
      "mpsdrruarhlmhzphy\n"
     ]
    }
   ],
   "source": [
    "# list all possible string that have two english days word combined\n",
    "days_list = [\"monday\", \"tuesday\", \"wednesday\", \"thursday\", \"friday\", \"saturday\", \"sunday\"]\n",
    "possible_days_strings = []\n",
    "for i in range(len(days_list)):\n",
    "    for j in range(len(days_list)):\n",
    "        possible_days_strings.append(days_list[i] + days_list[j])\n",
    "\n",
    "# pick one that matches the ciphartext length\n",
    "possible_plaintext_strings = [string for string in possible_days_strings if len(string) == len(ciphartext)]\n",
    "print(possible_plaintext_strings)\n",
    "\n",
    "# convert to ASCII list\n",
    "possible_plaintexts_ascii = [string_to_ascii_list(string) for string in possible_plaintext_strings]\n",
    "possible_plaintexts_ascii\n",
    "\n",
    "for possible_plaintext_ascii in possible_plaintexts_ascii:\n",
    "    print(\"\".join([char((ciphartext[i] - possible_plaintext_ascii[i]) % 26) for i in range(len(ciphartext))]))"
   ]
  },
  {
   "cell_type": "code",
   "execution_count": null,
   "metadata": {},
   "outputs": [],
   "source": [
    "# print cipher text representation in a 2D array\n",
    "def print_ciphertext(ciphertext):\n",
    "    for i in range(0, len(ciphertext), 4):\n",
    "        print(ciphertext[i:i+4])"
   ]
  }
 ],
 "metadata": {
  "kernelspec": {
   "display_name": "Python 3",
   "language": "python",
   "name": "python3"
  },
  "language_info": {
   "codemirror_mode": {
    "name": "ipython",
    "version": 3
   },
   "file_extension": ".py",
   "mimetype": "text/x-python",
   "name": "python",
   "nbconvert_exporter": "python",
   "pygments_lexer": "ipython3",
   "version": "3.11.5"
  },
  "orig_nbformat": 4
 },
 "nbformat": 4,
 "nbformat_minor": 2
}
