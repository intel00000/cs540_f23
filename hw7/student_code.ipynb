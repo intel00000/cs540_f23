{
 "cells": [
  {
   "cell_type": "code",
   "execution_count": 1,
   "metadata": {},
   "outputs": [],
   "source": [
    "# python imports\n",
    "import os\n",
    "from tqdm import tqdm\n",
    "\n",
    "# torch imports\n",
    "import torch\n",
    "import torch.nn as nn\n",
    "import torch.optim as optim\n",
    "\n",
    "# helper functions for computer vision\n",
    "import torchvision\n",
    "import torchvision.transforms as transforms"
   ]
  },
  {
   "cell_type": "code",
   "execution_count": 2,
   "metadata": {},
   "outputs": [],
   "source": [
    "class LeNet(nn.Module):\n",
    "    def __init__(self, input_shape=(32, 32), num_classes=100):\n",
    "        super(LeNet, self).__init__()\n",
    "        # certain definitions\n",
    "\n",
    "        # step 1\n",
    "        self.conv1 = nn.Conv2d(in_channels=3, out_channels=6, kernel_size=5, stride=1)\n",
    "        self.relu1 = nn.ReLU()\n",
    "        self.maxpool1 = nn.MaxPool2d(2, 2)\n",
    "\n",
    "        # step 2\n",
    "        self.conv2 = nn.Conv2d(in_channels=6, out_channels=16, kernel_size=5, stride=1)\n",
    "        self.relu2 = nn.ReLU()\n",
    "        self.maxpool2 = nn.MaxPool2d(2, 2)\n",
    "\n",
    "        # step 3\n",
    "        self.flatten = nn.Flatten()\n",
    "\n",
    "        # step 4\n",
    "        self.fc1 = nn.Linear(16 * 5 * 5, 256)\n",
    "        self.relu3 = nn.ReLU()\n",
    "\n",
    "        # step 5\n",
    "        self.fc2 = nn.Linear(256, 128)\n",
    "        self.relu4 = nn.ReLU()\n",
    "\n",
    "        # step 6\n",
    "        self.fc3 = nn.Linear(128, num_classes)\n",
    "\n",
    "    def forward(self, x):\n",
    "        shape_dict = {}\n",
    "\n",
    "        # step 1\n",
    "        out = self.conv1(x)\n",
    "        out = self.relu1(out)\n",
    "        out = self.maxpool1(out)\n",
    "        shape_dict[1] = out.shape\n",
    "\n",
    "        # step 2\n",
    "        out = self.conv2(out)\n",
    "        out = self.relu2(out)\n",
    "        out = self.maxpool2(out)\n",
    "        shape_dict[2] = out.shape\n",
    "\n",
    "        # step 3\n",
    "        out = self.flatten(out)\n",
    "        shape_dict[3] = out.shape\n",
    "\n",
    "        # step 4\n",
    "        out = self.fc1(out)\n",
    "        shape_dict[4] = out.shape\n",
    "\n",
    "        # step 5\n",
    "        out = self.fc2(out)\n",
    "        shape_dict[5] = out.shape\n",
    "\n",
    "        # step 6\n",
    "        out = self.fc3(out)\n",
    "        shape_dict[6] = out.shape\n",
    "\n",
    "        return out, shape_dict"
   ]
  },
  {
   "cell_type": "code",
   "execution_count": 3,
   "metadata": {},
   "outputs": [
    {
     "data": {
      "text/plain": [
       "(tensor([[-0.1837,  0.1295, -0.0351,  0.1377, -0.0972,  0.1317, -0.0026,  0.1051,\n",
       "          -0.0641,  0.0285,  0.0568, -0.1232,  0.0380,  0.0971,  0.0638, -0.0405,\n",
       "           0.0335,  0.0172,  0.2030, -0.0460,  0.0230, -0.0184,  0.0760,  0.0584,\n",
       "          -0.1500,  0.1259, -0.0769,  0.0636, -0.0432, -0.0532,  0.2191, -0.0071,\n",
       "           0.1280,  0.0541, -0.0425, -0.0135, -0.0776, -0.0126,  0.1713,  0.1308,\n",
       "           0.0434, -0.0332, -0.0636, -0.0511, -0.0220, -0.0062, -0.1975,  0.0645,\n",
       "          -0.0475, -0.1438,  0.0226,  0.0162,  0.1012, -0.0087,  0.0698, -0.0993,\n",
       "          -0.1616, -0.0054, -0.0317, -0.0298, -0.1672,  0.1127,  0.0771,  0.1481,\n",
       "          -0.2321, -0.0005, -0.0594, -0.1144,  0.1837, -0.1163,  0.1377, -0.0728,\n",
       "           0.0778, -0.0370, -0.0991,  0.1671, -0.0113, -0.0900,  0.0388,  0.0042,\n",
       "          -0.1313, -0.0122, -0.2741, -0.1449, -0.0367,  0.0769, -0.2415,  0.0454,\n",
       "          -0.0074, -0.0296,  0.1728,  0.0551,  0.0681, -0.0243,  0.0491,  0.0987,\n",
       "           0.0478, -0.0304,  0.0803,  0.0258],\n",
       "         [-0.1230,  0.0755, -0.0333,  0.1459, -0.0881,  0.1311,  0.0010,  0.0759,\n",
       "          -0.0736,  0.0609,  0.0007, -0.0896,  0.0426,  0.1140,  0.0056, -0.0061,\n",
       "           0.0662, -0.0012,  0.1570, -0.0937,  0.0585, -0.0539,  0.0407,  0.0215,\n",
       "          -0.1084,  0.0970, -0.1132,  0.0299, -0.0517, -0.0998,  0.2075, -0.0012,\n",
       "           0.0563,  0.0455, -0.0749, -0.0815, -0.1499, -0.0435,  0.1922,  0.1475,\n",
       "           0.0054,  0.0144, -0.0720, -0.0814, -0.0216, -0.0509, -0.1847,  0.0155,\n",
       "          -0.0451, -0.0915,  0.0019, -0.0053,  0.1020,  0.0104,  0.0796, -0.1066,\n",
       "          -0.0991,  0.0423, -0.0409, -0.0431, -0.1401,  0.1402,  0.1292,  0.1449,\n",
       "          -0.2086, -0.0555, -0.0380, -0.1683,  0.2270, -0.0729,  0.1245, -0.0399,\n",
       "           0.0967, -0.0620, -0.1276,  0.1220, -0.0610, -0.0400,  0.0473,  0.0220,\n",
       "          -0.1413, -0.0025, -0.2991, -0.1479,  0.0068,  0.0749, -0.2343,  0.0870,\n",
       "           0.0055, -0.0300,  0.1878, -0.0166,  0.0244, -0.0321,  0.0358,  0.1163,\n",
       "           0.0959,  0.0071,  0.0450,  0.0674],\n",
       "         [-0.1603,  0.1335, -0.0510,  0.1049, -0.0607,  0.0981,  0.0312,  0.1042,\n",
       "          -0.0196,  0.0102,  0.0452, -0.1588,  0.0775,  0.0812,  0.0503, -0.0348,\n",
       "           0.0929, -0.0196,  0.2151, -0.0256,  0.0083, -0.0483,  0.0665,  0.0062,\n",
       "          -0.1301,  0.1094, -0.0631,  0.0383, -0.0317, -0.1031,  0.1867,  0.0170,\n",
       "           0.1095,  0.0556, -0.0388, -0.0118, -0.1237, -0.0544,  0.1877,  0.0839,\n",
       "           0.0870, -0.0436, -0.0817, -0.0369, -0.0129,  0.0183, -0.1448,  0.0843,\n",
       "          -0.0882, -0.1020,  0.0754,  0.0244,  0.0667,  0.0128,  0.0782, -0.1050,\n",
       "          -0.1146,  0.0407, -0.0139, -0.1036, -0.1940,  0.1045,  0.0877,  0.1745,\n",
       "          -0.1692, -0.0280, -0.0317, -0.0908,  0.2041, -0.0716,  0.1889, -0.0168,\n",
       "           0.0549,  0.0039, -0.0960,  0.0815, -0.0893, -0.0757,  0.0559, -0.0112,\n",
       "          -0.1381,  0.0305, -0.2520, -0.1902, -0.0288,  0.1068, -0.1833,  0.0555,\n",
       "           0.0472,  0.0013,  0.1911, -0.0326,  0.0535, -0.0489,  0.0598,  0.0847,\n",
       "           0.0537, -0.0344,  0.0838,  0.0875],\n",
       "         [-0.1684,  0.0469, -0.0088,  0.1567, -0.0715,  0.1190, -0.0105,  0.1008,\n",
       "          -0.0408,  0.0354,  0.0150, -0.1154,  0.0261,  0.0833,  0.0443, -0.0092,\n",
       "           0.0361, -0.0138,  0.2125, -0.0716,  0.0028, -0.0236,  0.0476,  0.0410,\n",
       "          -0.0803,  0.1441, -0.0818,  0.0226, -0.0229, -0.0407,  0.1714,  0.0214,\n",
       "           0.0647,  0.0692, -0.0454, -0.0282, -0.1491, -0.0723,  0.1620,  0.1760,\n",
       "           0.0350, -0.0331, -0.0024, -0.0091, -0.0019,  0.0207, -0.1921,  0.0444,\n",
       "          -0.0896, -0.0587,  0.0826,  0.0100,  0.1346,  0.0191,  0.0845, -0.0959,\n",
       "          -0.1570,  0.0401, -0.0619, -0.0194, -0.2029,  0.1442,  0.1471,  0.1932,\n",
       "          -0.2526, -0.0342, -0.0370, -0.1664,  0.2506, -0.0610,  0.1624, -0.0726,\n",
       "           0.1059, -0.0042, -0.0994,  0.1258, -0.0053, -0.0301,  0.0140,  0.0029,\n",
       "          -0.1639, -0.0267, -0.3353, -0.1450, -0.0103,  0.0779, -0.2747,  0.0597,\n",
       "           0.0502, -0.0178,  0.2099,  0.0151,  0.0745, -0.0245,  0.0555,  0.1349,\n",
       "           0.0461, -0.0177,  0.0932,  0.0600],\n",
       "         [-0.2261,  0.0725, -0.0413,  0.1455, -0.1092,  0.1624, -0.0145,  0.0464,\n",
       "          -0.0342,  0.0200,  0.0418, -0.1169,  0.0290,  0.0332,  0.0516, -0.0184,\n",
       "           0.0680,  0.0053,  0.2089, -0.0448,  0.0265, -0.0580,  0.0464,  0.0575,\n",
       "          -0.1388,  0.1352, -0.1119,  0.0475, -0.0907, -0.0963,  0.1651,  0.0080,\n",
       "           0.0619,  0.0460, -0.0797, -0.0163, -0.1102, -0.0594,  0.1902,  0.1378,\n",
       "           0.0507, -0.0334, -0.0399, -0.0559,  0.0232, -0.0327, -0.1599,  0.0606,\n",
       "          -0.0603, -0.1255, -0.0020,  0.0140,  0.0821,  0.0116,  0.0233, -0.1118,\n",
       "          -0.1224,  0.0132,  0.0011, -0.0117, -0.1518,  0.1023,  0.0981,  0.1324,\n",
       "          -0.2245, -0.0030, -0.0423, -0.1317,  0.2009, -0.0582,  0.1541, -0.0472,\n",
       "           0.0664, -0.0261, -0.1485,  0.1539, -0.0762, -0.1296,  0.0408, -0.0059,\n",
       "          -0.1218,  0.0265, -0.2691, -0.1290, -0.0112,  0.1266, -0.2032,  0.0542,\n",
       "           0.0328, -0.0400,  0.2109, -0.0594,  0.0541, -0.0012,  0.0413,  0.1007,\n",
       "           0.0647, -0.0425,  0.0776,  0.0611]], grad_fn=<AddmmBackward0>),\n",
       " {1: torch.Size([5, 6, 14, 14]),\n",
       "  2: torch.Size([5, 16, 5, 5]),\n",
       "  3: torch.Size([5, 400]),\n",
       "  4: torch.Size([5, 256]),\n",
       "  5: torch.Size([5, 128]),\n",
       "  6: torch.Size([5, 100])})"
      ]
     },
     "execution_count": 3,
     "metadata": {},
     "output_type": "execute_result"
    }
   ],
   "source": [
    "test = LeNet()\n",
    "\n",
    "test.forward(torch.randn(5, 3, 32, 32))"
   ]
  },
  {
   "cell_type": "code",
   "execution_count": 6,
   "metadata": {},
   "outputs": [],
   "source": [
    "def count_model_params():\n",
    "    '''\n",
    "    return the number of trainable parameters of LeNet.\n",
    "    '''\n",
    "    model = LeNet()\n",
    "    model_params = 0.0\n",
    "\n",
    "    for param in model.parameters():\n",
    "        model_params += param.numel()\n",
    "        \n",
    "\n",
    "    return model_params"
   ]
  },
  {
   "cell_type": "code",
   "execution_count": 14,
   "metadata": {},
   "outputs": [
    {
     "data": {
      "text/plain": [
       "<bound method Module.named_parameters of LeNet(\n",
       "  (conv1): Conv2d(3, 6, kernel_size=(5, 5), stride=(1, 1))\n",
       "  (relu1): ReLU()\n",
       "  (maxpool1): MaxPool2d(kernel_size=2, stride=2, padding=0, dilation=1, ceil_mode=False)\n",
       "  (conv2): Conv2d(6, 16, kernel_size=(5, 5), stride=(1, 1))\n",
       "  (relu2): ReLU()\n",
       "  (maxpool2): MaxPool2d(kernel_size=2, stride=2, padding=0, dilation=1, ceil_mode=False)\n",
       "  (flatten): Flatten(start_dim=1, end_dim=-1)\n",
       "  (fc1): Linear(in_features=400, out_features=256, bias=True)\n",
       "  (relu3): ReLU()\n",
       "  (fc2): Linear(in_features=256, out_features=128, bias=True)\n",
       "  (relu4): ReLU()\n",
       "  (fc3): Linear(in_features=128, out_features=100, bias=True)\n",
       ")>"
      ]
     },
     "execution_count": 14,
     "metadata": {},
     "output_type": "execute_result"
    }
   ],
   "source": [
    "model.named_parameters"
   ]
  },
  {
   "cell_type": "code",
   "execution_count": 16,
   "metadata": {},
   "outputs": [
    {
     "name": "stdout",
     "output_type": "stream",
     "text": [
      "450\n",
      "6\n",
      "2400\n",
      "16\n",
      "102400\n",
      "256\n",
      "32768\n",
      "128\n",
      "12800\n",
      "100\n"
     ]
    },
    {
     "data": {
      "text/plain": [
       "0.151324"
      ]
     },
     "execution_count": 16,
     "metadata": {},
     "output_type": "execute_result"
    }
   ],
   "source": [
    "model = LeNet()\n",
    "model_params = 0.0\n",
    "\n",
    "for param in model.parameters():\n",
    "    print(param.numel())\n",
    "    model_params += param.numel()\n",
    "\n",
    "model_params/1e6"
   ]
  }
 ],
 "metadata": {
  "kernelspec": {
   "display_name": "Python 3",
   "language": "python",
   "name": "python3"
  },
  "language_info": {
   "codemirror_mode": {
    "name": "ipython",
    "version": 3
   },
   "file_extension": ".py",
   "mimetype": "text/x-python",
   "name": "python",
   "nbconvert_exporter": "python",
   "pygments_lexer": "ipython3",
   "version": "3.11.5"
  }
 },
 "nbformat": 4,
 "nbformat_minor": 2
}
