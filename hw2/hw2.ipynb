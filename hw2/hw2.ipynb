{
 "cells": [
  {
   "cell_type": "code",
   "execution_count": 1,
   "metadata": {},
   "outputs": [],
   "source": [
    "import sys\n",
    "import math\n",
    "import numpy as np\n",
    "\n",
    "def get_parameter_vectors():\n",
    "    '''\n",
    "    This function parses e.txt and s.txt to get the  26-dimensional multinomial\n",
    "    parameter vector (characters probabilities of English and Spanish) as\n",
    "    descibed in section 1.2 of the writeup\n",
    "\n",
    "    Returns: tuple of vectors e and s\n",
    "    '''\n",
    "    #Implementing vectors e,s as lists (arrays) of length 26\n",
    "    #with p[0] being the probability of 'A' and so on\n",
    "    e=[0]*26\n",
    "    s=[0]*26\n",
    "\n",
    "    with open('e.txt',encoding='utf-8') as f:\n",
    "        for line in f:\n",
    "            #strip: removes the newline character\n",
    "            #split: split the string on space character\n",
    "            char,prob=line.strip().split(\" \")\n",
    "            #ord('E') gives the ASCII (integer) value of character 'E'\n",
    "            #we then subtract it from 'A' to give array index\n",
    "            #This way 'A' gets index 0 and 'Z' gets index 25.\n",
    "            e[ord(char)-ord('A')]=float(prob)\n",
    "    f.close()\n",
    "\n",
    "    with open('s.txt',encoding='utf-8') as f:\n",
    "        for line in f:\n",
    "            char,prob=line.strip().split(\" \")\n",
    "            s[ord(char)-ord('A')]=float(prob)\n",
    "    f.close()\n",
    "\n",
    "    return (e,s)\n",
    "\n",
    "def shred(filename):\n",
    "    # Using a dictionary here. You may change this to any data structure of your choice such as lists (X=[]) etc for the assignment\n",
    "    # prepopulate the dictionary with 0 counts for each letter\n",
    "    X = {chr(i + ord(\"A\")) : 0 for i in range(26)}\n",
    "    with open (filename,encoding='utf-8') as f:\n",
    "        for line in f:\n",
    "            for char in line:\n",
    "                if char.isalpha() and char.upper() in X:\n",
    "                    X[char.upper()] += 1\n",
    "    # return X\n",
    "    return X\n",
    "\n",
    "def print_counts(filename):\n",
    "    # print the 26 character counts for letter.txt\n",
    "    output_dict = shred(filename)\n",
    "    for item in output_dict:\n",
    "        print('{} {}'.format(item, output_dict[item]))"
   ]
  },
  {
   "cell_type": "code",
   "execution_count": 2,
   "metadata": {},
   "outputs": [],
   "source": [
    "def Q1(filename):\n",
    "    print('Q1')\n",
    "    print_counts(filename)"
   ]
  },
  {
   "cell_type": "code",
   "execution_count": 3,
   "metadata": {},
   "outputs": [],
   "source": [
    "def Q2(dict, index):\n",
    "    # convert dictionary to list, ordered from A to Z\n",
    "    X=[0]*26\n",
    "    for item in dict:\n",
    "        X[ord(item)-ord('A')] = dict[item]\n",
    "\n",
    "    # get multinomial parameter vectors\n",
    "    e, s = get_parameter_vectors()\n",
    "\n",
    "    print('Q2')\n",
    "    # control output to 4 decimal places\n",
    "    print('{:.4f}'.format(X[index] * np.log(e[index])))\n",
    "    print('{:.4f}'.format(X[index] * np.log(s[index]))) "
   ]
  },
  {
   "cell_type": "code",
   "execution_count": 4,
   "metadata": {},
   "outputs": [],
   "source": [
    "# 1.2 Language identification via Bayes rule\n",
    "# We arrange the 26 counts into a 26-dimensional count vector\n",
    "# mpv: multinomial probability vector\n",
    "def get_conditional_probability(dict):\n",
    "    # convert dictionary to list, ordered from A to Z\n",
    "    X=[0]*26\n",
    "    for item in dict:\n",
    "        X[ord(item)-ord('A')] = dict[item]\n",
    "    # sum of all counts\n",
    "    total = sum(X)\n",
    "\n",
    "    # define prior probabilities of letter being English or Spanish\n",
    "    probability_English = 0.6\n",
    "    probability_Spanish = 1 - probability_English\n",
    "\n",
    "    # get multinomial parameter vectors\n",
    "    e, s = get_parameter_vectors()\n",
    "\n",
    "    # calculate multinomial coefficient using numpy\n",
    "    coef = math.factorial(total) / np.prod([math.factorial(X[i]) for i in range(26)])\n",
    "\n",
    "    # P(X | Y = language)\n",
    "    # calculate multinomial_probability\n",
    "    multinomial_probability_e = coef * np.prod([e[i] ** X[i] for i in range(26)])\n",
    "    multinomial_probability_s = coef * np.prod([s[i] ** X[i] for i in range(26)])\n",
    "\n",
    "    # P(Y = language | X)\n",
    "    # calculate conditional_probability\n",
    "    conditional_probability_e = (multinomial_probability_e * probability_English) / (multinomial_probability_e * probability_English + multinomial_probability_s * probability_Spanish)\n",
    "    conditional_probability_s = (multinomial_probability_s * probability_Spanish) / (multinomial_probability_e * probability_English + multinomial_probability_s * probability_Spanish)\n",
    "\n",
    "    return (conditional_probability_e, conditional_probability_s)"
   ]
  },
  {
   "cell_type": "code",
   "execution_count": 5,
   "metadata": {},
   "outputs": [],
   "source": [
    "def get_F(dict):\n",
    "    # convert dictionary to list, ordered from A to Z\n",
    "    X=[0]*26\n",
    "    for item in dict:\n",
    "        X[ord(item)-ord('A')] = dict[item]\n",
    "    # sum of all counts\n",
    "    total = sum(X)\n",
    "\n",
    "    # define prior probabilities of letter being English or Spanish\n",
    "    probability_English = 0.6\n",
    "    probability_Spanish = 1 - probability_English\n",
    "\n",
    "    # get multinomial parameter vectors\n",
    "    e, s = get_parameter_vectors()\n",
    "\n",
    "    F_e = np.log(probability_English) + np.sum([X[i] * np.log(e[i]) for i in range(26)])\n",
    "    F_s = np.log(probability_Spanish) + np.sum([X[i] * np.log(s[i]) for i in range(26)])\n",
    "\n",
    "    return (F_e, F_s)"
   ]
  },
  {
   "cell_type": "code",
   "execution_count": 6,
   "metadata": {},
   "outputs": [],
   "source": [
    "def Q3(filename):\n",
    "    # control output to 4 decimal places\n",
    "    print('Q3')\n",
    "    F_e, F_s = get_F(shred(filename))\n",
    "    print('{:.4f}'.format(F_e))\n",
    "    print('{:.4f}'.format(F_s))"
   ]
  },
  {
   "cell_type": "code",
   "execution_count": 7,
   "metadata": {},
   "outputs": [],
   "source": [
    "# 1.3\n",
    "def get_conditional_probability_simplify_english(filename):\n",
    "    F_e, F_s = get_F(shred(filename))\n",
    "    if F_s - F_e >= 100:\n",
    "        return 0\n",
    "    elif F_s - F_e <= -100:\n",
    "        return 1\n",
    "    else:\n",
    "        return 1 / (1 + np.exp(F_s - F_e))"
   ]
  },
  {
   "cell_type": "code",
   "execution_count": 8,
   "metadata": {},
   "outputs": [],
   "source": [
    "def Q4(filename):\n",
    "    print('Q4')\n",
    "    print('{:.4f}'.format(get_conditional_probability_simplify_english(filename)))"
   ]
  },
  {
   "cell_type": "code",
   "execution_count": 9,
   "metadata": {},
   "outputs": [],
   "source": [
    "def main():\n",
    "    filename = 'letter.txt'\n",
    "    # Q1\n",
    "    Q1(filename)\n",
    "    # Q2\n",
    "    Q2(shred(filename), 0)\n",
    "    # Q3\n",
    "    Q3(filename)\n",
    "    # Q4\n",
    "    Q4(filename)"
   ]
  },
  {
   "cell_type": "code",
   "execution_count": 10,
   "metadata": {},
   "outputs": [
    {
     "name": "stdout",
     "output_type": "stream",
     "text": [
      "Q1\n",
      "A 33\n",
      "B 7\n",
      "C 11\n",
      "D 24\n",
      "E 35\n",
      "F 1\n",
      "G 3\n",
      "H 2\n",
      "I 19\n",
      "J 1\n",
      "K 0\n",
      "L 20\n",
      "M 4\n",
      "N 20\n",
      "O 22\n",
      "P 3\n",
      "Q 0\n",
      "R 10\n",
      "S 16\n",
      "T 10\n",
      "U 8\n",
      "V 1\n",
      "W 0\n",
      "X 0\n",
      "Y 2\n",
      "Z 2\n",
      "Q2\n",
      "-81.9590\n",
      "-69.5183\n",
      "Q3\n",
      "-731.9632\n",
      "-702.5217\n",
      "Q4\n",
      "0.0000\n"
     ]
    }
   ],
   "source": [
    "main()"
   ]
  }
 ],
 "metadata": {
  "kernelspec": {
   "display_name": "Python 3",
   "language": "python",
   "name": "python3"
  },
  "language_info": {
   "codemirror_mode": {
    "name": "ipython",
    "version": 3
   },
   "file_extension": ".py",
   "mimetype": "text/x-python",
   "name": "python",
   "nbconvert_exporter": "python",
   "pygments_lexer": "ipython3",
   "version": "3.11.3"
  },
  "orig_nbformat": 4
 },
 "nbformat": 4,
 "nbformat_minor": 2
}
