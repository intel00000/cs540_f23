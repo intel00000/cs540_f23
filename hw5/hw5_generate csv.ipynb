{
 "cells": [
  {
   "cell_type": "code",
   "execution_count": 1,
   "metadata": {},
   "outputs": [],
   "source": [
    "# crawl data from the web page: https://climatology.nelson.wisc.edu/first-order-station-climate-data/madison-climate/lake-ice/history-of-ice-freezing-and-thawing-on-lake-mendota/\n",
    "\n",
    "import requests\n",
    "from bs4 import BeautifulSoup\n",
    "import pandas as pd\n",
    "import matplotlib.pyplot as plt\n",
    "\n",
    "# get the html content from the web page\n",
    "url = 'https://climatology.nelson.wisc.edu/first-order-station-climate-data/madison-climate/lake-ice/history-of-ice-freezing-and-thawing-on-lake-mendota/'\n",
    "html_content = requests.get(url).text\n",
    "\n",
    "# parse the html content\n",
    "soup = BeautifulSoup(html_content, \"html.parser\")"
   ]
  },
  {
   "cell_type": "code",
   "execution_count": 3,
   "metadata": {},
   "outputs": [],
   "source": [
    "# find the table\n",
    "table = soup.find(\"table\")\n",
    "# grep the table header\n",
    "# convert the table into a csv, only collect the column winter and Days of Ice Cover\n",
    "output = [['year', 'days']]\n",
    "# grep the table content\n",
    "for row in table.find_all(\"tr\")[1:]:\n",
    "    col = row.find_all(\"td\")\n",
    "    year = col[0].text.strip()\n",
    "    days = col[3].text.strip()\n",
    "    year = year.split('-')[0]\n",
    "    # if day content is '-', don't add it into the table\n",
    "    if days != '–' and int(year) >= 1855 and int(year) <= 2021:\n",
    "        output.append([year, days])\n",
    "\n",
    "output\n",
    "# convert the table into a csv\n",
    "df = pd.DataFrame(output)\n",
    "df.columns = df.iloc[0]\n",
    "# remove the first row\n",
    "df = df.iloc[1:]\n",
    "# reverse the table\n",
    "df = df.sort_values(by=['year'], ascending=True)\n",
    "df.to_csv('hw5.csv', index=False)"
   ]
  }
 ],
 "metadata": {
  "kernelspec": {
   "display_name": "Python 3",
   "language": "python",
   "name": "python3"
  },
  "language_info": {
   "codemirror_mode": {
    "name": "ipython",
    "version": 3
   },
   "file_extension": ".py",
   "mimetype": "text/x-python",
   "name": "python",
   "nbconvert_exporter": "python",
   "pygments_lexer": "ipython3",
   "version": "3.11.5"
  }
 },
 "nbformat": 4,
 "nbformat_minor": 2
}
